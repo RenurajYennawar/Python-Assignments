{
 "cells": [
  {
   "cell_type": "markdown",
   "metadata": {
    "colab_type": "text",
    "id": "IDErpvQjSP_s"
   },
   "source": [
    "# List\n",
    "### Data Structure:\n",
    "\n",
    "A data structure is a collection of data elements (such as numbers or characters—or even other data structures) that is structured in some way, for example, by numbering the elements. The most basic data structure in Python is the \"sequence\".\n",
    "\n",
    "1. List is one of the Sequence Data structure\n",
    "2. Lists are collection of items (Strings, integers or even other lists)\n",
    "3. Lists are enclosed in [ ]\n",
    "4. Each item in the list has an assigned index value.\n",
    "5. Each item in a list is separated by a comma\n",
    "6. Lists are mutable, which means they can be changed.\n"
   ]
  },
  {
   "cell_type": "markdown",
   "metadata": {
    "colab_type": "text",
    "id": "h7lttZTeSP_t"
   },
   "source": [
    "### 1. List Creation"
   ]
  },
  {
   "cell_type": "code",
   "execution_count": null,
   "metadata": {
    "colab": {
     "base_uri": "https://localhost:8080/",
     "height": 54
    },
    "colab_type": "code",
    "id": "d4fHXS7sSP_u",
    "outputId": "a3554a48-7619-4d15-a73b-990ac911ea60"
   },
   "outputs": [
    {
     "name": "stdout",
     "output_type": "stream",
     "text": [
      "<class 'list'>\n",
      "[1, 'nilesh', 24, 1.24, [1, 2, 3]]\n"
     ]
    }
   ],
   "source": [
    "emptyList = [] # This creates an empty List\n",
    "print(type(emptyList))\n",
    "\n",
    "lst = ['one', 'two', 'three', 'four'] # list of strings\n",
    "\n",
    "lst2 = [1, 2, 3, 4] #list of integers\n",
    "\n",
    "lst3 = [[1, 2], [3, 4]] # list of lists\n",
    "\n",
    "lst4 = [1, 'nilesh', 24, 1.24, [1,2,3]] # list of different datatypes\n",
    "\n",
    "print(lst4)\n"
   ]
  },
  {
   "cell_type": "markdown",
   "metadata": {
    "colab_type": "text",
    "id": "wPjVKT_2SP_z"
   },
   "source": [
    "### 2. List Length"
   ]
  },
  {
   "cell_type": "code",
   "execution_count": null,
   "metadata": {
    "colab": {
     "base_uri": "https://localhost:8080/",
     "height": 34
    },
    "colab_type": "code",
    "id": "2pVqoWyRSP_1",
    "outputId": "04af3f81-d5a6-4f4e-b80f-addc4fbde0d1"
   },
   "outputs": [
    {
     "name": "stdout",
     "output_type": "stream",
     "text": [
      "Length of list is 9\n"
     ]
    }
   ],
   "source": [
    "L = [1,2,3,4,5,6,7,8,8]\n",
    "print(\"Length of list is {}\".format(len(L))) # len() is a function to find out length/ number of items in list"
   ]
  },
  {
   "cell_type": "markdown",
   "metadata": {
    "colab_type": "text",
    "id": "2QpqADHESP_5"
   },
   "source": [
    "### 3. List Append\n",
    "Append function adds items to the end of the list\n",
    "\n",
    "***Syntax:***\n",
    "\n",
    "List_name.append(item_name)"
   ]
  },
  {
   "cell_type": "code",
   "execution_count": null,
   "metadata": {
    "colab": {
     "base_uri": "https://localhost:8080/",
     "height": 35
    },
    "colab_type": "code",
    "id": "NQubPtXwSP_6",
    "outputId": "42236a4f-411e-4518-f0b3-d16f64589e7f"
   },
   "outputs": [
    {
     "name": "stdout",
     "output_type": "stream",
     "text": [
      "[2, 3, 45, 1, 999, 999, 888, 999, 888, 999, 888, 999, 888]\n"
     ]
    }
   ],
   "source": [
    "L.append(999) #element 999 is added at the end of list L\n",
    "#print(L)\n",
    "L.append(888)\n",
    "print(L)"
   ]
  },
  {
   "cell_type": "markdown",
   "metadata": {
    "colab_type": "text",
    "id": "jY_8jMXlSP_9"
   },
   "source": [
    "### 4. List Insert\n",
    "1. To insert an element in the list at particular location we use insert function.\n",
    "2. insert function takes two arguments, location and item to be inserted\n",
    "\n",
    "***syntax:***\n",
    "\n",
    "list_name.insert ( location , item )\n"
   ]
  },
  {
   "cell_type": "code",
   "execution_count": null,
   "metadata": {
    "colab": {
     "base_uri": "https://localhost:8080/",
     "height": 35
    },
    "colab_type": "code",
    "id": "fD4Lu3NNSP_-",
    "outputId": "55a919f2-7f74-438b-bbbf-68627483ea10"
   },
   "outputs": [
    {
     "name": "stdout",
     "output_type": "stream",
     "text": [
      "['n', 'i', 'l', 'e', 's', 'h']\n"
     ]
    }
   ],
   "source": [
    "L = ['n', 'i', 'l', 's','h'] # here at location 3 'e' letter is missing in the name nilesh\n",
    "                             # 's' and 'h' are shifted to the right by one position\n",
    "L.insert(3,'e')              # insert function inserts 'e' letter at the location 3\n",
    "\n",
    "print(L)"
   ]
  },
  {
   "cell_type": "code",
   "execution_count": null,
   "metadata": {
    "colab": {
     "base_uri": "https://localhost:8080/",
     "height": 35
    },
    "colab_type": "code",
    "id": "7SNf8DcePMTY",
    "outputId": "ccd0d7aa-959e-49cb-b778-cd416eed5408"
   },
   "outputs": [
    {
     "name": "stdout",
     "output_type": "stream",
     "text": [
      "['n', 'i', 'l', 'e', 'e', 'e', 's', 'h']\n"
     ]
    }
   ],
   "source": [
    "L.insert(0,'e')\n",
    "print(L)"
   ]
  },
  {
   "cell_type": "code",
   "execution_count": null,
   "metadata": {
    "colab": {
     "base_uri": "https://localhost:8080/",
     "height": 35
    },
    "colab_type": "code",
    "id": "esxx6cnD6_DN",
    "outputId": "0bf15078-0fb6-445a-a881-cfcf20b45388"
   },
   "outputs": [
    {
     "name": "stdout",
     "output_type": "stream",
     "text": [
      "['N', 'i', 'l', 'e', 'e', 'e', 's', 'h']\n"
     ]
    }
   ],
   "source": [
    "L[0] = 'N'\n",
    "print(L)"
   ]
  },
  {
   "cell_type": "markdown",
   "metadata": {
    "colab_type": "text",
    "id": "lor3o1iGSQAB"
   },
   "source": [
    "### 5. List Remove\n",
    "1. To remove an item from the list we use remove() function\n",
    "2. We donot need to pass location in the remove function\n",
    "3. Just pass item name that you want to remove from the list\n",
    "\n",
    "***syntax:***\n",
    "\n",
    "list_name.remove( item_name )"
   ]
  },
  {
   "cell_type": "code",
   "execution_count": null,
   "metadata": {
    "colab": {
     "base_uri": "https://localhost:8080/",
     "height": 244
    },
    "colab_type": "code",
    "id": "VRe5HZG5SQAB",
    "outputId": "c2c2c938-bcc2-43ff-c848-f4e7d5b68522"
   },
   "outputs": [
    {
     "name": "stdout",
     "output_type": "stream",
     "text": [
      "['n', 'i', 'l', 's']\n",
      "[1, 2, 44, 55, 3, 3, 3, 3, 3, 3, 3]\n"
     ]
    },
    {
     "ename": "ValueError",
     "evalue": "ignored",
     "output_type": "error",
     "traceback": [
      "\u001b[0;31m---------------------------------------------------------------------------\u001b[0m",
      "\u001b[0;31mValueError\u001b[0m                                Traceback (most recent call last)",
      "\u001b[0;32m<ipython-input-3-6641dedbb2fd>\u001b[0m in \u001b[0;36m<module>\u001b[0;34m()\u001b[0m\n\u001b[1;32m     14\u001b[0m \u001b[0;31m# in this case first occurance of '3' is removed!\u001b[0m\u001b[0;34m\u001b[0m\u001b[0;34m\u001b[0m\u001b[0;34m\u001b[0m\u001b[0m\n\u001b[1;32m     15\u001b[0m \u001b[0;34m\u001b[0m\u001b[0m\n\u001b[0;32m---> 16\u001b[0;31m \u001b[0mL0\u001b[0m\u001b[0;34m.\u001b[0m\u001b[0mremove\u001b[0m\u001b[0;34m(\u001b[0m\u001b[0;36m89\u001b[0m\u001b[0;34m)\u001b[0m\u001b[0;34m\u001b[0m\u001b[0;34m\u001b[0m\u001b[0m\n\u001b[0m",
      "\u001b[0;31mValueError\u001b[0m: list.remove(x): x not in list"
     ]
    }
   ],
   "source": [
    "L0 = ['n', 'i', 'l', 's','h']\n",
    "L0.remove('h') # letter 'h' from list will be removed\n",
    "print(L0)\n",
    "\n",
    "# what if you try to remove an item that is not present in the list?\n",
    "#L.remove('k') # this will throw error as 'k' item is not present in the list\n",
    "\n",
    "#what if multiple occurances of item that we want to remove from the list ?\n",
    "\n",
    "L1 = [1,2,3,44,55,3,3,3,3,3,3,3]\n",
    "L1.remove(3)\n",
    "print(L1)\n",
    "\n",
    "# in this case first occurance of '3' is removed!\n",
    "\n",
    "L0.remove(89)"
   ]
  },
  {
   "cell_type": "markdown",
   "metadata": {
    "colab_type": "text",
    "id": "fI500IuBSQAF"
   },
   "source": [
    "### 6. List Delete or Pop\n",
    "1. To delete list item using index del ***keyword*** is used\n",
    "2. It takes only one argument i.e. index location of which you want to delete item\n",
    "3. Similar operation can be performed using function pop()\n",
    "4. pop() function takes index location as an argument\n",
    "5. Both operations performs left shift of following items after deletion\n",
    "6. pop() function also returns the deleted value\n",
    "***syntax:***\n",
    "\n",
    "del list_name[index]\n",
    "\n",
    "var_name = list_name.pop(index)"
   ]
  },
  {
   "cell_type": "code",
   "execution_count": null,
   "metadata": {
    "colab": {
     "base_uri": "https://localhost:8080/",
     "height": 54
    },
    "colab_type": "code",
    "id": "1hTxpDKsSQAF",
    "outputId": "24b53807-74bd-4c24-ddac-85e47e302d52"
   },
   "outputs": [
    {
     "name": "stdout",
     "output_type": "stream",
     "text": [
      "List after pop  [1, 2, 3, 4, 6, 7, 8]\n",
      "poped item:  5\n"
     ]
    }
   ],
   "source": [
    "L1 = [1,2,3,4,5,6,7,8]\n",
    "\n",
    "#del L1[4] # deletes the item from list L1 indexed at location 4\n",
    "#print(\"List after delete \", L1)\n",
    "\n",
    "var = L1.pop(4)\n",
    "print(\"List after pop \", L1)\n",
    "\n",
    "print(\"poped item: \",var)"
   ]
  },
  {
   "cell_type": "markdown",
   "metadata": {
    "colab_type": "text",
    "id": "AkU7_vsLSQAK"
   },
   "source": [
    "### 7. List Append\n",
    "1. It appends list at the end of another list\n",
    "2. Note that another appended list is considered as an item in the original list\n",
    "\n",
    "***syntax:***\n",
    "\n",
    "list1.append(list2)"
   ]
  },
  {
   "cell_type": "code",
   "execution_count": null,
   "metadata": {
    "colab": {
     "base_uri": "https://localhost:8080/",
     "height": 35
    },
    "colab_type": "code",
    "id": "eEhUN2q8SQAL",
    "outputId": "51db4300-6ac3-4f92-f6ee-53ab3361b341"
   },
   "outputs": [
    {
     "name": "stdout",
     "output_type": "stream",
     "text": [
      "[1, 2, 3, ['a', 'b', 'c']]\n"
     ]
    }
   ],
   "source": [
    "L1 = [1,2,3]\n",
    "L2 = ['a','b','c']\n",
    "\n",
    "L1.append(L2) # Entire L2 as a list will be appended at the end of list L1\n",
    "print(L1)"
   ]
  },
  {
   "cell_type": "markdown",
   "metadata": {
    "colab_type": "text",
    "id": "ujCQmtd5SQAO"
   },
   "source": [
    "### 8. List Extend\n",
    "1. It extends the original list with another list items\n",
    "2. First list items remains as it is, second list items are appended as items.\n",
    "3. Unlike Append where entire list is appended as an item in original list\n",
    "\n",
    "***syntax:***\n",
    "\n",
    "list1.extend(list2)"
   ]
  },
  {
   "cell_type": "code",
   "execution_count": null,
   "metadata": {
    "colab": {
     "base_uri": "https://localhost:8080/",
     "height": 35
    },
    "colab_type": "code",
    "id": "x1GW1VkjSQAO",
    "outputId": "f435341f-e01e-442b-c40d-5dc390a7b2bc"
   },
   "outputs": [
    {
     "name": "stdout",
     "output_type": "stream",
     "text": [
      "[1, 2, 3]\n"
     ]
    }
   ],
   "source": [
    "L1 = [1,2,3]\n",
    "L2 = ['a','b','c']\n",
    "\n",
    "L1.extend(L2) # items of L2 are appended as items at the end of L1 list\n",
    "\n",
    "print(L1)"
   ]
  },
  {
   "cell_type": "code",
   "execution_count": null,
   "metadata": {
    "colab": {
     "base_uri": "https://localhost:8080/",
     "height": 35
    },
    "colab_type": "code",
    "id": "SVwA7VN8O9Vz",
    "outputId": "f1a2bde2-9765-4471-f704-e6a7cce2687a"
   },
   "outputs": [
    {
     "name": "stdout",
     "output_type": "stream",
     "text": [
      "[1, 2, 3, 'a', 'b', 'c']\n"
     ]
    }
   ],
   "source": [
    "for ele in L2:\n",
    "  L1.append(ele)\n",
    "print(L1)"
   ]
  },
  {
   "cell_type": "markdown",
   "metadata": {
    "colab_type": "text",
    "id": "CNwkI6fySQAR"
   },
   "source": [
    "### 9. List Reverse\n",
    "1. The reverse function is used to completely reverse the strin items\n",
    "\n",
    "***syntax:***\n",
    "\n",
    "List_name.reverse()\n"
   ]
  },
  {
   "cell_type": "code",
   "execution_count": null,
   "metadata": {
    "colab": {
     "base_uri": "https://localhost:8080/",
     "height": 54
    },
    "colab_type": "code",
    "id": "4yDPqLsgSQAS",
    "outputId": "c6f63813-9931-4d52-d986-c4cfc3887316"
   },
   "outputs": [
    {
     "name": "stdout",
     "output_type": "stream",
     "text": [
      "List before reverse [1, 2, 3, 4, 5, 6]\n",
      "List after reverse [6, 5, 4, 3, 2, 1]\n"
     ]
    }
   ],
   "source": [
    "L = [1,2,3,4,5,6]\n",
    "print(\"List before reverse\",L)\n",
    "L.reverse()\n",
    "print(\"List after reverse\",L)"
   ]
  },
  {
   "cell_type": "code",
   "execution_count": null,
   "metadata": {
    "colab": {
     "base_uri": "https://localhost:8080/",
     "height": 35
    },
    "colab_type": "code",
    "id": "1MtY4k1uPqlB",
    "outputId": "877a36c9-6324-4d16-ae55-9e1058420ca7"
   },
   "outputs": [
    {
     "name": "stdout",
     "output_type": "stream",
     "text": [
      "[6, 5, 4, 3, 2, 1]\n"
     ]
    }
   ],
   "source": [
    "L = [1,2,3,4,5,6]\n",
    "l1 = []\n",
    "# l1[:] = L[::-1]\n",
    "# print(l1) \n",
    "                \n",
    "for i in range(len(L)-1,-1,-1): #range(5,-1,-1)\n",
    "  l1.append(L[i])\n",
    "print(l1)\n"
   ]
  },
  {
   "cell_type": "markdown",
   "metadata": {
    "colab_type": "text",
    "id": "aSUvAJkfSQAV"
   },
   "source": [
    "### 10. List Sorting\n",
    "### 10.1 using sorted() function\n",
    "\n",
    "1. The easiest way to sort a List is with the sorted(list) function.\n",
    "2. That takes a list and returns a new list with those elements in sorted order.\n",
    "3. The original list is not changed.\n",
    "4. The sorted() optional argument reverse=True, e.g. sorted(list, reverse=True), makes it sort backwards.\n",
    "\n",
    "***syntax***\n",
    "\n",
    "sorted_list = sorted(input_list)                  # for ascending order\n",
    "\n",
    "sorted_list = sorted(input_list, reverse = True)  # for descending order"
   ]
  },
  {
   "cell_type": "code",
   "execution_count": null,
   "metadata": {
    "colab": {
     "base_uri": "https://localhost:8080/",
     "height": 72
    },
    "colab_type": "code",
    "id": "q68EyFg7SQAW",
    "outputId": "cdc295f4-c7f1-4240-fb97-a55c87300e65"
   },
   "outputs": [
    {
     "name": "stdout",
     "output_type": "stream",
     "text": [
      "L is  [1, 6, 88, 2, 3, -1, 4, 5, 120, 6, 7, 8]\n",
      "sorted_L is [-1, 1, 2, 3, 4, 5, 6, 6, 7, 8, 88, 120]\n",
      "sorted_L is [120, 88, 8, 7, 6, 6, 5, 4, 3, 2, 1, -1]\n"
     ]
    }
   ],
   "source": [
    "L = [1,6,88,2,3,-1, 4,5, 120, 6,7,8]\n",
    "print(\"L is \", L)\n",
    "sorted_L = sorted(L)\n",
    "print(\"sorted_L is\",sorted_L)# Sorts list in ascending order by default\n",
    "\n",
    "sorted_L_reerse = sorted(L, reverse = True)\n",
    "print(\"sorted_L is\",sorted_L_reerse) # Sorts list in descending order"
   ]
  },
  {
   "cell_type": "markdown",
   "metadata": {
    "colab_type": "text",
    "id": "RShYR3CKSQAc"
   },
   "source": [
    "### 10.2 using sort() function\n",
    "1. sort() function sorts the list itself \n",
    "2. No need to create new list store sorted list\n",
    "\n",
    "***syntax:***\n",
    "\n",
    "list_name.sort()"
   ]
  },
  {
   "cell_type": "code",
   "execution_count": null,
   "metadata": {
    "colab": {
     "base_uri": "https://localhost:8080/",
     "height": 54
    },
    "colab_type": "code",
    "id": "cG9UEVvhSQAc",
    "outputId": "e90ef6ef-b965-4b67-d825-db6459b18b95"
   },
   "outputs": [
    {
     "name": "stdout",
     "output_type": "stream",
     "text": [
      "L1 before sorting:  [1, 2, 3, 55, -1, 0, 54, -7]\n",
      "L1 after sorting:  [-7, -1, 0, 1, 2, 3, 54, 55]\n"
     ]
    }
   ],
   "source": [
    "L1 = [1,2,3,55,-1,0,54,-7]\n",
    "print(\"L1 before sorting: \",L1)\n",
    "L1.sort()\n",
    "print(\"L1 after sorting: \",L1)"
   ]
  },
  {
   "cell_type": "markdown",
   "metadata": {
    "colab_type": "text",
    "id": "cb5OuTAcSQAf"
   },
   "source": [
    "### 11. List having multiple references\n"
   ]
  },
  {
   "cell_type": "code",
   "execution_count": null,
   "metadata": {
    "colab": {
     "base_uri": "https://localhost:8080/",
     "height": 90
    },
    "colab_type": "code",
    "id": "09nmL39jSQAg",
    "outputId": "b6d2029c-7342-4af4-cbd1-a33da8075484"
   },
   "outputs": [
    {
     "name": "stdout",
     "output_type": "stream",
     "text": [
      "List1 =  [1, 2, 3, 4, 6]     List2 =  [1, 2, 3, 4, 6]\n",
      "Adress of  List1:  139950580597448\n",
      "Adress of  List2:  139950580165448\n",
      "List1 =  [1, 2, 3, 4, 6]     List2 =  [1, 2, 3, 23659, 6]\n"
     ]
    }
   ],
   "source": [
    "List1 = [1,2,3,4,6]\n",
    "List2 = List1.copy() # This is not a deep copy but a shallow copy\n",
    "print(\"List1 = \",List1,\"    List2 = \", List2)\n",
    "print(\"Adress of  List1: \", id(List1))\n",
    "print(\"Adress of  List2: \", id(List2)) # Both list variables points at same memory location\n",
    "# #Python internally tries to optimize memory allocation\n",
    "\n",
    "# #if you make change in List1? Changes are reflected in both lists\n",
    "List2[3] = 23659\n",
    "print(\"List1 = \",List1,\"    List2 = \", List2)\n",
    "# print(\"Adress of  List1: \", id(List1))\n",
    "# print(\"Adress of  List2: \", id(List2)) # Both list variables points at same memory location\n",
    "\n"
   ]
  },
  {
   "cell_type": "markdown",
   "metadata": {
    "colab_type": "text",
    "id": "Mtf3hd3OSQAj"
   },
   "source": [
    "### 9. Two keywords used on List: ***in*** and ***not in*** \n",
    "1. \"in\" checks whether item is present in the list or not\n",
    "2. \"not in\" checks whether item is not present in the list or not"
   ]
  },
  {
   "cell_type": "code",
   "execution_count": null,
   "metadata": {
    "colab": {
     "base_uri": "https://localhost:8080/",
     "height": 54
    },
    "colab_type": "code",
    "id": "hADIE3WsSQAj",
    "outputId": "6ba27022-212a-450e-ee95-2798ab08bc94"
   },
   "outputs": [
    {
     "name": "stdout",
     "output_type": "stream",
     "text": [
      "3 present in list\n",
      "5 not present in list\n"
     ]
    }
   ],
   "source": [
    "L1 = [1,2,3,4,6]\n",
    "if 3 in L1:\n",
    "    print(\"3 present in list\")\n",
    "if 5 not in L1:\n",
    "    print(\"5 not present in list\")"
   ]
  },
  {
   "cell_type": "markdown",
   "metadata": {
    "colab_type": "text",
    "id": "x6O_qXqTSQAn"
   },
   "source": [
    "### 10. String Split to create list\n",
    "1. Sometimes it is necessary to convert string into a list to perform list related operations.\n",
    "\n",
    "***syntax:***\n",
    "\n",
    "string_name.split('sepearator')\n",
    "\n",
    "1. Here split function takes and argument as a seperator. string is converted into list elements based on these seperator\n",
    "2. If parameter is not passed then default seperator is whitespace"
   ]
  },
  {
   "cell_type": "code",
   "execution_count": null,
   "metadata": {
    "colab": {
     "base_uri": "https://localhost:8080/",
     "height": 35
    },
    "colab_type": "code",
    "id": "CjfxKVWISQAn",
    "outputId": "b32cca4d-12a5-4fa7-d4e6-96478dac989f"
   },
   "outputs": [
    {
     "name": "stdout",
     "output_type": "stream",
     "text": [
      "['one', ' two', ' three', ' four', ' five']\n"
     ]
    }
   ],
   "source": [
    "# string = \"My name is nilesh. I like Python\"\n",
    "# List = string.split() # default split method considers whitespace as sperator\n",
    "# print(List)\n",
    "\n",
    "string1 = \"one, two, three, four, five\"\n",
    "List1 = string1.split(',') # here ',' is considered as seperator\n",
    "print(List1)\n",
    "\n",
    "# List3 = string.split(',') # Though here ',' is not availabe hence entire string is considered as list item\n",
    "# print(List3)\n"
   ]
  },
  {
   "cell_type": "code",
   "execution_count": null,
   "metadata": {
    "colab": {
     "base_uri": "https://localhost:8080/",
     "height": 72
    },
    "colab_type": "code",
    "id": "l16T_MPnWspZ",
    "outputId": "c4528872-9327-416b-bd0a-9d6cf5c22ff1"
   },
   "outputs": [
    {
     "name": "stdout",
     "output_type": "stream",
     "text": [
      "Enter Two numbers3,4\n",
      "3\n",
      "4\n"
     ]
    }
   ],
   "source": [
    "num1, num2 = input(\"Enter Two numbers\").split(\",\")\n",
    "\n",
    "print(num1)\n",
    "print(num2)"
   ]
  },
  {
   "cell_type": "markdown",
   "metadata": {
    "colab_type": "text",
    "id": "v5OgnSeQSQAq"
   },
   "source": [
    "### 11. List Indexing\n",
    "1. List is an ordered collection of items of different types\n",
    "2. one can access list items using indices\n",
    "3. Slicing of list is Accessing parts of segments.\n",
    "\n",
    "***syntax:***\n",
    "\n",
    "list[start_index: end_index: step_size]\n"
   ]
  },
  {
   "cell_type": "code",
   "execution_count": null,
   "metadata": {
    "colab": {
     "base_uri": "https://localhost:8080/",
     "height": 145
    },
    "colab_type": "code",
    "id": "Wgj6xjytSQAr",
    "outputId": "f7adc8e5-6ec5-417f-f069-a73c4728956e"
   },
   "outputs": [
    {
     "name": "stdout",
     "output_type": "stream",
     "text": [
      "5\n",
      "9\n",
      "[8, 9]\n",
      "[2, 3, 4, 5, 6, 7, 8, 9]\n",
      "[0, 1, 2, 3, 4, 5, 6, 7, 8, 9]\n",
      "[2, 4, 6]\n",
      "[0, 2, 4, 6, 8]\n"
     ]
    }
   ],
   "source": [
    "L = [0,1,2,3,4,5,6,7,8,9]\n",
    "print(L[5])   # prints list item indexed at location 5\n",
    "print(L[-1])  # prints last list item \n",
    "print(L[-2:]) # prints all list item staring from second last index till list ends\n",
    "print(L[2:])  # prints all list item staring from index 2 item till list ends\n",
    "print(L[:])   # prints all elements of the list\n",
    "\n",
    "print(L[2:8:2]) # prints list element starting from index 2 to index 8 with step size 2\n",
    "\n",
    "print(L[::2]) # prints list element starting from index 0 to last element of list with step size 2"
   ]
  },
  {
   "cell_type": "markdown",
   "metadata": {
    "colab_type": "text",
    "id": "hJgK8Q9ESQAv"
   },
   "source": [
    "### 12. List extending using '+' operator\n",
    "1. Two list elements are combined to form new list using '+' operator\n",
    "2. The order of elements remains are as per the squence of operands"
   ]
  },
  {
   "cell_type": "code",
   "execution_count": null,
   "metadata": {
    "colab": {
     "base_uri": "https://localhost:8080/",
     "height": 35
    },
    "colab_type": "code",
    "id": "HlolWqI_SQAv",
    "outputId": "b0d0f454-274f-469b-af62-a796d3790276"
   },
   "outputs": [
    {
     "name": "stdout",
     "output_type": "stream",
     "text": [
      "['a', 'b', 'c', 1, 2, 3]\n"
     ]
    }
   ],
   "source": [
    "L1 = ['a','b','c']\n",
    "L2 = [1,2,3]\n",
    "\n",
    "L3 = L1+L2\n",
    "\n",
    "print(L3)"
   ]
  },
  {
   "cell_type": "markdown",
   "metadata": {
    "colab_type": "text",
    "id": "8qiqBmLwSQAy"
   },
   "source": [
    "### 13. List count\n",
    "1. This function is widely used in data science applications\n",
    "2. To count particular occuarnces (frequency) of an element from the list count() function is used\n",
    "\n",
    "***syntax:***\n",
    "\n",
    "list_name.count(item_name)"
   ]
  },
  {
   "cell_type": "code",
   "execution_count": null,
   "metadata": {
    "colab": {
     "base_uri": "https://localhost:8080/",
     "height": 35
    },
    "colab_type": "code",
    "id": "pnNPjT4rSQAy",
    "outputId": "18e43093-6474-4304-a59b-ef77ee8ebabf"
   },
   "outputs": [
    {
     "name": "stdout",
     "output_type": "stream",
     "text": [
      "4\n"
     ]
    }
   ],
   "source": [
    "L = [1,54,76,98,0,2,456,768,1,0,54,1,65,78,238,1,0,0]\n",
    "\n",
    "print(L.count(0)) # prints number of occurances of list item '1' in L\n"
   ]
  },
  {
   "cell_type": "markdown",
   "metadata": {
    "colab_type": "text",
    "id": "0xdeMv7KSQA1"
   },
   "source": [
    "### 14. Looping through list"
   ]
  },
  {
   "cell_type": "code",
   "execution_count": null,
   "metadata": {
    "colab": {
     "base_uri": "https://localhost:8080/",
     "height": 108
    },
    "colab_type": "code",
    "id": "glwPMDpjXhVZ",
    "outputId": "9ce15460-0ae4-41ae-d630-b0610d25f9a1"
   },
   "outputs": [
    {
     "name": "stdout",
     "output_type": "stream",
     "text": [
      "nilesh\n",
      "likes\n",
      "Python\n",
      "the\n",
      "most\n"
     ]
    }
   ],
   "source": [
    "L = ['nilesh', 'likes', 'Python', 'the', 'most']\n",
    "for i in range(0,len(L)):\n",
    "  print(L[i])"
   ]
  },
  {
   "cell_type": "code",
   "execution_count": null,
   "metadata": {
    "colab": {
     "base_uri": "https://localhost:8080/",
     "height": 108
    },
    "colab_type": "code",
    "id": "EWngoeWGSQA1",
    "outputId": "1c90f506-9163-41d2-b34e-4797bdc45cc1"
   },
   "outputs": [
    {
     "name": "stdout",
     "output_type": "stream",
     "text": [
      "nilesh\n",
      "likes\n",
      "Python\n",
      "the\n",
      "most\n"
     ]
    }
   ],
   "source": [
    "L = ['nilesh', 'likes', 'Python', 'the', 'most']\n",
    "\n",
    "for god in L:\n",
    "    print(god)"
   ]
  },
  {
   "cell_type": "markdown",
   "metadata": {
    "colab_type": "text",
    "id": "_aJuOF-ISQA4"
   },
   "source": [
    "### 15. List Comprehensions\n",
    "\n",
    "1. List comprehensions provide a concise way to create lists.\n",
    "2. Common applications are to make new lists where each element is the result of some operations applied to each member of another sequence or iterable, or to create a subsequence of those elements that satisfy a certain condition.\n"
   ]
  },
  {
   "cell_type": "code",
   "execution_count": 6,
   "metadata": {
    "colab": {
     "base_uri": "https://localhost:8080/",
     "height": 35
    },
    "colab_type": "code",
    "id": "x6d0UBEmSQA5",
    "outputId": "21d54c61-6adc-42e9-abff-4d7a92b5bc22"
   },
   "outputs": [
    {
     "name": "stdout",
     "output_type": "stream",
     "text": [
      "[1, 4, 9, 16, 25, 36, 49, 64, 81, 100]\n"
     ]
    }
   ],
   "source": [
    "# example to create list which stores squares of first 10 numbers\n",
    "\n",
    "# Without List Comprehensions\n",
    "\n",
    "Squares = [] # created an empty list 1, 4, 9, 16, 25 .... 100\n",
    "\n",
    "# for i in range(1,11,1):\n",
    "#     Squares.append(i**2)\n",
    "# print(Squares)\n",
    "\n",
    "squares2 = [i ** 2 for i in range(1,11,1)]\n",
    "print(squares2)\n",
    "\n",
    "\n",
    "\n",
    "\n",
    "# # With List Coprehensions\n",
    "\n",
    "# squares = [i ** 2 for i in range(10)] # Same functionality but reduced code size\n",
    "# print(squares)"
   ]
  },
  {
   "cell_type": "markdown",
   "metadata": {
    "colab_type": "text",
    "id": "h5Hd-N_oSQA8"
   },
   "source": [
    "### more examples on list comprehensions"
   ]
  },
  {
   "cell_type": "code",
   "execution_count": 11,
   "metadata": {
    "colab": {
     "base_uri": "https://localhost:8080/",
     "height": 54
    },
    "colab_type": "code",
    "id": "Rfz52_85SQA9",
    "outputId": "7be4d1cf-7971-4ac2-9191-607560a0ac78"
   },
   "outputs": [
    {
     "name": "stdout",
     "output_type": "stream",
     "text": [
      "List     =  [0, 1, -2, 3, 4, -5, 6, 7, 8, -9]\n",
      "[(0, 0), (1, 1), (-2, 4), (3, 9), (4, 16), (-5, 25), (6, 36), (7, 49), (8, 64), (-9, 81)]\n"
     ]
    }
   ],
   "source": [
    "List = [0,1,-2,3,4,-5,6,7,8,-9]\n",
    "print(\"List     = \",List)\n",
    "# # list comprehension to double every element of the List and store in new list\n",
    "# newList = [ele * 2 for ele in List]\n",
    "# print(\"New List = \", newList)\n",
    "\n",
    "# # for ele in List:\n",
    "# #   newList.append(ele*2) \n",
    "\n",
    "1, 1\n",
    "2, 4\n",
    "3, 9\n",
    "\n",
    "negativeNums = []\n",
    "for ele in List:\n",
    "    negativeNums.append((ele,ele**2))\n",
    "print(negativeNums)\n",
    "\n",
    "negativeNums = [(ele,ele**2) for ele in List]\n",
    "print(negativeNums)\n",
    "# # list comprehension to print only positive numbers\n",
    "# newList = [i for i in List if i > 0]\n",
    "# print(\"New List = \", newList, \"Printing only +ve numbers\")\n",
    "\n",
    "# # List comprehensions to create list of tuples\n",
    "\n",
    "# newList = [(i,i*2) for i in List]\n",
    "# print(newList)"
   ]
  },
  {
   "cell_type": "code",
   "execution_count": null,
   "metadata": {
    "colab": {},
    "colab_type": "code",
    "id": "7JOTlIEwjcfz"
   },
   "outputs": [],
   "source": []
  },
  {
   "cell_type": "markdown",
   "metadata": {
    "colab_type": "text",
    "id": "1-vwPqZ_SQBA"
   },
   "source": [
    "### Matrix transpose with and without list comprehensions"
   ]
  },
  {
   "cell_type": "code",
   "execution_count": 17,
   "metadata": {
    "colab": {
     "base_uri": "https://localhost:8080/",
     "height": 54
    },
    "colab_type": "code",
    "id": "ZJRpzfX-SQBB",
    "outputId": "be712597-84a2-4f18-d15a-39e0f11f6d7e"
   },
   "outputs": [
    {
     "name": "stdout",
     "output_type": "stream",
     "text": [
      "Matrix =  [[1, 2, 3, 4], [5, 6, 7, 8], [-1, -2, -3, -4]]\n",
      "Transposed Matrix =  [[1, 5, -1], [2, 6, -2], [3, 7, -3], [4, 8, -4]]\n"
     ]
    }
   ],
   "source": [
    "Matrix = [\n",
    "    [1,  2,  3,  4],\n",
    "    [5,  6,  7,  8],\n",
    "    [-1,-2, -3, -4]\n",
    "]\n",
    "\n",
    "#print(Matrix[1][2])\n",
    "#Matrix transpose without list comprehensions\n",
    "\n",
    "Transpose = [] # created an empty list\n",
    "\n",
    "for i in range(4):   # i = 1\n",
    "    lst = []         # lst = []\n",
    "    for row in Matrix: #  [5,  6,  7,  8]\n",
    "        lst.append(row[i]) # lst = [2,6]\n",
    "    Transpose.append(lst) # Transpose = [[1,5,-1], ]\n",
    "print(\"Matrix = \",Matrix)\n",
    "print(\"Transposed Matrix = \",Transpose)\n",
    "\n",
    "        "
   ]
  },
  {
   "cell_type": "code",
   "execution_count": null,
   "metadata": {
    "colab": {},
    "colab_type": "code",
    "id": "QY9R0ipTSQBF",
    "outputId": "8116897e-2c7b-4880-ed07-f7c461fc9341"
   },
   "outputs": [
    {
     "name": "stdout",
     "output_type": "stream",
     "text": [
      "Transposed Matrix =  [[1, 5, -1], [2, 6, -2], [3, 7, -3], [4, 8, -4]]\n"
     ]
    }
   ],
   "source": [
    "# Matrix tranpose using List Comprehensions\n",
    "\n",
    "Transposed = [[row[i] for row in Matrix] for i in range(4)]\n",
    "print(\"Transposed Matrix = \",Transposed)\n"
   ]
  },
  {
   "cell_type": "code",
   "execution_count": 20,
   "metadata": {
    "colab": {
     "base_uri": "https://localhost:8080/",
     "height": 54
    },
    "colab_type": "code",
    "id": "jcoiy7if9fNg",
    "outputId": "deab71fe-f95b-462c-d809-f7088590d8b3"
   },
   "outputs": [
    {
     "name": "stdout",
     "output_type": "stream",
     "text": [
      "['N', 'S', 'S']\n",
      "['N', 'S', 'S']\n"
     ]
    }
   ],
   "source": [
    "# create a list with initial letters \n",
    "lst = ['Nilesh', 'Sony', 'Siddhi']\n",
    "\n",
    "initial = []\n",
    "for ele in lst:\n",
    "  initial.append(ele[0])\n",
    "print(initial)\n",
    "\n",
    "\n",
    "lst2 = [name[0] for name in lst]\n",
    "print(lst2)"
   ]
  },
  {
   "cell_type": "code",
   "execution_count": 22,
   "metadata": {
    "colab": {
     "base_uri": "https://localhost:8080/",
     "height": 54
    },
    "colab_type": "code",
    "id": "I84DBy-L9ooM",
    "outputId": "e06754b7-92a2-45ec-d508-85d271a0cdc5"
   },
   "outputs": [
    {
     "name": "stdout",
     "output_type": "stream",
     "text": [
      "['hseliN', 'ynoS', 'ihddiS']\n",
      "['hseliN', 'ynoS', 'ihddiS']\n"
     ]
    }
   ],
   "source": [
    "# reverese strings from lst and put in new list\n",
    "lst = ['Nilesh', 'Sony', 'Siddhi']\n",
    "reversed = []\n",
    "for name in lst:\n",
    "  reversed.append(name[::-1])\n",
    "print(reversed)\n",
    "\n",
    "newList = [name[::-1] for name in lst]\n",
    "print(newList)"
   ]
  },
  {
   "cell_type": "code",
   "execution_count": null,
   "metadata": {
    "colab": {},
    "colab_type": "code",
    "id": "XL6xe2u99rvt"
   },
   "outputs": [],
   "source": [
    "def revereseString(l):\n",
    "  return [name[::-1] for name in l]\n",
    "print(revereseString(lst))"
   ]
  },
  {
   "cell_type": "code",
   "execution_count": 23,
   "metadata": {
    "colab": {
     "base_uri": "https://localhost:8080/",
     "height": 35
    },
    "colab_type": "code",
    "id": "PUkAxu239xl1",
    "outputId": "f1ba1297-0b49-4271-f111-c74200fef010"
   },
   "outputs": [
    {
     "data": {
      "text/plain": [
       "[1, 2, 3, 4, 5, 6, 7, 8, 9, 10]"
      ]
     },
     "execution_count": 23,
     "metadata": {
      "tags": []
     },
     "output_type": "execute_result"
    }
   ],
   "source": [
    "numList = list(range(1,11))\n",
    "numList"
   ]
  },
  {
   "cell_type": "code",
   "execution_count": 24,
   "metadata": {
    "colab": {
     "base_uri": "https://localhost:8080/",
     "height": 35
    },
    "colab_type": "code",
    "id": "SB8S0x0P9z17",
    "outputId": "580a95ed-6569-457b-f0e3-ebc2614430df"
   },
   "outputs": [
    {
     "name": "stdout",
     "output_type": "stream",
     "text": [
      "[2, 4, 6, 8, 10]\n"
     ]
    }
   ],
   "source": [
    "evenList = []\n",
    "for num in numList:\n",
    "  if num%2 == 0:\n",
    "    evenList.append(num)\n",
    "print(evenList)\n",
    "\n",
    "evenList2 = [num for num in numList if num%2 == 0]\n",
    "evenList2"
   ]
  },
  {
   "cell_type": "code",
   "execution_count": null,
   "metadata": {
    "colab": {},
    "colab_type": "code",
    "id": "77X-KLaB9-ZM"
   },
   "outputs": [],
   "source": [
    "lst = [1,34,4.6,\"Nilesh\", [1,2,90.4], True, False]\n",
    "# create new list which contains only numerical values and store as string\n",
    "\n",
    "newList = [str(item) for item in lst if str(item).isnumeric()]\n",
    "newList"
   ]
  },
  {
   "cell_type": "code",
   "execution_count": null,
   "metadata": {
    "colab": {},
    "colab_type": "code",
    "id": "BinVcHfb-Csb"
   },
   "outputs": [],
   "source": [
    "# Convert float and int type elements into string\n",
    "newList = [str(item) for item in lst if (type(item) == int or type(item) == float)]\n",
    "newList"
   ]
  },
  {
   "cell_type": "code",
   "execution_count": null,
   "metadata": {
    "colab": {},
    "colab_type": "code",
    "id": "FI-JCDrX-VTx"
   },
   "outputs": [],
   "source": [
    "# Nested list comprehension\n",
    "# create list [[1,2,3,4],[1,2,3,4],[1,2,3,4]]\n",
    "\n",
    "nestedListComp = [[i+j for i in range(1,5)] for j in range(1,4)]\n",
    "nestedListComp"
   ]
  },
  {
   "cell_type": "markdown",
   "metadata": {
    "colab_type": "text",
    "id": "RjjxhQyEV8ee"
   },
   "source": [
    "### Exercise\n",
    "1. Write a function that will take a list as an input and return square of the numbers in new list\n",
    "2. Write a function that will take a list as an input and return revesed list.\n",
    "3. Write a function that will take a list of words as an input and return revesed words of the list.\n",
    "4. Write a function that will take a list of numbers as an input and return the list which will have two lists one is even and other is odd.\\\n",
    "5.  Write a function that will take two lists of numbers as an input and return a list of common numbers\n",
    "6. Write a function that will take input as a mixed list and return number of lists from the list"
   ]
  },
  {
   "cell_type": "markdown",
   "metadata": {
    "colab_type": "text",
    "id": "kjx9WVrGSQBI"
   },
   "source": [
    "# End of List Chapter"
   ]
  }
 ],
 "metadata": {
  "colab": {
   "collapsed_sections": [],
   "name": "2.List.ipynb",
   "provenance": []
  },
  "kernelspec": {
   "display_name": "Python 3",
   "language": "python",
   "name": "python3"
  },
  "language_info": {
   "codemirror_mode": {
    "name": "ipython",
    "version": 3
   },
   "file_extension": ".py",
   "mimetype": "text/x-python",
   "name": "python",
   "nbconvert_exporter": "python",
   "pygments_lexer": "ipython3",
   "version": "3.7.6"
  }
 },
 "nbformat": 4,
 "nbformat_minor": 1
}
