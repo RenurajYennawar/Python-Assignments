{
 "cells": [
  {
   "cell_type": "markdown",
   "metadata": {
    "id": "qZDP7G2RxThy"
   },
   "source": [
    "# **String**\n",
    "\n",
    "\n"
   ]
  },
  {
   "cell_type": "markdown",
   "metadata": {
    "id": "WOJy_5mKxTh0"
   },
   "source": [
    "1. A string is a sequence of characters.\n",
    "2. Computers do not deal with characters, they deal with numbers (binary). Even though you may see characters on your screen, internally it is stored and manipulated as a combination of 0's and 1's.\n",
    "3. This conversion of character to a number is called encoding, and the reverse process is decoding. ASCII and Unicode are some of the popular encoding used.\n",
    "4. In Python, string is a sequence of Unicode character."
   ]
  },
  {
   "cell_type": "markdown",
   "metadata": {
    "id": "_SUuvhMrxTh1"
   },
   "source": [
    "### 1. Create string\n",
    "\n",
    "1. Strings can be created by enclosing characters inside a single quote or double quotes.\n",
    "2. Even triple quotes can be used in Python but generally used to represent multiline strings and docstrings.\n"
   ]
  },
  {
   "cell_type": "code",
   "execution_count": null,
   "metadata": {
    "colab": {
     "base_uri": "https://localhost:8080/",
     "height": 34
    },
    "id": "tdwLR9CJxTh2",
    "outputId": "96b3d151-65f4-434f-f80c-55bb147be134"
   },
   "outputs": [
    {
     "name": "stdout",
     "output_type": "stream",
     "text": [
      "\n"
     ]
    }
   ],
   "source": [
    "myString = ''\n",
    "L = []\n",
    "T = ()\n",
    "S = {}\n",
    "\n",
    "print(myString)\n",
    "\n",
    "\n",
    "# myString = \"Hello\"\n",
    "# print(myString)\n",
    "\n",
    "\n",
    "# myString = '''World'''\n",
    "# print(myString)"
   ]
  },
  {
   "cell_type": "markdown",
   "metadata": {
    "id": "RtXtZ4wTxTh9"
   },
   "source": [
    "### 2. String access\n",
    "\n",
    "1. We can access individual characters using indexing and a range of characters using slicing.\n",
    "2. Index starts from 0.\n",
    "3. Trying to access a character out of index range will raise an IndexError.\n",
    "4. The index must be an integer. We can't use float or other types, this will result into TypeError.\n",
    "5. Python allows negative indexing for its sequences.\n"
   ]
  },
  {
   "cell_type": "code",
   "execution_count": null,
   "metadata": {
    "colab": {
     "base_uri": "https://localhost:8080/",
     "height": 34
    },
    "id": "r-QgweWkxTh-",
    "outputId": "789ac7f1-31cf-4b56-abd4-8eabdb64f223"
   },
   "outputs": [
    {
     "name": "stdout",
     "output_type": "stream",
     "text": [
      "12\n"
     ]
    }
   ],
   "source": [
    "myString = \"Hello World!\"\n",
    "print(len(myString))\n",
    "# #print first Character\n",
    "# print(myString[0])\n",
    "\n",
    "# #print last character using negative indexing\n",
    "# print(myString[-1])\n",
    "\n",
    "# #slicing 2nd to 5th character\n",
    "# print(myString[::2]) # [start:end:step]  myString[::2]"
   ]
  },
  {
   "cell_type": "code",
   "execution_count": null,
   "metadata": {
    "colab": {
     "base_uri": "https://localhost:8080/",
     "height": 162
    },
    "id": "Icil9hrmxTiC",
    "outputId": "76c6b3a4-3381-4c68-a581-dbd197326777"
   },
   "outputs": [
    {
     "ename": "IndexError",
     "evalue": "ignored",
     "output_type": "error",
     "traceback": [
      "\u001b[0;31m---------------------------------------------------------------------------\u001b[0m",
      "\u001b[0;31mIndexError\u001b[0m                                Traceback (most recent call last)",
      "\u001b[0;32m<ipython-input-22-a6e04654a783>\u001b[0m in \u001b[0;36m<module>\u001b[0;34m()\u001b[0m\n\u001b[0;32m----> 1\u001b[0;31m \u001b[0mprint\u001b[0m\u001b[0;34m(\u001b[0m\u001b[0mmyString\u001b[0m\u001b[0;34m[\u001b[0m\u001b[0;36m15\u001b[0m\u001b[0;34m]\u001b[0m\u001b[0;34m)\u001b[0m\u001b[0;34m\u001b[0m\u001b[0;34m\u001b[0m\u001b[0m\n\u001b[0m",
      "\u001b[0;31mIndexError\u001b[0m: string index out of range"
     ]
    }
   ],
   "source": [
    "print(myString[15])"
   ]
  },
  {
   "cell_type": "code",
   "execution_count": null,
   "metadata": {
    "id": "apI0JA4HxTiI",
    "outputId": "b8095443-6a1d-40de-aa24-67a8b78bc07c"
   },
   "outputs": [
    {
     "ename": "TypeError",
     "evalue": "string indices must be integers",
     "output_type": "error",
     "traceback": [
      "\u001b[1;31m---------------------------------------------------------------------------\u001b[0m",
      "\u001b[1;31mTypeError\u001b[0m                                 Traceback (most recent call last)",
      "\u001b[1;32m<ipython-input-4-f317be76d762>\u001b[0m in \u001b[0;36m<module>\u001b[1;34m\u001b[0m\n\u001b[1;32m----> 1\u001b[1;33m \u001b[0mprint\u001b[0m\u001b[1;33m(\u001b[0m\u001b[0mmyString\u001b[0m\u001b[1;33m[\u001b[0m\u001b[1;36m1.5\u001b[0m\u001b[1;33m]\u001b[0m\u001b[1;33m)\u001b[0m\u001b[1;33m\u001b[0m\u001b[1;33m\u001b[0m\u001b[0m\n\u001b[0m",
      "\u001b[1;31mTypeError\u001b[0m: string indices must be integers"
     ]
    }
   ],
   "source": [
    "print(myString[1.5])"
   ]
  },
  {
   "cell_type": "markdown",
   "metadata": {
    "id": "u8ErXcEixTiM"
   },
   "source": [
    "### 3. Change or delete a string\n",
    "\n",
    "1. Strings are immutable. This means that elements of a string cannot be changed once it has been assigned. \n",
    "2. We can simply reassign different strings to the same name."
   ]
  },
  {
   "cell_type": "code",
   "execution_count": null,
   "metadata": {
    "id": "6tXEk6-hxTiN",
    "outputId": "106d3871-f51c-4ca9-f5bd-dc303bd08a17"
   },
   "outputs": [
    {
     "ename": "TypeError",
     "evalue": "'str' object does not support item assignment",
     "output_type": "error",
     "traceback": [
      "\u001b[1;31m---------------------------------------------------------------------------\u001b[0m",
      "\u001b[1;31mTypeError\u001b[0m                                 Traceback (most recent call last)",
      "\u001b[1;32m<ipython-input-5-786fea0a1f9c>\u001b[0m in \u001b[0;36m<module>\u001b[1;34m\u001b[0m\n\u001b[0;32m      1\u001b[0m \u001b[0mmyString\u001b[0m \u001b[1;33m=\u001b[0m \u001b[1;34m\"Hello\"\u001b[0m\u001b[1;33m\u001b[0m\u001b[1;33m\u001b[0m\u001b[0m\n\u001b[1;32m----> 2\u001b[1;33m \u001b[0mmyString\u001b[0m\u001b[1;33m[\u001b[0m\u001b[1;36m4\u001b[0m\u001b[1;33m]\u001b[0m \u001b[1;33m=\u001b[0m \u001b[1;34m's'\u001b[0m \u001b[1;31m# strings are immutable\u001b[0m\u001b[1;33m\u001b[0m\u001b[1;33m\u001b[0m\u001b[0m\n\u001b[0m",
      "\u001b[1;31mTypeError\u001b[0m: 'str' object does not support item assignment"
     ]
    }
   ],
   "source": [
    "myString = \"Hello\"\n",
    "myString[4] = 's' # strings are immutable"
   ]
  },
  {
   "cell_type": "markdown",
   "metadata": {
    "id": "gB1QJWrCxTiS"
   },
   "source": [
    "We cannot delete or remove characters from a string. But deleting the string entirely is possible using the keyword del."
   ]
  },
  {
   "cell_type": "code",
   "execution_count": null,
   "metadata": {
    "colab": {
     "base_uri": "https://localhost:8080/",
     "height": 178
    },
    "id": "3c_wzXy2xTiS",
    "outputId": "ed7bfb27-464f-4e2e-ba13-74b846b745b3"
   },
   "outputs": [
    {
     "ename": "NameError",
     "evalue": "ignored",
     "output_type": "error",
     "traceback": [
      "\u001b[0;31m---------------------------------------------------------------------------\u001b[0m",
      "\u001b[0;31mNameError\u001b[0m                                 Traceback (most recent call last)",
      "\u001b[0;32m<ipython-input-24-ba15ebce3aab>\u001b[0m in \u001b[0;36m<module>\u001b[0;34m()\u001b[0m\n\u001b[1;32m      1\u001b[0m \u001b[0;32mdel\u001b[0m \u001b[0mmyString\u001b[0m \u001b[0;31m# delete complete string\u001b[0m\u001b[0;34m\u001b[0m\u001b[0;34m\u001b[0m\u001b[0m\n\u001b[0;32m----> 2\u001b[0;31m \u001b[0mprint\u001b[0m\u001b[0;34m(\u001b[0m\u001b[0mmyString\u001b[0m\u001b[0;34m)\u001b[0m\u001b[0;34m\u001b[0m\u001b[0;34m\u001b[0m\u001b[0m\n\u001b[0m",
      "\u001b[0;31mNameError\u001b[0m: name 'myString' is not defined"
     ]
    }
   ],
   "source": [
    "del myString # delete complete string\n",
    "print(myString)"
   ]
  },
  {
   "cell_type": "markdown",
   "metadata": {
    "id": "AHSA0XqJxTiZ"
   },
   "source": [
    "### 4. String Operations\n",
    "1. Concatenation\n",
    "2. Iteration through string\n",
    "3. Membership Test"
   ]
  },
  {
   "cell_type": "markdown",
   "metadata": {
    "id": "Xb1fAPXNxTia"
   },
   "source": [
    "### 4.1 String Concatenation"
   ]
  },
  {
   "cell_type": "markdown",
   "metadata": {
    "id": "WdRV4cI1xTib"
   },
   "source": [
    "1. Joining of two or more strings into a single one is called concatenation.\n",
    "2. The + operator does this in Python. Simply writing two string literals together also concatenates them.\n",
    "3. The * operator can be used to repeat the string for a given number of times.\n"
   ]
  },
  {
   "cell_type": "code",
   "execution_count": null,
   "metadata": {
    "colab": {
     "base_uri": "https://localhost:8080/",
     "height": 34
    },
    "id": "h2c8CIL2xTib",
    "outputId": "54008c40-ad13-45d0-ac97-5efbc3900c56"
   },
   "outputs": [
    {
     "name": "stdout",
     "output_type": "stream",
     "text": [
      "******************************\n"
     ]
    }
   ],
   "source": [
    "s1 = \"Hello \"\n",
    "s2 = \"World\"\n",
    "\n",
    "# S3 = s1 +\" \"+ s2 + \" from me\"\n",
    "# #concatenation of 2 strings\n",
    "# print(S3)\n",
    "\n",
    "#repeat string n times\n",
    "print(\"*\"* 30)"
   ]
  },
  {
   "cell_type": "markdown",
   "metadata": {
    "id": "TazLmC1uxTif"
   },
   "source": [
    "### 4.2 Iterating through string\n",
    " "
   ]
  },
  {
   "cell_type": "code",
   "execution_count": null,
   "metadata": {
    "colab": {
     "base_uri": "https://localhost:8080/",
     "height": 84
    },
    "id": "iDWqsxTaxTig",
    "outputId": "d53814eb-ee74-4dfa-9215-aecd15cf94cf"
   },
   "outputs": [
    {
     "name": "stdout",
     "output_type": "stream",
     "text": [
      "6\n",
      "10\n",
      "16\n",
      "Total occurances of @ are: 3\n"
     ]
    }
   ],
   "source": [
    "string = \"Nilesh@ li@kes P@ython\"\n",
    "count = 0;\n",
    "L = [1,2,3]\n",
    "# for ele in L:\n",
    "#   print(ele)\n",
    "k = 0\n",
    "for c in string:\n",
    "    if c == '@': # if 'l' == 'l': \n",
    "        print(k)\n",
    "        #if count == 0:\n",
    "            #print(\"@ is presnt!!!\")\n",
    "        count += 1\n",
    "    k = k + 1\n",
    "print(\"Total occurances of @ are: {}\".format(count))"
   ]
  },
  {
   "cell_type": "markdown",
   "metadata": {
    "id": "tM_OJhd4xTik"
   },
   "source": [
    "### 4.3 String Membership Test"
   ]
  },
  {
   "cell_type": "code",
   "execution_count": null,
   "metadata": {
    "colab": {
     "base_uri": "https://localhost:8080/",
     "height": 34
    },
    "id": "rQllx14bxTil",
    "outputId": "396b724d-fca6-4c42-d5ad-5f1af03326e1"
   },
   "outputs": [
    {
     "name": "stdout",
     "output_type": "stream",
     "text": [
      "True\n"
     ]
    }
   ],
   "source": [
    "myString = \"Python is awesome\"\n",
    "L = [1,2,3]\n",
    "if 10 in L:\n",
    "  print(\"Yes\")\n",
    "if ' ' in myString:\n",
    "    print(\"True\")\n",
    "    \n",
    "# if 'awesome' in myString:\n",
    "#     print(\"Whatever msg\")"
   ]
  },
  {
   "cell_type": "markdown",
   "metadata": {
    "id": "i4vQUgFjxTir"
   },
   "source": [
    "## String Methods\n",
    "\n",
    "    Some of the commonly used methods are lower(), upper(), join(), split(), find(), replace() etc"
   ]
  },
  {
   "cell_type": "code",
   "execution_count": null,
   "metadata": {
    "id": "5gSkiY-1xTit",
    "outputId": "e8a07c67-4abf-4e67-fb49-d2d617691f84"
   },
   "outputs": [
    {
     "data": {
      "text/plain": [
       "'hello'"
      ]
     },
     "execution_count": 17,
     "metadata": {
      "tags": []
     },
     "output_type": "execute_result"
    }
   ],
   "source": [
    "\"Hello\".lower()"
   ]
  },
  {
   "cell_type": "code",
   "execution_count": null,
   "metadata": {
    "colab": {
     "base_uri": "https://localhost:8080/",
     "height": 35
    },
    "id": "5LKhA8SPxTiy",
    "outputId": "c1bfbecb-8c82-4a6c-f681-8e3c915d600e"
   },
   "outputs": [
    {
     "data": {
      "application/vnd.google.colaboratory.intrinsic+json": {
       "type": "string"
      },
      "text/plain": [
       "'HELLO'"
      ]
     },
     "execution_count": 49,
     "metadata": {
      "tags": []
     },
     "output_type": "execute_result"
    }
   ],
   "source": [
    "\"Hello\".upper()"
   ]
  },
  {
   "cell_type": "code",
   "execution_count": null,
   "metadata": {
    "colab": {
     "base_uri": "https://localhost:8080/",
     "height": 70
    },
    "id": "6jopBH8KxTi2",
    "outputId": "ab4c0db0-101b-426e-fd17-d59b541b3102"
   },
   "outputs": [
    {
     "name": "stdout",
     "output_type": "stream",
     "text": [
      "[\"Python is an interpreted, high-level and general-purpose programming language. Python language Created by Guido van Rossum. It first released in 1991. Python's design philosophy emphasizes code readability \", ' its notable use of significant whitespace']\n",
      "Number of unique words in given string = 2\n"
     ]
    }
   ],
   "source": [
    "L = \"Python is an interpreted, high-level and general-purpose programming language. Python language Created by Guido van Rossum. It first released in 1991. Python's design philosophy emphasizes code readability with its notable use of significant whitespace\".split(\" \")\n",
    "#print(len(L))\n",
    "print(L)\n",
    "S = set(L)\n",
    "#print(S)\n",
    "print(\"Number of unique words in given string = {}\".format(len(S)))"
   ]
  },
  {
   "cell_type": "code",
   "execution_count": 9,
   "metadata": {
    "colab": {
     "base_uri": "https://localhost:8080/",
     "height": 69
    },
    "id": "2jl3AJ8VxTi5",
    "outputId": "d65e2f79-6830-4221-f628-94b17b7ddf0c"
   },
   "outputs": [
    {
     "name": "stdout",
     "output_type": "stream",
     "text": [
      "['Python', 'is', 'an', 'interpreted,', 'high-level', 'an', 'and', 'general-purpose', 'an', 'programming', 'language']\n",
      "['Python', 'interpreted,', 'high-level', 'an', 'and', 'general-purpose', 'an', 'programming', 'language']\n"
     ]
    },
    {
     "data": {
      "application/vnd.google.colaboratory.intrinsic+json": {
       "type": "string"
      },
      "text/plain": [
       "'Python interpreted, high-level an and general-purpose an programming language'"
      ]
     },
     "execution_count": 9,
     "metadata": {
      "tags": []
     },
     "output_type": "execute_result"
    }
   ],
   "source": [
    "# RegEx \n",
    "\n",
    "sentence = \"Python is an interpreted, high-level an and general-purpose an programming language\"\n",
    "sentenceList = sentence.split()\n",
    "print(sentenceList)\n",
    "badWords = ['an', 'the', 'is']\n",
    "for word in badWords:\n",
    "  if word in sentenceList:\n",
    "    sentenceList.remove(word)\n",
    "\n",
    "print(sentenceList)\n",
    "' '.join(sentenceList)"
   ]
  },
  {
   "cell_type": "code",
   "execution_count": 10,
   "metadata": {
    "colab": {
     "base_uri": "https://localhost:8080/",
     "height": 34
    },
    "id": "hZDBdK2VxTi8",
    "outputId": "fcb0b4a2-5a49-44a3-bfbb-b5e89162e5fe"
   },
   "outputs": [
    {
     "data": {
      "text/plain": [
       "5"
      ]
     },
     "execution_count": 10,
     "metadata": {
      "tags": []
     },
     "output_type": "execute_result"
    }
   ],
   "source": [
    "\"Good Morning Morning\".find(\"Mo\")"
   ]
  },
  {
   "cell_type": "code",
   "execution_count": 13,
   "metadata": {
    "colab": {
     "base_uri": "https://localhost:8080/",
     "height": 50
    },
    "id": "FdjnwAIrxTi_",
    "outputId": "56be814c-e47a-466a-fea4-801da0fc3f4e"
   },
   "outputs": [
    {
     "name": "stdout",
     "output_type": "stream",
     "text": [
      "Bad morning\n",
      "Bad Morning\n"
     ]
    }
   ],
   "source": [
    "s1 = \"Bad morning\"\n",
    "\n",
    "s2 = s1.replace(\"morning\", \"Morning\")\n",
    "\n",
    "print(s1)\n",
    "print(s2)"
   ]
  },
  {
   "cell_type": "markdown",
   "metadata": {
    "id": "5gWBNZS7xTjC"
   },
   "source": [
    "### Python program to check given string is palindrome or not"
   ]
  },
  {
   "cell_type": "markdown",
   "metadata": {
    "id": "cFByt1iNJPSk"
   },
   "source": [
    "1. take a string as input\n",
    "2. store that string into a variable\n",
    "3. Create another variable and store reverese of input string\n",
    "4. check if original and reveresed stings are equal?\n",
    "5. Palindrome\n"
   ]
  },
  {
   "cell_type": "code",
   "execution_count": null,
   "metadata": {
    "id": "nTSZXK9WxTjE",
    "outputId": "eed28d3f-dd24-444b-bfb6-cf23b3ef487f"
   },
   "outputs": [
    {
     "name": "stdout",
     "output_type": "stream",
     "text": [
      "Enter input1 Stringnn\n",
      "String nn is palidnreome\n"
     ]
    }
   ],
   "source": [
    "string = str (input(\"Enter input1 String\"))\n",
    "stringlen = len(string)\n",
    "# morning tenet madam wow \n",
    "k = -1\n",
    "flag = True\n",
    "for i in string:\n",
    "    if i != string[k]:\n",
    "        flag = False\n",
    "    k -= 1\n",
    "if flag:\n",
    "    print(\"String {} is palidnreome\".format(string))\n",
    "else:\n",
    "    print(\"String {} is not palidnreome\".format(string))"
   ]
  },
  {
   "cell_type": "code",
   "execution_count": 17,
   "metadata": {
    "colab": {
     "base_uri": "https://localhost:8080/",
     "height": 50
    },
    "id": "Kkws22g3xTjI",
    "outputId": "db08e009-b8bc-48b5-cc54-cd4d2ccaf27b"
   },
   "outputs": [
    {
     "name": "stdout",
     "output_type": "stream",
     "text": [
      "Enter the string to check palindrome: Madam\n",
      "Given String is palindrome\n"
     ]
    }
   ],
   "source": [
    "# take a string as input\n",
    "# store that string into a variable\n",
    "# Create another variable and store reverese of input string\n",
    "# check if original and reveresed stings are equal?\n",
    "# Palindrome\n",
    "# Madam madam \n",
    "myStr = input(\"Enter the string to check palindrome: \")\n",
    "#convert entire string to either lower or upper\n",
    "myStr = myStr.lower()\n",
    "#reverse string\n",
    "# revStr = reversed(myStr)\n",
    "# revStr = myStr[::-1]\n",
    "\n",
    "\n",
    "#check if the string is equal to its reverse\n",
    "if list(myStr) == list(revStr):\n",
    "    print(\"Given String is palindrome\")\n",
    "else:\n",
    "    print(\"Given String is not palindrome\")"
   ]
  },
  {
   "cell_type": "markdown",
   "metadata": {
    "id": "hmHmwZaexTjM"
   },
   "source": [
    "### Python Program to Sort Words in Alphabetic Order?"
   ]
  },
  {
   "cell_type": "code",
   "execution_count": 33,
   "metadata": {
    "colab": {
     "base_uri": "https://localhost:8080/",
     "height": 229
    },
    "id": "264LpwfKxTjM",
    "outputId": "16e55a9e-e841-4847-9da6-81df4348784e"
   },
   "outputs": [
    {
     "ename": "TypeError",
     "evalue": "ignored",
     "output_type": "error",
     "traceback": [
      "\u001b[0;31m---------------------------------------------------------------------------\u001b[0m",
      "\u001b[0;31mTypeError\u001b[0m                                 Traceback (most recent call last)",
      "\u001b[0;32m<ipython-input-33-1f1bc9049d84>\u001b[0m in \u001b[0;36m<module>\u001b[0;34m()\u001b[0m\n\u001b[1;32m      1\u001b[0m \u001b[0mmyStr\u001b[0m \u001b[0;34m=\u001b[0m \u001b[0;34m\"python Program to Sort words in Alphabetic alphabetic Order\"\u001b[0m\u001b[0;34m\u001b[0m\u001b[0;34m\u001b[0m\u001b[0m\n\u001b[0;32m----> 2\u001b[0;31m \u001b[0mmyStr\u001b[0m\u001b[0;34m[\u001b[0m\u001b[0;36m0\u001b[0m\u001b[0;34m]\u001b[0m \u001b[0;34m=\u001b[0m \u001b[0;34m'P'\u001b[0m\u001b[0;34m\u001b[0m\u001b[0;34m\u001b[0m\u001b[0m\n\u001b[0m\u001b[1;32m      3\u001b[0m \u001b[0;31m# Apple Banana Cat\u001b[0m\u001b[0;34m\u001b[0m\u001b[0;34m\u001b[0m\u001b[0;34m\u001b[0m\u001b[0m\n\u001b[1;32m      4\u001b[0m \u001b[0;31m#breakdown the string into list of words\u001b[0m\u001b[0;34m\u001b[0m\u001b[0;34m\u001b[0m\u001b[0;34m\u001b[0m\u001b[0m\n\u001b[1;32m      5\u001b[0m \u001b[0mres\u001b[0m \u001b[0;34m=\u001b[0m \u001b[0;34m''\u001b[0m\u001b[0;34m.\u001b[0m\u001b[0mjoin\u001b[0m\u001b[0;34m(\u001b[0m\u001b[0msorted\u001b[0m\u001b[0;34m(\u001b[0m\u001b[0mmyStr\u001b[0m\u001b[0;34m)\u001b[0m\u001b[0;34m)\u001b[0m\u001b[0;34m\u001b[0m\u001b[0;34m\u001b[0m\u001b[0m\n",
      "\u001b[0;31mTypeError\u001b[0m: 'str' object does not support item assignment"
     ]
    }
   ],
   "source": [
    "myStr = \"python Program to Sort words in Alphabetic alphabetic Order\"\n",
    "#myStr[0] = 'P'\n",
    "# Apple Banana Cat\n",
    "#breakdown the string into list of words\n",
    "res = ''.join(sorted(myStr)) \n",
    "#sort the list\n",
    "# words.sort()\n",
    "print(res)\n",
    "#print Sorted words are\n",
    "# for word in words:\n",
    "#     print(word)"
   ]
  },
  {
   "cell_type": "code",
   "execution_count": 30,
   "metadata": {
    "colab": {
     "base_uri": "https://localhost:8080/",
     "height": 67
    },
    "id": "wazSHcumM81z",
    "outputId": "11e08046-f418-4905-c700-f9ebe984c19a"
   },
   "outputs": [
    {
     "name": "stdout",
     "output_type": "stream",
     "text": [
      "The original string :geek for geeks\n",
      "[' ', ' ', 'e', 'e', 'e', 'e', 'f', 'g', 'g', 'k', 'k', 'o', 'r', 's']\n",
      "String after sorting :  eeeefggkkors\n"
     ]
    }
   ],
   "source": [
    " #Python3 code to demonstrate \n",
    "# Sorting a string  \n",
    "# using join() + sorted() \n",
    "  \n",
    "# initializing string  \n",
    "test_string = \"geek for geeks\"\n",
    "  \n",
    "# printing original string  \n",
    "print(\"The original string :\" + str(test_string)) \n",
    "  \n",
    "# using join() + sorted() \n",
    "# Sorting a string  \n",
    "sortedString = sorted(test_string)\n",
    "print(sortedString)\n",
    "\n",
    "res = ''.join(sorted(test_string)) \n",
    "      \n",
    "# print result \n",
    "print(\"String after sorting :\" + str(res)) "
   ]
  }
 ],
 "metadata": {
  "colab": {
   "collapsed_sections": [],
   "name": "6.Strings.ipynb",
   "provenance": []
  },
  "kernelspec": {
   "display_name": "Python 3",
   "language": "python",
   "name": "python3"
  },
  "language_info": {
   "codemirror_mode": {
    "name": "ipython",
    "version": 3
   },
   "file_extension": ".py",
   "mimetype": "text/x-python",
   "name": "python",
   "nbconvert_exporter": "python",
   "pygments_lexer": "ipython3",
   "version": "3.7.6"
  }
 },
 "nbformat": 4,
 "nbformat_minor": 1
}
