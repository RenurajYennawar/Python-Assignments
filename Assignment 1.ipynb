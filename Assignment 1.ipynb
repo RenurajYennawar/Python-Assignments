{
 "cells": [
  {
   "cell_type": "code",
   "execution_count": 10,
   "metadata": {},
   "outputs": [
    {
     "name": "stdout",
     "output_type": "stream",
     "text": [
      "Enter the number:raj\n",
      "please enter only integer or float values\n",
      "number is raj square is 0\n"
     ]
    }
   ],
   "source": [
    "# Function that takes input as any number & returns square of it.\n",
    "num=input(\"Enter the number:\")\n",
    "def square(num):\n",
    "    if type(num)==str:\n",
    "        print(\"please enter only integer or float values\")\n",
    "        return s\n",
    "    return num**2\n",
    "s=square(num)\n",
    "print(\"number is {} square is {}\".format(num,s))\n",
    " "
   ]
  },
  {
   "cell_type": "code",
   "execution_count": 7,
   "metadata": {},
   "outputs": [
    {
     "name": "stdout",
     "output_type": "stream",
     "text": [
      "Enter total numbers you want to enter:3\n",
      "Enter the number:2\n",
      "Enter the number:4\n",
      "Enter the number:6\n",
      "Average= 4.0\n"
     ]
    }
   ],
   "source": [
    "# program which takes 'n' nos from user and prints average\n",
    "n=int(input(\"Enter total numbers you want to enter:\"))\n",
    "sum=0\n",
    "for i in range (n):\n",
    "    x=int(input(\"Enter the number:\"))\n",
    "    sum=sum+x\n",
    "avg= sum/n\n",
    "print(\"Average=\",avg)"
   ]
  },
  {
   "cell_type": "code",
   "execution_count": 8,
   "metadata": {},
   "outputs": [
    {
     "name": "stdout",
     "output_type": "stream",
     "text": [
      "Enter any String:Raj\n",
      "reversed string is: jaR \n"
     ]
    }
   ],
   "source": [
    "# program which takes input as string and prints output as reverse of string using for loop\n",
    "def reverse(s):\n",
    "    str=\" \"\n",
    "    for i in s:\n",
    "        str=i+str\n",
    "    return str\n",
    "s=str(input(\"Enter any String:\"))\n",
    "print(\"reversed string is:\",end=\" \")\n",
    "print(reverse(s))"
   ]
  },
  {
   "cell_type": "code",
   "execution_count": 12,
   "metadata": {},
   "outputs": [
    {
     "name": "stdout",
     "output_type": "stream",
     "text": [
      "Enter single digit number:3\n",
      "three\n"
     ]
    }
   ],
   "source": [
    "# function that takes single digit integer value and returns string\n",
    "def intToString(val):\n",
    "    lst=[\"zero\",\"one\",\"two\",\"three\",\"four\",\"five\",\"six\",\"seven\",\"eight\",\"nine\"]\n",
    "    return lst[val]\n",
    "value=int(input(\"Enter single digit number:\"))\n",
    "print(intToString(value))"
   ]
  },
  {
   "cell_type": "code",
   "execution_count": 3,
   "metadata": {},
   "outputs": [
    {
     "name": "stdout",
     "output_type": "stream",
     "text": [
      "[None, None, 'prime', 'not prime', 'prime', 'not prime', 'prime', 'not prime', 'prime']\n"
     ]
    }
   ],
   "source": [
    "# program that takes list of integers and returns list of string.\n",
    "\n",
    "def prime(x):\n",
    "    if x>1:\n",
    "        for i in range(2,x):\n",
    "            if x%i==0:\n",
    "                return \"not prime\"\n",
    "            else:\n",
    "                return \"prime\"\n",
    "x=[1,2,3,4,5,6,7,8,9]\n",
    "k=list(map(prime,x))\n",
    "print(k)\n",
    " "
   ]
  },
  {
   "cell_type": "code",
   "execution_count": 21,
   "metadata": {},
   "outputs": [
    {
     "name": "stdout",
     "output_type": "stream",
     "text": [
      "Enter first number:3\n",
      "Enter second number:4\n",
      "Odd positive\n"
     ]
    }
   ],
   "source": [
    "# program which takes two inputs 'n1','n2' from user and prints:\n",
    "# \"odd negative\" if sum of two nos is odd and negative\n",
    "# \"even positive\" if sum of two nos is even and positive\n",
    "# \"even negative\" if sum of two nos is even and negative\n",
    "# \"odd positive\" if sum is odd and positive.\n",
    "n1=int(input(\"Enter first number:\"))\n",
    "n2=int(input(\"Enter second number:\"))\n",
    "sum=n1+n2\n",
    "if(sum%2!=0 & sum<0):\n",
    "    print(\"Odd negative\")\n",
    "elif (sum%2==0 & sum<0):\n",
    "    print(\"Even negative\")\n",
    "elif (sum%2==0 & sum>0):\n",
    "    print(\"Even positive\")\n",
    "else:\n",
    "    print(\"Odd positive\")"
   ]
  },
  {
   "cell_type": "code",
   "execution_count": 38,
   "metadata": {},
   "outputs": [
    {
     "name": "stdout",
     "output_type": "stream",
     "text": [
      "enter any number between 20-3036\n",
      "incorrect range 36\n"
     ]
    }
   ],
   "source": [
    "# program which takes input from user untill user gives input number between 20-30\n",
    "num=int(input(\"enter any number between 20-30\"))\n",
    "if num <30:\n",
    "    print(\"numered entered\",num)\n",
    "else:\n",
    "    print(\"incorrect range\",num)"
   ]
  },
  {
   "cell_type": "code",
   "execution_count": 40,
   "metadata": {},
   "outputs": [
    {
     "name": "stdout",
     "output_type": "stream",
     "text": [
      "enter a value:2\n",
      "enter b value:3\n",
      "enter c value:5\n",
      "-31\n"
     ]
    }
   ],
   "source": [
    "# function which takes input from user as a,b,c and returns b*b-4*a*c\n",
    "def myfunction (a,b,c):\n",
    "    value=1\n",
    "    return value\n",
    "a=int(input(\"enter a value:\"))\n",
    "b=int(input(\"enter b value:\"))\n",
    "c=int(input(\"enter c value:\"))\n",
    "value=b*b-4*a*c\n",
    "print(value)"
   ]
  },
  {
   "cell_type": "code",
   "execution_count": 1,
   "metadata": {},
   "outputs": [
    {
     "name": "stdout",
     "output_type": "stream",
     "text": [
      "how many numbers you want:4\n",
      "1\n",
      "2\n",
      "3\n",
      "4\n",
      "[1, 2, 3, 4]\n",
      "-ve Even index positions sum 4\n",
      "-ve Odd index positions sum 6\n"
     ]
    }
   ],
   "source": [
    "#program which performs sum of all odd locations list elements and even location list elements using negative indexing i.e. list[-1]is last element list[-2]is second last element\n",
    "def EvenOddSum(a,x):\n",
    "    even=0\n",
    "    odd=0\n",
    "    for i in range(x):\n",
    "        if i%2==0:\n",
    "            even=even+a[-i]\n",
    "        else:\n",
    "            odd=odd+a[-i]\n",
    "    print(\"-ve Even index positions sum\",even)\n",
    "    print(\"-ve Odd index positions sum\",odd)\n",
    "x=int(input(\"how many numbers you want:\"))\n",
    "lst=[]\n",
    "for i in range(1,x+1):\n",
    "    k=int(input())\n",
    "    lst.append(k)\n",
    "print(lst)\n",
    "n=len(lst)\n",
    "EvenOddSum(lst,x)"
   ]
  },
  {
   "cell_type": "code",
   "execution_count": 43,
   "metadata": {},
   "outputs": [
    {
     "name": "stdout",
     "output_type": "stream",
     "text": [
      "21\n"
     ]
    }
   ],
   "source": [
    "#functions which takes list of any size as argument and returns:\n",
    "# i.sum of all list elements\n",
    "def getSum (lst):\n",
    "    sum=0\n",
    "    for i in lst:\n",
    "        sum=sum+i\n",
    "    return sum\n",
    "lst=[1,2,3,4,5,6]\n",
    "sum=getSum(lst)\n",
    "print(sum)"
   ]
  },
  {
   "cell_type": "code",
   "execution_count": 44,
   "metadata": {},
   "outputs": [
    {
     "name": "stdout",
     "output_type": "stream",
     "text": [
      "720\n"
     ]
    }
   ],
   "source": [
    "# ii.product of all list elements\n",
    "def getProduct (lst):\n",
    "    product=1\n",
    "    for i in lst:\n",
    "        product=product*i\n",
    "    return product\n",
    "lst=[1,2,3,4,5,6]\n",
    "product=getProduct(lst)\n",
    "print(product)"
   ]
  },
  {
   "cell_type": "code",
   "execution_count": 46,
   "metadata": {},
   "outputs": [
    {
     "name": "stdout",
     "output_type": "stream",
     "text": [
      "[6, 5, 4, 3, 2, 1]\n"
     ]
    }
   ],
   "source": [
    "# iii. reverse of the list\n",
    "def getReverse(lst):\n",
    "    reverse=lst[::-1]\n",
    "    return reverse\n",
    "lst=[1,2,3,4,5,6]\n",
    "reverse=getReverse(lst)\n",
    "print(reverse)"
   ]
  },
  {
   "cell_type": "code",
   "execution_count": 47,
   "metadata": {},
   "outputs": [
    {
     "name": "stdout",
     "output_type": "stream",
     "text": [
      "[1, 4, 9, 16, 25, 36]\n"
     ]
    }
   ],
   "source": [
    "# iv. square of all list elements\n",
    "def Square (lst):\n",
    "    square=[x**2 for x in lst]\n",
    "    return square\n",
    "lst=[1,2,3,4,5,6]\n",
    "square=Square(lst)\n",
    "print(square)"
   ]
  },
  {
   "cell_type": "code",
   "execution_count": null,
   "metadata": {},
   "outputs": [],
   "source": []
  }
 ],
 "metadata": {
  "kernelspec": {
   "display_name": "Python 3",
   "language": "python",
   "name": "python3"
  },
  "language_info": {
   "codemirror_mode": {
    "name": "ipython",
    "version": 3
   },
   "file_extension": ".py",
   "mimetype": "text/x-python",
   "name": "python",
   "nbconvert_exporter": "python",
   "pygments_lexer": "ipython3",
   "version": "3.7.6"
  }
 },
 "nbformat": 4,
 "nbformat_minor": 4
}
