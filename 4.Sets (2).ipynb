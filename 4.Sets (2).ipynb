{
 "cells": [
  {
   "cell_type": "markdown",
   "metadata": {},
   "source": [
    "# Sets\n",
    "1. A set is an unordered collection of items. Every element is unique (no duplicates).\n",
    "2. The set itself is mutable. We can add or remove items from it.\n",
    "3. Sets can be used to perform mathematical set operations like union, intersection, symmetric difference etc.\n",
    "\n",
    "***syntax:*** \n",
    "\n",
    "S = {elemets_of_set} curly braces indecates "
   ]
  },
  {
   "cell_type": "markdown",
   "metadata": {},
   "source": [
    "### 1. Set Creation"
   ]
  },
  {
   "cell_type": "code",
   "execution_count": 1,
   "metadata": {},
   "outputs": [
    {
     "name": "stdout",
     "output_type": "stream",
     "text": [
      "{1, 2, 3}\n",
      "<class 'set'>\n"
     ]
    }
   ],
   "source": [
    "#set of integers\n",
    "s = {1, 2, 3}\n",
    "print(s)\n",
    "\n",
    "#print type of s \n",
    "print(type(s))"
   ]
  },
  {
   "cell_type": "code",
   "execution_count": 2,
   "metadata": {},
   "outputs": [
    {
     "name": "stdout",
     "output_type": "stream",
     "text": [
      "{1, 2, 3, 4}\n"
     ]
    }
   ],
   "source": [
    "#set doesn't allow duplicates. They store only one instance.\n",
    "s = {1, 2, 3, 1, 4}\n",
    "print(s)"
   ]
  },
  {
   "cell_type": "code",
   "execution_count": 4,
   "metadata": {},
   "outputs": [
    {
     "name": "stdout",
     "output_type": "stream",
     "text": [
      "{1, 2, 3}\n"
     ]
    }
   ],
   "source": [
    "#we can make set from a list\n",
    "s = set([1, 2, 3, 1])\n",
    "print(s)\n",
    "# Note that list is converted into set and duplicates are removed\n",
    "\n"
   ]
  },
  {
   "cell_type": "code",
   "execution_count": 5,
   "metadata": {},
   "outputs": [
    {
     "name": "stdout",
     "output_type": "stream",
     "text": [
      "<class 'set'>\n"
     ]
    }
   ],
   "source": [
    "#initialize a set  with set() method\n",
    "s = set()\n",
    "\n",
    "print(type(s))"
   ]
  },
  {
   "cell_type": "markdown",
   "metadata": {},
   "source": [
    "### 2. Add an elemeent to set\n",
    "1. Set is an unordered data structure hence indexing like tuple or list is not allowed \n",
    "2. To add a single element we can use add method\n",
    "\n",
    "***syntax:*** \n",
    "\n",
    "set_name.add( element )\n",
    "\n",
    "3. To add multiple elements use update method\n",
    "\n",
    "***syntax:*** \n",
    "\n",
    "set_name.update( [ List ] )\n"
   ]
  },
  {
   "cell_type": "code",
   "execution_count": 6,
   "metadata": {},
   "outputs": [
    {
     "ename": "TypeError",
     "evalue": "'set' object does not support indexing",
     "output_type": "error",
     "traceback": [
      "\u001b[1;31m---------------------------------------------------------------------------\u001b[0m",
      "\u001b[1;31mTypeError\u001b[0m                                 Traceback (most recent call last)",
      "\u001b[1;32m<ipython-input-6-1fa2e0f3c5a7>\u001b[0m in \u001b[0;36m<module>\u001b[1;34m\u001b[0m\n\u001b[0;32m      3\u001b[0m \u001b[1;33m\u001b[0m\u001b[0m\n\u001b[0;32m      4\u001b[0m \u001b[1;31m#set object doesn't support indexing\u001b[0m\u001b[1;33m\u001b[0m\u001b[1;33m\u001b[0m\u001b[1;33m\u001b[0m\u001b[0m\n\u001b[1;32m----> 5\u001b[1;33m \u001b[0mprint\u001b[0m\u001b[1;33m(\u001b[0m\u001b[0ms\u001b[0m\u001b[1;33m[\u001b[0m\u001b[1;36m1\u001b[0m\u001b[1;33m]\u001b[0m\u001b[1;33m)\u001b[0m \u001b[1;31m#will get TypeError as set is unordered data structure\u001b[0m\u001b[1;33m\u001b[0m\u001b[1;33m\u001b[0m\u001b[0m\n\u001b[0m",
      "\u001b[1;31mTypeError\u001b[0m: 'set' object does not support indexing"
     ]
    }
   ],
   "source": [
    "#we can add single element using add() method and #add multiple elements using update() method\n",
    "s = {1, 3}\n",
    "\n",
    "#set object doesn't support indexing\n",
    "print(s[1]) #will get TypeError as set is unordered data structure"
   ]
  },
  {
   "cell_type": "code",
   "execution_count": 10,
   "metadata": {},
   "outputs": [
    {
     "name": "stdout",
     "output_type": "stream",
     "text": [
      "{'i', 'T', 'w', 'n'}\n"
     ]
    }
   ],
   "source": [
    "S = {'w','i','n'}\n",
    "S.add('T')\n",
    "print(S)"
   ]
  },
  {
   "cell_type": "markdown",
   "metadata": {},
   "source": [
    "### 3. Remove elements from the set\n",
    "There are different ways to remove elements from the set\n",
    "\n",
    "1. discard\n",
    "2. remove\n",
    "3. pop\n",
    "4. clear"
   ]
  },
  {
   "cell_type": "markdown",
   "metadata": {},
   "source": [
    "### 3.1 using discard() method\n",
    "1. discard() method removes a single element from the set\n",
    "2. If element not present in the set discard() method do not throw any error. It will return original set as it is\n",
    "\n",
    "***syntax:***\n",
    "\n",
    "set_name.discard( element_to_be_discarded )"
   ]
  },
  {
   "cell_type": "code",
   "execution_count": 20,
   "metadata": {},
   "outputs": [
    {
     "name": "stdout",
     "output_type": "stream",
     "text": [
      "Set before discard():  {65, 1, 98, 39, 23, 90}\n",
      "Set after discard():   {65, 1, 39, 23, 90}\n",
      "Set after discard(84): {65, 1, 39, 23, 90}\n"
     ]
    }
   ],
   "source": [
    "Set = {1,65,23,98,90,39}\n",
    "print(\"Set before discard(): \",Set)\n",
    "\n",
    "Set.discard(98)\n",
    "print(\"Set after discard():  \",Set)\n",
    "\n",
    "Set.discard(84) # element 84 not present in the set. This will not throw any error\n",
    "\n",
    "print(\"Set after discard(84):\",Set)"
   ]
  },
  {
   "cell_type": "markdown",
   "metadata": {},
   "source": [
    "### 3.2 Using remove( ) method\n",
    "1. Remove method also removes  a single element from the set\n",
    "2. If the element to be discarded not present in the set, remove() method throws error"
   ]
  },
  {
   "cell_type": "code",
   "execution_count": 27,
   "metadata": {},
   "outputs": [
    {
     "name": "stdout",
     "output_type": "stream",
     "text": [
      "Set before remove():  {1, 2, 3, 4, 5, 6, 7, 8}\n",
      "Set sfter remove() :  {1, 2, 3, 4, 5, 7, 8}\n"
     ]
    },
    {
     "ename": "KeyError",
     "evalue": "9",
     "output_type": "error",
     "traceback": [
      "\u001b[1;31m---------------------------------------------------------------------------\u001b[0m",
      "\u001b[1;31mKeyError\u001b[0m                                  Traceback (most recent call last)",
      "\u001b[1;32m<ipython-input-27-0f5d9db17e6d>\u001b[0m in \u001b[0;36m<module>\u001b[1;34m\u001b[0m\n\u001b[0;32m      5\u001b[0m \u001b[0mprint\u001b[0m\u001b[1;33m(\u001b[0m\u001b[1;34m\"Set sfter remove() : \"\u001b[0m\u001b[1;33m,\u001b[0m\u001b[0mSet1\u001b[0m\u001b[1;33m)\u001b[0m\u001b[1;33m\u001b[0m\u001b[1;33m\u001b[0m\u001b[0m\n\u001b[0;32m      6\u001b[0m \u001b[1;33m\u001b[0m\u001b[0m\n\u001b[1;32m----> 7\u001b[1;33m \u001b[0mSet1\u001b[0m\u001b[1;33m.\u001b[0m\u001b[0mremove\u001b[0m\u001b[1;33m(\u001b[0m\u001b[1;36m9\u001b[0m\u001b[1;33m)\u001b[0m\u001b[1;33m\u001b[0m\u001b[1;33m\u001b[0m\u001b[0m\n\u001b[0m",
      "\u001b[1;31mKeyError\u001b[0m: 9"
     ]
    }
   ],
   "source": [
    "Set1  = {1,2,3,4,5,6,7,8}\n",
    "print(\"Set before remove(): \",Set1)\n",
    "\n",
    "Set1.remove(6)\n",
    "print(\"Set sfter remove() : \",Set1)\n",
    "\n",
    "Set1.remove(9)\n"
   ]
  },
  {
   "cell_type": "markdown",
   "metadata": {},
   "source": [
    "### 3.3 Using pop( ) method\n",
    "1. pop( ) also removes an element but it removes reandomly\n",
    "\n"
   ]
  },
  {
   "cell_type": "code",
   "execution_count": 30,
   "metadata": {},
   "outputs": [
    {
     "name": "stdout",
     "output_type": "stream",
     "text": [
      "Set before pop():  {1, 2, 3, 4, 5}\n",
      "Set after pop() :  {2, 3, 4, 5}\n"
     ]
    }
   ],
   "source": [
    "Set1 = {1,2,3,4,5}\n",
    "print(\"Set before pop(): \",Set1)\n",
    "\n",
    "Set1.pop()\n",
    "print(\"Set after pop() : \",Set1)\n"
   ]
  },
  {
   "cell_type": "markdown",
   "metadata": {},
   "source": [
    "### 3.4 Using clear( ) method\n",
    "1. clear( ) method removes all elements from the set\n"
   ]
  },
  {
   "cell_type": "code",
   "execution_count": 33,
   "metadata": {},
   "outputs": [
    {
     "name": "stdout",
     "output_type": "stream",
     "text": [
      "set()\n"
     ]
    }
   ],
   "source": [
    "\n",
    "Set1.clear()\n",
    "print(Set1)"
   ]
  },
  {
   "cell_type": "markdown",
   "metadata": {},
   "source": [
    "### 4. Set Operations\n",
    "1. Union\n",
    "2. Intesection\n",
    "3. Difference\n",
    "4. Symmetric difference\n",
    "5. issubset()"
   ]
  },
  {
   "cell_type": "markdown",
   "metadata": {},
   "source": [
    "### 4.1 Union\n",
    "1. Combines elements of two sets without repitition\n",
    "2. Two ways to perform union using '|' operator or union( ) function\n",
    "\n",
    "***syntax:***\n",
    "\n",
    "1. Using '|' operator\n",
    "\n",
    "   set3 = set1 | set2\n",
    "   \n",
    "2. set3 = set1.union(set2)"
   ]
  },
  {
   "cell_type": "code",
   "execution_count": 37,
   "metadata": {},
   "outputs": [
    {
     "name": "stdout",
     "output_type": "stream",
     "text": [
      "s1 =  {1, 2, 3, 4, 5}\n",
      "s2 =  {'b', 'a', 'c'}\n",
      "s3 =  {1, 2, 3, 4, 5, 'a', 'c', 'b'}\n",
      "*************************************\n",
      "s1 =  {1, 2, 3, 4, 5}\n",
      "s2 =  {'h', 't', 'P', 'n', 'y', 'o'}\n",
      "s3 =  {'h', 1, 2, 3, 4, 5, 't', 'P', 'n', 'y', 'o'}\n"
     ]
    }
   ],
   "source": [
    "S1 = {1,2,3,4,5}\n",
    "S2 = {'a','b','c'}\n",
    "\n",
    "S3 = S1 | S2\n",
    "print(\"s1 = \",S1)\n",
    "print(\"s2 = \",S2)\n",
    "print(\"s3 = \",S3)\n",
    "\n",
    "S1 = {1,2,3,4,5}\n",
    "S2 = {'P','y','t','h','o','n'}\n",
    "print(\"*************************************\")\n",
    "S3  = S1.union(S2)\n",
    "\n",
    "print(\"s1 = \",S1)\n",
    "print(\"s2 = \",S2)\n",
    "print(\"s3 = \",S3)"
   ]
  },
  {
   "cell_type": "markdown",
   "metadata": {},
   "source": [
    "### 4.2 Intersection\n",
    "1. Intersection returns common elements between two sets\n",
    "2. Intersection also can be performed by two ways: one using '&' operator and other using intesection( ) method\n",
    "\n",
    "***syntax:***\n",
    "\n",
    "1. Using '&' operator\n",
    "\n",
    "   set3 = set1 & set2\n",
    "   \n",
    "2. set3 = set1.intersection(set2)"
   ]
  },
  {
   "cell_type": "code",
   "execution_count": 38,
   "metadata": {},
   "outputs": [
    {
     "name": "stdout",
     "output_type": "stream",
     "text": [
      "s1 =  {1, 2, 3, 4, 5}\n",
      "s2 =  {'a', 2, 3, 'b', 'c'}\n",
      "s3 =  {2, 3}\n",
      "*************************************\n",
      "s1 =  {1, 2, 3, 4, 5}\n",
      "s2 =  {'h', 't', 4, 5, 'P', 'n', 'y', 'o'}\n",
      "s3 =  {4, 5}\n"
     ]
    }
   ],
   "source": [
    "S1 = {1,2,3,4,5}\n",
    "S2 = {'a','b','c',2,3}\n",
    "\n",
    "S3 = S1 & S2\n",
    "print(\"s1 = \",S1)\n",
    "print(\"s2 = \",S2)\n",
    "print(\"s3 = \",S3)\n",
    "\n",
    "S1 = {1,2,3,4,5}\n",
    "S2 = {'P','y','t','h','o','n',4,5}\n",
    "print(\"*************************************\")\n",
    "S3  = S1.intersection(S2)\n",
    "\n",
    "print(\"s1 = \",S1)\n",
    "print(\"s2 = \",S2)\n",
    "print(\"s3 = \",S3)"
   ]
  },
  {
   "cell_type": "markdown",
   "metadata": {},
   "source": [
    "### 4.3 set difference\n",
    "1. Returns set of elements that are only in set1 but not in set2\n",
    "***syntax:***\n",
    "\n",
    "1. Using '-' operator\n",
    "\n",
    "   Set3 = Set1-Set2"
   ]
  },
  {
   "cell_type": "code",
   "execution_count": 41,
   "metadata": {},
   "outputs": [
    {
     "name": "stdout",
     "output_type": "stream",
     "text": [
      "Set S1:  {1, 2, 3, 4, 5, 6, 7}\n",
      "Set S2:  {0, 4, 5, 6, 7, 8, 9}\n",
      "Set difference S1 - S2:  {1, 2, 3}\n",
      "Set difference S2 - S1:  {0, 8, 9}\n"
     ]
    }
   ],
   "source": [
    "S1 = {1,2,3,4,5,6,7}\n",
    "S2 = {4,5,6,7,8,9,0}\n",
    "print(\"Set S1: \",S1)\n",
    "print(\"Set S2: \",S2)\n",
    "print(\"Set difference S1 - S2: \",S1-S2)\n",
    "print(\"Set difference S2 - S1: \",S2-S1)"
   ]
  },
  {
   "cell_type": "markdown",
   "metadata": {},
   "source": [
    "### 4.4 Symmetric difference\n",
    "1. symmetric difference: set of elements in both set1 and set2 except those that are common in both.\n",
    "\n",
    "***syntax:***\n",
    "\n",
    "1. Using '^' operator\n",
    "\n",
    "   set3 = set1 ^  set2\n",
    "   \n",
    "2. set3 = set1.symmetric_difference(set2)"
   ]
  },
  {
   "cell_type": "code",
   "execution_count": 43,
   "metadata": {},
   "outputs": [
    {
     "name": "stdout",
     "output_type": "stream",
     "text": [
      "Set S1:  {1, 2, 3, 4, 5, 6, 7}\n",
      "Set S2:  {0, 4, 5, 6, 7, 8, 9}\n",
      "Set symmetric difference S1 ^ S2:  {0, 1, 2, 3, 8, 9}\n",
      "Set symmetric difference S2 ^ S1:  {0, 1, 2, 3, 8, 9}\n"
     ]
    }
   ],
   "source": [
    "S1 = {1,2,3,4,5,6,7}\n",
    "S2 = {4,5,6,7,8,9,0}\n",
    "print(\"Set S1: \",S1)\n",
    "print(\"Set S2: \",S2)\n",
    "print(\"Set symmetric difference S1 ^ S2: \",S1^S2)\n",
    "print(\"Set symmetric difference S2 ^ S1: \",S2.symmetric_difference(S1))"
   ]
  },
  {
   "cell_type": "markdown",
   "metadata": {},
   "source": [
    "### 4.5 issubset\n",
    "1. To check whether set1 is subset of set2 issubset keyword is used\n"
   ]
  },
  {
   "cell_type": "code",
   "execution_count": 44,
   "metadata": {},
   "outputs": [
    {
     "name": "stdout",
     "output_type": "stream",
     "text": [
      "True\n"
     ]
    }
   ],
   "source": [
    "S1 = {1,2,3}\n",
    "S2 = {1,2,3,4,5,6,7,8,9,0}\n",
    "\n",
    "if S1.issubset(S2):\n",
    "    print(\"True\")\n",
    "else:\n",
    "    print(\"False\")\n"
   ]
  },
  {
   "cell_type": "markdown",
   "metadata": {},
   "source": [
    "### 5. Frozen Sets\n",
    "\n",
    "1. Frozen sets has the characteristics of sets, but we can't be changed once it's assigned. While tuple are immutable lists, frozen sets are immutable sets\n",
    "2. Frozensets can be created using the function frozenset()\n",
    "3. Sets being mutable are unhashable, so they can't be used as dictionary keys. \n",
    "4. On the other hand, frozensets are hashable and can be used as keys to a dictionary.\n",
    "5. This datatype supports methods like copy(), difference(), intersection(), isdisjoint(), issubset(), issuperset(), symmetric_difference() and union(). Being immutable it does not have method that add or remove elements."
   ]
  },
  {
   "cell_type": "code",
   "execution_count": 45,
   "metadata": {},
   "outputs": [
    {
     "ename": "AttributeError",
     "evalue": "'frozenset' object has no attribute 'add'",
     "output_type": "error",
     "traceback": [
      "\u001b[1;31m---------------------------------------------------------------------------\u001b[0m",
      "\u001b[1;31mAttributeError\u001b[0m                            Traceback (most recent call last)",
      "\u001b[1;32m<ipython-input-45-627ec1ce44a6>\u001b[0m in \u001b[0;36m<module>\u001b[1;34m\u001b[0m\n\u001b[0;32m      3\u001b[0m \u001b[1;33m\u001b[0m\u001b[0m\n\u001b[0;32m      4\u001b[0m \u001b[1;31m#try to add element into set1 gives an error\u001b[0m\u001b[1;33m\u001b[0m\u001b[1;33m\u001b[0m\u001b[1;33m\u001b[0m\u001b[0m\n\u001b[1;32m----> 5\u001b[1;33m \u001b[0mset1\u001b[0m\u001b[1;33m.\u001b[0m\u001b[0madd\u001b[0m\u001b[1;33m(\u001b[0m\u001b[1;36m5\u001b[0m\u001b[1;33m)\u001b[0m\u001b[1;33m\u001b[0m\u001b[1;33m\u001b[0m\u001b[0m\n\u001b[0m",
      "\u001b[1;31mAttributeError\u001b[0m: 'frozenset' object has no attribute 'add'"
     ]
    }
   ],
   "source": [
    "set1 = frozenset([1, 2, 3, 4])\n",
    "set2 = frozenset([3, 4, 5, 6])\n",
    "\n",
    "#try to add element into set1 gives an error\n",
    "set1.add(5)"
   ]
  },
  {
   "cell_type": "code",
   "execution_count": 46,
   "metadata": {},
   "outputs": [
    {
     "ename": "TypeError",
     "evalue": "'frozenset' object does not support indexing",
     "output_type": "error",
     "traceback": [
      "\u001b[1;31m---------------------------------------------------------------------------\u001b[0m",
      "\u001b[1;31mTypeError\u001b[0m                                 Traceback (most recent call last)",
      "\u001b[1;32m<ipython-input-46-5c8e05737e66>\u001b[0m in \u001b[0;36m<module>\u001b[1;34m\u001b[0m\n\u001b[1;32m----> 1\u001b[1;33m \u001b[0mprint\u001b[0m\u001b[1;33m(\u001b[0m\u001b[0mset1\u001b[0m\u001b[1;33m[\u001b[0m\u001b[1;36m1\u001b[0m\u001b[1;33m]\u001b[0m\u001b[1;33m)\u001b[0m \u001b[1;31m# frozen set doesn't support indexing\u001b[0m\u001b[1;33m\u001b[0m\u001b[1;33m\u001b[0m\u001b[0m\n\u001b[0m",
      "\u001b[1;31mTypeError\u001b[0m: 'frozenset' object does not support indexing"
     ]
    }
   ],
   "source": [
    "print(set1[1]) # frozen set doesn't support indexing"
   ]
  },
  {
   "cell_type": "code",
   "execution_count": 47,
   "metadata": {},
   "outputs": [
    {
     "name": "stdout",
     "output_type": "stream",
     "text": [
      "frozenset({1, 2, 3, 4, 5, 6})\n"
     ]
    }
   ],
   "source": [
    "print(set1 | set2) #union of 2 sets"
   ]
  },
  {
   "cell_type": "code",
   "execution_count": 48,
   "metadata": {},
   "outputs": [
    {
     "name": "stdout",
     "output_type": "stream",
     "text": [
      "frozenset({3, 4})\n",
      "frozenset({3, 4})\n"
     ]
    }
   ],
   "source": [
    "#intersection of two sets\n",
    "print(set1 & set2)\n",
    "\n",
    "#or \n",
    "print(set1.intersection(set2))"
   ]
  },
  {
   "cell_type": "code",
   "execution_count": 49,
   "metadata": {},
   "outputs": [
    {
     "name": "stdout",
     "output_type": "stream",
     "text": [
      "frozenset({1, 2, 5, 6})\n",
      "frozenset({1, 2, 5, 6})\n"
     ]
    }
   ],
   "source": [
    "#symmetric difference\n",
    "print(set1 ^ set2)\n",
    "\n",
    "#or\n",
    "print(set1.symmetric_difference(set2))"
   ]
  }
 ],
 "metadata": {
  "kernelspec": {
   "display_name": "Python 3",
   "language": "python",
   "name": "python3"
  },
  "language_info": {
   "codemirror_mode": {
    "name": "ipython",
    "version": 3
   },
   "file_extension": ".py",
   "mimetype": "text/x-python",
   "name": "python",
   "nbconvert_exporter": "python",
   "pygments_lexer": "ipython3",
   "version": "3.7.6"
  }
 },
 "nbformat": 4,
 "nbformat_minor": 2
}
