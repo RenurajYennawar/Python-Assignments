{
 "cells": [
  {
   "cell_type": "markdown",
   "metadata": {},
   "source": [
    "# List\n",
    "### Data Structure:\n",
    "\n",
    "A data structure is a collection of data elements (such as numbers or characters—or even other data structures) that is structured in some way, for example, by numbering the elements. The most basic data structure in Python is the \"sequence\".\n",
    "\n",
    "1. List is one of the Sequence Data structure\n",
    "2. Lists are collection of items (Strings, integers or even other lists)\n",
    "3. Lists are enclosed in [ ]\n",
    "4. Each item in the list has an assigned index value.\n",
    "5. Each item in a list is separated by a comma\n",
    "6. Lists are mutable, which means they can be changed.\n"
   ]
  },
  {
   "cell_type": "markdown",
   "metadata": {},
   "source": [
    "### 1. List Creation"
   ]
  },
  {
   "cell_type": "code",
   "execution_count": 1,
   "metadata": {},
   "outputs": [
    {
     "name": "stdout",
     "output_type": "stream",
     "text": [
      "[1, 'ramu', 24, 1.24]\n"
     ]
    }
   ],
   "source": [
    "emptyList = [] # This creates an empty List\n",
    "\n",
    "lst = ['one', 'two', 'three', 'four'] # list of strings\n",
    "\n",
    "lst2 = [1, 2, 3, 4] #list of integers\n",
    "\n",
    "lst3 = [[1, 2], [3, 4]] # list of lists\n",
    "\n",
    "lst4 = [1, 'ramu', 24, 1.24] # list of different datatypes\n",
    "\n",
    "print(lst4)\n"
   ]
  },
  {
   "cell_type": "markdown",
   "metadata": {},
   "source": [
    "### 2. List Length"
   ]
  },
  {
   "cell_type": "code",
   "execution_count": 3,
   "metadata": {},
   "outputs": [
    {
     "name": "stdout",
     "output_type": "stream",
     "text": [
      "Length of list is 9\n"
     ]
    }
   ],
   "source": [
    "L = [1,2,3,4,5,6,7,8,8]\n",
    "print(\"Length of list is {}\".format(len(L))) # len() is a function to find out length/ number of items in list"
   ]
  },
  {
   "cell_type": "markdown",
   "metadata": {},
   "source": [
    "### 3. List Append\n",
    "Append function adds items to the end of the list\n",
    "\n",
    "***Syntax:***\n",
    "\n",
    "List_name.append(item_name)"
   ]
  },
  {
   "cell_type": "code",
   "execution_count": 5,
   "metadata": {},
   "outputs": [
    {
     "name": "stdout",
     "output_type": "stream",
     "text": [
      "[1, 2, 3, 4, 5, 6, 7, 8, 8, 999, 999]\n"
     ]
    }
   ],
   "source": [
    "L.append(999) #element 999 is added at the end of list L\n",
    "print(L)"
   ]
  },
  {
   "cell_type": "markdown",
   "metadata": {},
   "source": [
    "### 4. List Insert\n",
    "1. To insert an element in the list at particular location we use insert function.\n",
    "2. insert function takes two arguments, location and item to be inserted\n",
    "\n",
    "***syntax:***\n",
    "\n",
    "list_name.insert ( location , item )\n"
   ]
  },
  {
   "cell_type": "code",
   "execution_count": 17,
   "metadata": {},
   "outputs": [
    {
     "name": "stdout",
     "output_type": "stream",
     "text": [
      "['n', 'i', 'l', 'e', 's', 'h']\n"
     ]
    }
   ],
   "source": [
    "L = ['n', 'i', 'l', 's','h'] # here at location 3 'e' letter is missing in the name nilesh\n",
    "                             # 's' and 'h' are shifted to the right by one position\n",
    "L.insert(3,'e')              # insert function inserts 'e' letter at the location 3\n",
    "\n",
    "print(L)"
   ]
  },
  {
   "cell_type": "markdown",
   "metadata": {},
   "source": [
    "### 5. List Remove\n",
    "1. To remove an item from the list we use remove() function\n",
    "2. We donot need to pass location in the insert function\n",
    "3. Just pass item name that you want to remove from the list\n",
    "\n",
    "***syntax:***\n",
    "\n",
    "list_name.remove( item_name )"
   ]
  },
  {
   "cell_type": "code",
   "execution_count": 31,
   "metadata": {},
   "outputs": [
    {
     "name": "stdout",
     "output_type": "stream",
     "text": [
      "['n', 'i', 'l', 's']\n",
      "[1, 2, 44, 55, 3]\n"
     ]
    }
   ],
   "source": [
    "L0 = ['n', 'i', 'l', 's','h']\n",
    "L0.remove('h') # letter 'h' from list will be removed\n",
    "print(L0)\n",
    "\n",
    "# what if you try to remove an item that is not present in the list?\n",
    "#L.remove('k') # this will throw error as 'k' item is not present in the list\n",
    "\n",
    "#what if multiple occurances of item that we want to remove from the list ?\n",
    "\n",
    "L1 = [1,2,3,44,55,3]\n",
    "L1.remove(3)\n",
    "print(L1)\n",
    "\n",
    "# in this case first occurance of '3' is removed!"
   ]
  },
  {
   "cell_type": "markdown",
   "metadata": {},
   "source": [
    "### 6. List Delete or Pop\n",
    "1. To delete list item using index del ***keyword*** is used\n",
    "2. It takes only one argument i.e. index location of which you want to delete item\n",
    "3. Similar operation can be performed using function pop()\n",
    "4. pop() function takes index location as an argument\n",
    "5. Both operations performs left shift of following items after deletion\n",
    "6. pop() function also returns the deleted value\n",
    "***syntax:***\n",
    "\n",
    "del list_name[index]\n",
    "\n",
    "var_name = list_name.pop(index)"
   ]
  },
  {
   "cell_type": "code",
   "execution_count": 37,
   "metadata": {},
   "outputs": [
    {
     "name": "stdout",
     "output_type": "stream",
     "text": [
      "List after delete  [1, 2, 3, 4, 6, 7, 8]\n",
      "List after pop  [2, 3, 4, 6, 7, 8]\n",
      "poped item:  1\n"
     ]
    }
   ],
   "source": [
    "L1 = [1,2,3,4,5,6,7,8]\n",
    "\n",
    "del L1[4] # deletes the item from list L1 indexed at location 4\n",
    "print(\"List after delete \", L1)\n",
    "\n",
    "var = L1.pop(0)\n",
    "print(\"List after pop \", L1)\n",
    "\n",
    "print(\"poped item: \",var)"
   ]
  },
  {
   "cell_type": "markdown",
   "metadata": {},
   "source": [
    "### 7. List Append\n",
    "1. It appends list at the end of another list\n",
    "2. Note that another appended list is considered as an item in the original list\n",
    "\n",
    "***syntax:***\n",
    "\n",
    "list1.append(list2)"
   ]
  },
  {
   "cell_type": "code",
   "execution_count": 26,
   "metadata": {},
   "outputs": [
    {
     "name": "stdout",
     "output_type": "stream",
     "text": [
      "[1, 2, 3, ['a', 'b', 'c']]\n"
     ]
    }
   ],
   "source": [
    "L1 = [1,2,3]\n",
    "L2 = ['a','b','c']\n",
    "\n",
    "L1.append(L2) # Entire L2 as a list will be appended at the end of list L1\n",
    "print(L1)"
   ]
  },
  {
   "cell_type": "markdown",
   "metadata": {},
   "source": [
    "### 8. List Extend\n",
    "1. It extends the original list with another list items\n",
    "2. First list items remains as it is, second list items are appended as items.\n",
    "3. Unlike Append where entire list is appended as an item in original list\n",
    "\n",
    "***syntax:***\n",
    "\n",
    "list1.extend(list2)"
   ]
  },
  {
   "cell_type": "code",
   "execution_count": 28,
   "metadata": {},
   "outputs": [
    {
     "name": "stdout",
     "output_type": "stream",
     "text": [
      "[1, 2, 3, 'a', 'b', 'c']\n"
     ]
    }
   ],
   "source": [
    "L1 = [1,2,3]\n",
    "L2 = ['a','b','c']\n",
    "\n",
    "L1.extend(L2) # items of L2 are appended as items at the end of L1 list\n",
    "\n",
    "print(L1)"
   ]
  },
  {
   "cell_type": "markdown",
   "metadata": {},
   "source": [
    "### 9. List Reverse\n",
    "1. The reverse function is used to completely reverse the strin items\n",
    "\n",
    "***syntax:***\n",
    "\n",
    "List_name.reverse()\n"
   ]
  },
  {
   "cell_type": "code",
   "execution_count": 40,
   "metadata": {},
   "outputs": [
    {
     "name": "stdout",
     "output_type": "stream",
     "text": [
      "List before reverse [1, 2, 3, 4, 5, 6]\n",
      "List after reverse [6, 5, 4, 3, 2, 1]\n"
     ]
    }
   ],
   "source": [
    "L = [1,2,3,4,5,6]\n",
    "print(\"List before reverse\",L)\n",
    "L.reverse()\n",
    "print(\"List after reverse\",L)"
   ]
  },
  {
   "cell_type": "markdown",
   "metadata": {},
   "source": [
    "### 10. List Sorting\n",
    "### 10.1 using sorted() function\n",
    "\n",
    "1. The easiest way to sort a List is with the sorted(list) function.\n",
    "2. That takes a list and returns a new list with those elements in sorted order.\n",
    "3. The original list is not changed.\n",
    "4. The sorted() optional argument reverse=True, e.g. sorted(list, reverse=True), makes it sort backwards.\n",
    "\n",
    "***syntax***\n",
    "\n",
    "sorted_list = sorted(input_list)                  # for ascending order\n",
    "\n",
    "sorted_list = sorted(input_list, reverse = True)  # for descending order"
   ]
  },
  {
   "cell_type": "code",
   "execution_count": 44,
   "metadata": {},
   "outputs": [
    {
     "name": "stdout",
     "output_type": "stream",
     "text": [
      "L is  [1, 6, 88, 2, 3, -1, 4, 5, 120, 6, 7, 8]\n",
      "sorted_L is [-1, 1, 2, 3, 4, 5, 6, 6, 7, 8, 88, 120]\n",
      "sorted_L is [120, 88, 8, 7, 6, 6, 5, 4, 3, 2, 1, -1]\n"
     ]
    }
   ],
   "source": [
    "L = [1,6,88,2,3,-1, 4,5, 120, 6,7,8]\n",
    "print(\"L is \", L)\n",
    "sorted_L = sorted(L)\n",
    "print(\"sorted_L is\",sorted_L)# Sorts list in ascending order by default\n",
    "\n",
    "sorted_L_reerse = sorted(L, reverse = True)\n",
    "print(\"sorted_L is\",sorted_L_reerse) # Sorts list in descending order"
   ]
  },
  {
   "cell_type": "markdown",
   "metadata": {},
   "source": [
    "### 10.2 using sort() function\n",
    "1. sort() function sorts the list itself \n",
    "2. No need to create new list store sorted list\n",
    "\n",
    "***syntax:***\n",
    "\n",
    "list_name.sort()"
   ]
  },
  {
   "cell_type": "code",
   "execution_count": 45,
   "metadata": {},
   "outputs": [
    {
     "name": "stdout",
     "output_type": "stream",
     "text": [
      "L1 before sorting:  [1, 2, 3, 55, -1, 0, 54, -7]\n",
      "L1 after sorting:  [-7, -1, 0, 1, 2, 3, 54, 55]\n"
     ]
    }
   ],
   "source": [
    "L1 = [1,2,3,55,-1,0,54,-7]\n",
    "print(\"L1 before sorting: \",L1)\n",
    "L1.sort()\n",
    "print(\"L1 after sorting: \",L1)"
   ]
  },
  {
   "cell_type": "markdown",
   "metadata": {},
   "source": [
    "### 11. List having multiple references\n"
   ]
  },
  {
   "cell_type": "code",
   "execution_count": 58,
   "metadata": {},
   "outputs": [
    {
     "name": "stdout",
     "output_type": "stream",
     "text": [
      "List1 =  [1, 2, 3, 4, 6]     List2 =  [1, 2, 3, 4, 6]\n",
      "Adress of  List1:  85982472\n",
      "Adress of  List2:  85982472\n",
      "List1 =  [1, 2, 3, 999, 6]     List2 =  [1, 2, 3, 999, 6]\n",
      "Adress of  List1:  85982472\n",
      "Adress of  List2:  85982472\n"
     ]
    }
   ],
   "source": [
    "List1 = [1,2,3,4,6]\n",
    "List2 = List1 # This is not a deep copy but a shallow copy\n",
    "print(\"List1 = \",List1,\"    List2 = \", List2)\n",
    "print(\"Adress of  List1: \", id(List1))\n",
    "print(\"Adress of  List2: \", id(List2)) # Both list variables points at same memory location\n",
    "#Python internally tries to optimize memory allocation\n",
    "\n",
    "#if you make change in List1? Changes are reflected in both lists\n",
    "List1[3] = 999\n",
    "print(\"List1 = \",List1,\"    List2 = \", List2)\n",
    "print(\"Adress of  List1: \", id(List1))\n",
    "print(\"Adress of  List2: \", id(List2)) # Both list variables points at same memory location\n",
    "\n"
   ]
  },
  {
   "cell_type": "markdown",
   "metadata": {},
   "source": [
    "### 9. Two keywords used on List: ***in*** and ***not in*** \n",
    "1. \"in\" checks whether item is present in the list or not\n",
    "2. \"not in\" checks whether item is not present in the list or not"
   ]
  },
  {
   "cell_type": "code",
   "execution_count": 39,
   "metadata": {},
   "outputs": [
    {
     "name": "stdout",
     "output_type": "stream",
     "text": [
      "3 present in list\n",
      "5 not present in list\n"
     ]
    }
   ],
   "source": [
    "L1 = [1,2,3,4,6]\n",
    "if 3 in L1:\n",
    "    print(\"3 present in list\")\n",
    "if 5 not in L1:\n",
    "    print(\"5 not present in list\")"
   ]
  },
  {
   "cell_type": "markdown",
   "metadata": {},
   "source": [
    "### 10. String Split to create list\n",
    "1. Sometimes it is necessary to convert string into a list to perform list related operations.\n",
    "\n",
    "***syntax:***\n",
    "\n",
    "string_name.split('sepearator')\n",
    "\n",
    "1. Here split function takes and argument as a seperator. string is converted into list elements based on these seperator\n",
    "2. If parameter is not passed then default seperator is whitespace"
   ]
  },
  {
   "cell_type": "code",
   "execution_count": 7,
   "metadata": {},
   "outputs": [
    {
     "name": "stdout",
     "output_type": "stream",
     "text": [
      "['My', 'name', 'is', 'nilesh.', 'I', 'like', 'Python']\n",
      "['one', ' two', ' three', ' four', ' five']\n",
      "['My name is nilesh. I like Python']\n"
     ]
    }
   ],
   "source": [
    "string = \"My name is nilesh. I like Python\"\n",
    "List = string.split() # default split method considers whitespace as sperator\n",
    "print(List)\n",
    "\n",
    "string1 = \"one, two, three, four, five\"\n",
    "List1 = string1.split(',') # here ',' is considered as seperator\n",
    "print(List1)\n",
    "\n",
    "List3 = string.split(',') # Though here ',' is not availabe hence entire string is considered as list item\n",
    "print(List3)\n"
   ]
  },
  {
   "cell_type": "markdown",
   "metadata": {},
   "source": [
    "### 11. List Indexing\n",
    "1. List is an ordered collection of items of different types\n",
    "2. one can access list items using indices\n",
    "3. Slicing of list is Accessing parts of segments.\n",
    "\n",
    "***syntax:***\n",
    "\n",
    "list[start_index: end_index: step_size]\n"
   ]
  },
  {
   "cell_type": "code",
   "execution_count": 14,
   "metadata": {},
   "outputs": [
    {
     "name": "stdout",
     "output_type": "stream",
     "text": [
      "5\n",
      "9\n",
      "[8, 9]\n",
      "[2, 3, 4, 5, 6, 7, 8, 9]\n",
      "[0, 1, 2, 3, 4, 5, 6, 7, 8, 9]\n",
      "[2, 4, 6]\n",
      "[0, 2, 4, 6, 8]\n"
     ]
    }
   ],
   "source": [
    "L = [0,1,2,3,4,5,6,7,8,9]\n",
    "print(L[5])   # prints list item indexed at location 5\n",
    "print(L[-1])  # prints last list item \n",
    "print(L[-2:]) # prints all list item staring from second last index till list ends\n",
    "print(L[2:])  # prints all list item staring from index 2 item till list ends\n",
    "print(L[:])   # prints all elements of the list\n",
    "\n",
    "print(L[2:8:2]) # prints list element starting from index 2 to index 8 with step size 2\n",
    "\n",
    "print(L[::2]) # prints list element starting from index 0 to last element of list with step size 2"
   ]
  },
  {
   "cell_type": "markdown",
   "metadata": {},
   "source": [
    "### 12. List extending using '+' operator\n",
    "1. Two list elements are combined to form new list using '+' operator\n",
    "2. The order of elements remains are as per the squence of operands"
   ]
  },
  {
   "cell_type": "code",
   "execution_count": 15,
   "metadata": {},
   "outputs": [
    {
     "name": "stdout",
     "output_type": "stream",
     "text": [
      "['a', 'b', 'c', 1, 2, 3]\n"
     ]
    }
   ],
   "source": [
    "L1 = ['a','b','c']\n",
    "L2 = [1,2,3]\n",
    "\n",
    "L3 = L1+L2\n",
    "\n",
    "print(L3)"
   ]
  },
  {
   "cell_type": "markdown",
   "metadata": {},
   "source": [
    "### 13. List cout\n",
    "1. This function is widely used in data science applications\n",
    "2. To count particular occuarnces (frequency) of an element from the list count() function is used\n",
    "\n",
    "***syntax:***\n",
    "\n",
    "list_name.count(item_name)"
   ]
  },
  {
   "cell_type": "code",
   "execution_count": 17,
   "metadata": {},
   "outputs": [
    {
     "name": "stdout",
     "output_type": "stream",
     "text": [
      "4\n"
     ]
    }
   ],
   "source": [
    "L = [1,54,76,98,2,456,768,1,54,1,65,78,238,1,0]\n",
    "\n",
    "print(L.count(1)) # prints number of occurances of list item '1' in L\n"
   ]
  },
  {
   "cell_type": "markdown",
   "metadata": {},
   "source": [
    "### 14. Looping through list"
   ]
  },
  {
   "cell_type": "code",
   "execution_count": 18,
   "metadata": {},
   "outputs": [
    {
     "name": "stdout",
     "output_type": "stream",
     "text": [
      "nilesh\n",
      "likes\n",
      "Python\n",
      "the\n",
      "most\n"
     ]
    }
   ],
   "source": [
    "L = ['nilesh', 'likes', 'Python', 'the', 'most']\n",
    "\n",
    "for ele in L:\n",
    "    print(ele)"
   ]
  },
  {
   "cell_type": "markdown",
   "metadata": {},
   "source": [
    "### 15. List Comprehensions\n",
    "\n",
    "1. List comprehensions provide a concise way to create lists.\n",
    "2. Common applications are to make new lists where each element is the result of some operations applied to each member of another sequence or iterable, or to create a subsequence of those elements that satisfy a certain condition.\n"
   ]
  },
  {
   "cell_type": "code",
   "execution_count": 20,
   "metadata": {},
   "outputs": [
    {
     "name": "stdout",
     "output_type": "stream",
     "text": [
      "[0, 1, 4, 9, 16, 25, 36, 49, 64, 81]\n",
      "[0, 1, 4, 9, 16, 25, 36, 49, 64, 81]\n"
     ]
    }
   ],
   "source": [
    "# example to create list which stores squares of first 10 numbers\n",
    "\n",
    "# Without List Comprehensions\n",
    "\n",
    "Squares = [] # created an empty list\n",
    "\n",
    "for i in range(10):\n",
    "    Squares.append(i**2)\n",
    "print(Squares)\n",
    "\n",
    "# With List Coprehensions\n",
    "\n",
    "squares = [i ** 2 for i in range(10)] # Same functionality but reduced code size\n",
    "print(squares)"
   ]
  },
  {
   "cell_type": "markdown",
   "metadata": {},
   "source": [
    "### more examples on list comprehensions"
   ]
  },
  {
   "cell_type": "code",
   "execution_count": 28,
   "metadata": {},
   "outputs": [
    {
     "name": "stdout",
     "output_type": "stream",
     "text": [
      "List     =  [0, 1, -2, 3, 4, -5, 6, 7, 8, -9]\n",
      "New List =  [0, 2, -4, 6, 8, -10, 12, 14, 16, -18]\n",
      "New List =  [1, 3, 4, 6, 7, 8] Printing only +ve numbers\n",
      "[(0, 0), (1, 2), (-2, -4), (3, 6), (4, 8), (-5, -10), (6, 12), (7, 14), (8, 16), (-9, -18)]\n"
     ]
    }
   ],
   "source": [
    "List = [0,1,-2,3,4,-5,6,7,8,-9]\n",
    "print(\"List     = \",List)\n",
    "# list comprehension to double every element of the List and store in new list\n",
    "newList = [ele * 2 for ele in List]\n",
    "print(\"New List = \", newList)\n",
    "\n",
    "# list comprehension to print only negative numbers\n",
    "newList = [i for i in List if i > 0]\n",
    "print(\"New List = \", newList, \"Printing only +ve numbers\")\n",
    "\n",
    "# List comprehensions to create list of tuples\n",
    "\n",
    "newList = [(i,i*2) for i in List]\n",
    "print(newList)"
   ]
  },
  {
   "cell_type": "markdown",
   "metadata": {},
   "source": [
    "### Matrix transpose with and without list comprehensions"
   ]
  },
  {
   "cell_type": "code",
   "execution_count": 30,
   "metadata": {},
   "outputs": [
    {
     "name": "stdout",
     "output_type": "stream",
     "text": [
      "Matrix =  [[1, 2, 3, 4], [5, 6, 7, 8], [-1, -2, -3, -4]]\n",
      "Transposed Matrix =  [[1, 5, -1], [2, 6, -2], [3, 7, -3], [4, 8, -4]]\n"
     ]
    }
   ],
   "source": [
    "Matrix = [\n",
    "    [1,2,3,4],\n",
    "    [5,6,7,8],\n",
    "    [-1,-2,-3,-4]\n",
    "]\n",
    "\n",
    "# Matrix transpose without list comprehensions\n",
    "\n",
    "Transpose = [] # created an empty list\n",
    "\n",
    "for i in range(4):\n",
    "    lst = []\n",
    "    for row in Matrix:\n",
    "        lst.append(row[i])\n",
    "    Transpose.append(lst)\n",
    "print(\"Matrix = \",Matrix)\n",
    "print(\"Transposed Matrix = \",Transpose)\n",
    "\n",
    "        "
   ]
  },
  {
   "cell_type": "code",
   "execution_count": 33,
   "metadata": {},
   "outputs": [
    {
     "name": "stdout",
     "output_type": "stream",
     "text": [
      "Transposed Matrix =  [[1, 5, -1], [2, 6, -2], [3, 7, -3], [4, 8, -4]]\n"
     ]
    }
   ],
   "source": [
    "# Matrix tranpose using List Comprehensions\n",
    "\n",
    "Transposed = [[row[i] for row in Matrix] for i in range(4)]\n",
    "print(\"Transposed Matrix = \",Transposed)\n"
   ]
  },
  {
   "cell_type": "markdown",
   "metadata": {},
   "source": [
    "# End of List Chapter"
   ]
  }
 ],
 "metadata": {
  "kernelspec": {
   "display_name": "Python 3",
   "language": "python",
   "name": "python3"
  },
  "language_info": {
   "codemirror_mode": {
    "name": "ipython",
    "version": 3
   },
   "file_extension": ".py",
   "mimetype": "text/x-python",
   "name": "python",
   "nbconvert_exporter": "python",
   "pygments_lexer": "ipython3",
   "version": "3.7.6"
  }
 },
 "nbformat": 4,
 "nbformat_minor": 2
}
