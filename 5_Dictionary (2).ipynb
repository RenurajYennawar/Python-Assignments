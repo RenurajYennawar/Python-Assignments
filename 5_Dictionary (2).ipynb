{
 "cells": [
  {
   "cell_type": "markdown",
   "metadata": {
    "id": "iLYblyKUI9-w"
   },
   "source": [
    "# Dictionary\n",
    "1. Python dictionary is an unordered collection of items. \n",
    "2. While other compound data types have only value as an element, a dictionary has a key: value pair.\n",
    "3. If we use tuple (key, value) for string data, then its searching cost is O( n ) where n is total # elements\n",
    "4. Dictionary internally uses complecated hash functions which results in very effecinent access to the data"
   ]
  },
  {
   "cell_type": "markdown",
   "metadata": {
    "id": "-9FZSJClI9-x"
   },
   "source": [
    "### 1. Dictionary creation"
   ]
  },
  {
   "cell_type": "code",
   "execution_count": 1,
   "metadata": {
    "colab": {
     "base_uri": "https://localhost:8080/",
     "height": 67
    },
    "id": "q0_YxjuWI9-y",
    "outputId": "2b6ee4ae-636f-4586-aea5-3165ec3a75a9"
   },
   "outputs": [
    {
     "name": "stdout",
     "output_type": "stream",
     "text": [
      "{1: 'abc', 2: 'xyz'}\n",
      "{'name': 'satish', 1: ['abc', 'xyz']}\n",
      "{1: 'abc', 2: 'xyz'}\n"
     ]
    }
   ],
   "source": [
    "#empty dictionary\n",
    "my_dict = {}\n",
    "\n",
    "# L = [(1,'abc'), (2, 'xyz'), (3, 'pqr')]\n",
    "#dictionary with integer keys\n",
    "my_dict = {1: 'abc', 2: 'xyz'}\n",
    "print(my_dict)\n",
    "my_dict[2] \n",
    "#dictionary with mixed keys\n",
    "my_dict = {'name': 'satish', 1: ['abc', 'xyz']}\n",
    "print(my_dict)\n",
    "\n",
    "\n",
    "#create empty dictionary using dict()\n",
    "my_dict = dict()\n",
    "\n",
    "my_dict = dict([(1, 'abc'), (2, 'xyz')])    #create a dict with list of tuples\n",
    "print(my_dict)"
   ]
  },
  {
   "cell_type": "markdown",
   "metadata": {
    "id": "HgMDtuoqI9-4"
   },
   "source": [
    "### 2. Dictionary Access\n",
    "1. Dictionary contais key, value pair (key: value)\n",
    "2. Valuse are accessed using keys\n",
    "3. If value is present then it is rturned and if not the throws an error\n",
    "4. Using get() method, if key is not present then this function returns message as \"None\"\n",
    "\n",
    "***syntax:***\n",
    "\n",
    "1. dict_name[key]\n",
    "\n",
    "2. dict_name.get(key)"
   ]
  },
  {
   "cell_type": "markdown",
   "metadata": {
    "id": "cBkL073JOy8I"
   },
   "source": [
    "L = [1,2,3]"
   ]
  },
  {
   "cell_type": "code",
   "execution_count": null,
   "metadata": {
    "id": "t_HB8onmWpJ0"
   },
   "outputs": [],
   "source": []
  },
  {
   "cell_type": "code",
   "execution_count": 39,
   "metadata": {
    "colab": {
     "base_uri": "https://localhost:8080/",
     "height": 34
    },
    "id": "mQxZe8xJI9-4",
    "outputId": "cea2cd44-2116-4a2c-de54-e97cd67242eb"
   },
   "outputs": [
    {
     "name": "stdout",
     "output_type": "stream",
     "text": [
      "{'name': 'Nilesh', 'age': 20, 'address': ['Benglore', 'Bombay', 'Delhi']}\n"
     ]
    }
   ],
   "source": [
    "my_dict = {'name': 'Nilesh', 'age': 20, 'address': ['Benglore','Bombay']}\n",
    "my_dict['address'].append('Delhi')\n",
    "#get name using key\n",
    "print(my_dict)"
   ]
  },
  {
   "cell_type": "code",
   "execution_count": null,
   "metadata": {
    "id": "cFzRCKvvI9-8",
    "outputId": "3caf6c67-9956-48ad-afa1-685b05f73be9"
   },
   "outputs": [
    {
     "ename": "KeyError",
     "evalue": "'degree'",
     "output_type": "error",
     "traceback": [
      "\u001b[1;31m---------------------------------------------------------------------------\u001b[0m",
      "\u001b[1;31mKeyError\u001b[0m                                  Traceback (most recent call last)",
      "\u001b[1;32m<ipython-input-3-ac4c061783ba>\u001b[0m in \u001b[0;36m<module>\u001b[1;34m\u001b[0m\n\u001b[0;32m      1\u001b[0m \u001b[1;31m#if key is not present it gives KeyError\u001b[0m\u001b[1;33m\u001b[0m\u001b[1;33m\u001b[0m\u001b[1;33m\u001b[0m\u001b[0m\n\u001b[1;32m----> 2\u001b[1;33m \u001b[0mprint\u001b[0m\u001b[1;33m(\u001b[0m\u001b[0mmy_dict\u001b[0m\u001b[1;33m[\u001b[0m\u001b[1;34m'degree'\u001b[0m\u001b[1;33m]\u001b[0m\u001b[1;33m)\u001b[0m\u001b[1;33m\u001b[0m\u001b[1;33m\u001b[0m\u001b[0m\n\u001b[0m",
      "\u001b[1;31mKeyError\u001b[0m: 'degree'"
     ]
    }
   ],
   "source": [
    "#if key is not present it gives KeyError\n",
    "print(my_dict['degree'])"
   ]
  },
  {
   "cell_type": "code",
   "execution_count": 12,
   "metadata": {
    "colab": {
     "base_uri": "https://localhost:8080/",
     "height": 34
    },
    "id": "RsmzvVhjI9_A",
    "outputId": "f77f8d96-b388-4b1d-8edd-150d96f645cb"
   },
   "outputs": [
    {
     "name": "stdout",
     "output_type": "stream",
     "text": [
      "None\n"
     ]
    }
   ],
   "source": [
    "#another way of accessing key\n",
    "print(my_dict.get('degree'))"
   ]
  },
  {
   "cell_type": "code",
   "execution_count": null,
   "metadata": {
    "id": "R4IGCAYUI9_F",
    "outputId": "752a9adb-b7a7-412d-fe90-6c14d489d9af"
   },
   "outputs": [
    {
     "name": "stdout",
     "output_type": "stream",
     "text": [
      "None\n"
     ]
    }
   ],
   "source": [
    "#if key is not present it will give None using get method\n",
    "print(my_dict.get('degree'))"
   ]
  },
  {
   "cell_type": "markdown",
   "metadata": {
    "id": "YI_eXvqMI9_I"
   },
   "source": [
    "### 3. Dictionary Add or Modify elements\n",
    "1. We can update value for particular key and\n",
    "2. We can also add new key value pair\n",
    "\n",
    "***syntax:*** \n",
    "\n",
    "1. Update value of a key\n",
    "\n",
    "    dict_name[key] = value\n",
    "    \n",
    "\n",
    "2. Add new key value pair\n",
    "\n",
    "    dict_name[key] = value\n"
   ]
  },
  {
   "cell_type": "code",
   "execution_count": 13,
   "metadata": {
    "colab": {
     "base_uri": "https://localhost:8080/",
     "height": 34
    },
    "id": "wQl1to27I9_J",
    "outputId": "567582ff-247a-4631-a43d-1a5bdd54df72"
   },
   "outputs": [
    {
     "name": "stdout",
     "output_type": "stream",
     "text": [
      "{'name': 'raju', 'age': 27, 'address': 'guntur'}\n"
     ]
    }
   ],
   "source": [
    "my_dict = {'name': 'satish', 'age': 27, 'address': 'guntur'}\n",
    "\n",
    "#update name \n",
    "my_dict['name'] = 'raju'\n",
    "\n",
    "print(my_dict)"
   ]
  },
  {
   "cell_type": "code",
   "execution_count": 15,
   "metadata": {
    "colab": {
     "base_uri": "https://localhost:8080/",
     "height": 34
    },
    "id": "b7daC06mI9_N",
    "outputId": "21d28f7b-c667-478e-d509-9f366007341e"
   },
   "outputs": [
    {
     "name": "stdout",
     "output_type": "stream",
     "text": [
      "{'name': 'raju', 'age': 27, 'address': 'guntur', 'degree': 'M.Tech'}\n"
     ]
    }
   ],
   "source": [
    "#add new key\n",
    "my_dict['degree'] = 'M.Tech'\n",
    "\n",
    "print(my_dict)"
   ]
  },
  {
   "cell_type": "code",
   "execution_count": 16,
   "metadata": {
    "colab": {
     "base_uri": "https://localhost:8080/",
     "height": 35
    },
    "id": "nHSxb8-FRX9x",
    "outputId": "13fc0f92-bcf1-498f-df6c-a885b3f57cb5"
   },
   "outputs": [
    {
     "data": {
      "application/vnd.google.colaboratory.intrinsic+json": {
       "type": "string"
      },
      "text/plain": [
       "'M.Tech'"
      ]
     },
     "execution_count": 16,
     "metadata": {
      "tags": []
     },
     "output_type": "execute_result"
    }
   ],
   "source": [
    "my_dict['degree']"
   ]
  },
  {
   "cell_type": "markdown",
   "metadata": {
    "id": "Vw5ikDUDI9_R"
   },
   "source": [
    "### 4. Dictionary delete or remove element\n",
    "1. pop( item_name ) function removes item_name element\n",
    "2. popitem() function removes an arbitrary element from the dictionary\n",
    "3. del dict_name[key] del keyword deletes particular item mentioned as key\n",
    "4. clear( ) function deletes entire dictionary. After accessing it, it will print empty\n",
    "5. Complete dictionary can also be deleted using del keyword"
   ]
  },
  {
   "cell_type": "code",
   "execution_count": 18,
   "metadata": {
    "colab": {
     "base_uri": "https://localhost:8080/",
     "height": 229
    },
    "id": "t7679C5hI9_S",
    "outputId": "b0bda03f-a370-4904-caf5-af5002d51358"
   },
   "outputs": [
    {
     "ename": "KeyError",
     "evalue": "ignored",
     "output_type": "error",
     "traceback": [
      "\u001b[0;31m---------------------------------------------------------------------------\u001b[0m",
      "\u001b[0;31mKeyError\u001b[0m                                  Traceback (most recent call last)",
      "\u001b[0;32m<ipython-input-18-52f80ac9bebe>\u001b[0m in \u001b[0;36m<module>\u001b[0;34m()\u001b[0m\n\u001b[1;32m      3\u001b[0m \u001b[0;34m\u001b[0m\u001b[0m\n\u001b[1;32m      4\u001b[0m \u001b[0;31m#remove a particular item\u001b[0m\u001b[0;34m\u001b[0m\u001b[0;34m\u001b[0m\u001b[0;34m\u001b[0m\u001b[0m\n\u001b[0;32m----> 5\u001b[0;31m \u001b[0mprint\u001b[0m\u001b[0;34m(\u001b[0m\u001b[0mmy_dict\u001b[0m\u001b[0;34m.\u001b[0m\u001b[0mpop\u001b[0m\u001b[0;34m(\u001b[0m\u001b[0;34m'degree'\u001b[0m\u001b[0;34m)\u001b[0m\u001b[0;34m)\u001b[0m\u001b[0;34m\u001b[0m\u001b[0;34m\u001b[0m\u001b[0m\n\u001b[0m\u001b[1;32m      6\u001b[0m \u001b[0;34m\u001b[0m\u001b[0m\n\u001b[1;32m      7\u001b[0m \u001b[0mprint\u001b[0m\u001b[0;34m(\u001b[0m\u001b[0mmy_dict\u001b[0m\u001b[0;34m)\u001b[0m\u001b[0;34m\u001b[0m\u001b[0;34m\u001b[0m\u001b[0m\n",
      "\u001b[0;31mKeyError\u001b[0m: 'degree'"
     ]
    }
   ],
   "source": [
    "#create a dictionary\n",
    "my_dict = {'name': 'Nilesh', 'age': 30, 'address': 'Pune'}\n",
    "\n",
    "#remove a particular item\n",
    "print(my_dict.pop('age'))\n",
    "\n",
    "print(my_dict)"
   ]
  },
  {
   "cell_type": "code",
   "execution_count": 21,
   "metadata": {
    "colab": {
     "base_uri": "https://localhost:8080/",
     "height": 34
    },
    "id": "ApruaT6eI9_V",
    "outputId": "8dc31007-79b1-45d4-c991-6020aa1fa218"
   },
   "outputs": [
    {
     "name": "stdout",
     "output_type": "stream",
     "text": [
      "{'name': 'Nilesh', 'age': 30}\n"
     ]
    }
   ],
   "source": [
    "my_dict = {'name': 'Nilesh', 'age': 30, 'address': 'Pune'}\n",
    "\n",
    "#remove an arbitarty key\n",
    "my_dict.popitem()\n",
    "\n",
    "print(my_dict)"
   ]
  },
  {
   "cell_type": "code",
   "execution_count": 23,
   "metadata": {
    "colab": {
     "base_uri": "https://localhost:8080/",
     "height": 34
    },
    "id": "bNbh_A7HI9_Z",
    "outputId": "7d6df0e1-e386-4131-e446-ea300020ebb2"
   },
   "outputs": [
    {
     "name": "stdout",
     "output_type": "stream",
     "text": [
      "{3: 9, 4: 16, 5: 30}\n"
     ]
    }
   ],
   "source": [
    "squares = {2: 4, 3: 9, 4: 16, 5: 25, 5:30}\n",
    "\n",
    "#delete particular key\n",
    "del squares[2]\n",
    "\n",
    "print(squares)"
   ]
  },
  {
   "cell_type": "code",
   "execution_count": 25,
   "metadata": {
    "colab": {
     "base_uri": "https://localhost:8080/",
     "height": 34
    },
    "id": "N_BLF2LjI9_c",
    "outputId": "03c401f2-75d9-4d54-dc2f-cbc8eedb7891"
   },
   "outputs": [
    {
     "name": "stdout",
     "output_type": "stream",
     "text": [
      "<class 'dict'>\n"
     ]
    }
   ],
   "source": [
    "squares = {2: 4, 3: 9, 4: 16, 5: 25}\n",
    "\n",
    "#remove all items\n",
    "squares.clear()\n",
    "\n",
    "print(type(squares))"
   ]
  },
  {
   "cell_type": "code",
   "execution_count": null,
   "metadata": {
    "id": "2mglegn8I9_f",
    "outputId": "d5626010-f9f2-429d-e797-82bfe05266c5"
   },
   "outputs": [
    {
     "ename": "NameError",
     "evalue": "name 'squares' is not defined",
     "output_type": "error",
     "traceback": [
      "\u001b[1;31m---------------------------------------------------------------------------\u001b[0m",
      "\u001b[1;31mNameError\u001b[0m                                 Traceback (most recent call last)",
      "\u001b[1;32m<ipython-input-25-6fac7747ecad>\u001b[0m in \u001b[0;36m<module>\u001b[1;34m\u001b[0m\n\u001b[0;32m      4\u001b[0m \u001b[1;32mdel\u001b[0m \u001b[0msquares\u001b[0m\u001b[1;33m\u001b[0m\u001b[1;33m\u001b[0m\u001b[0m\n\u001b[0;32m      5\u001b[0m \u001b[1;33m\u001b[0m\u001b[0m\n\u001b[1;32m----> 6\u001b[1;33m \u001b[0mprint\u001b[0m\u001b[1;33m(\u001b[0m\u001b[0msquares\u001b[0m\u001b[1;33m)\u001b[0m \u001b[1;31m#NameError because dict is deleted\u001b[0m\u001b[1;33m\u001b[0m\u001b[1;33m\u001b[0m\u001b[0m\n\u001b[0m",
      "\u001b[1;31mNameError\u001b[0m: name 'squares' is not defined"
     ]
    }
   ],
   "source": [
    "squares = {2: 4, 3: 9, 4: 16, 5: 25}\n",
    "\n",
    "#delete dictionary itself\n",
    "del squares\n",
    "\n",
    "print(squares) #NameError because dict is deleted"
   ]
  },
  {
   "cell_type": "markdown",
   "metadata": {
    "id": "WJfwnvuuI9_j"
   },
   "source": [
    "### 5. Dictionary Methods\n"
   ]
  },
  {
   "cell_type": "markdown",
   "metadata": {
    "id": "PJ1cCr9GI9_j"
   },
   "source": [
    "### 5.1 Copy( )\n",
    "1. This method is used to copy data of one dictionary to other\n",
    "\n",
    "***syntax:***\n",
    "\n",
    "target_dict = source_dict.copy()\n"
   ]
  },
  {
   "cell_type": "code",
   "execution_count": 30,
   "metadata": {
    "colab": {
     "base_uri": "https://localhost:8080/",
     "height": 50
    },
    "id": "u1TW42SVI9_l",
    "outputId": "9d7fd522-556f-4652-c0a1-3b80830377d2"
   },
   "outputs": [
    {
     "name": "stdout",
     "output_type": "stream",
     "text": [
      "dict2 =  {1: 'One', 2: 'Two', 3: 'Three'}\n",
      "dict1 =  {1: 'Four', 2: 'Two', 3: 'Three'}\n"
     ]
    }
   ],
   "source": [
    "dict1 = {1: 'One', 2: 'Two', 3: 'Three'}\n",
    "#print(\"dict1 = \",dict1)\n",
    "dict2 = dict1.copy()\n",
    "dict1[1] = \"Four\"\n",
    "print(\"dict2 = \",dict2)\n",
    "print(\"dict1 = \",dict1)"
   ]
  },
  {
   "cell_type": "markdown",
   "metadata": {
    "id": "oWrLPgSiI9_o"
   },
   "source": [
    "### 5.2 Creating dictionary using fromkeys\n",
    "1. This is another way to create dictionaries"
   ]
  },
  {
   "cell_type": "code",
   "execution_count": 47,
   "metadata": {
    "colab": {
     "base_uri": "https://localhost:8080/",
     "height": 34
    },
    "id": "IqCTgrcAI9_p",
    "outputId": "e3adb21d-aa66-4482-b3c0-11a8b472cc0c"
   },
   "outputs": [
    {
     "name": "stdout",
     "output_type": "stream",
     "text": [
      "{1: 0, 2: 0, 3: 0, 4: 0, 5: 0}\n"
     ]
    }
   ],
   "source": [
    "dict2 = {}.fromkeys([1,2,3,4,5],0)\n",
    "# dict2[1].append(\"d\")\n",
    "\n",
    "\n",
    "print(dict2)\n",
    "# {} indicates create empty list\n",
    "# key list [ ] is passed to fromkeys function \n",
    "# fromkeys function also has 0 as initializer"
   ]
  },
  {
   "cell_type": "markdown",
   "metadata": {
    "id": "bbFeueoGI9_s"
   },
   "source": [
    "### 5.3 visualizing dictionary using items( ) function\n"
   ]
  },
  {
   "cell_type": "code",
   "execution_count": 57,
   "metadata": {
    "colab": {
     "base_uri": "https://localhost:8080/",
     "height": 50
    },
    "id": "zCtM3DtXI9_s",
    "outputId": "9eb971ff-30f6-4c68-d8f2-fa5aee6fb30d"
   },
   "outputs": [
    {
     "name": "stdout",
     "output_type": "stream",
     "text": [
      "[(2, 4), (3, 9), (4, 16), (5, 25)]\n",
      "(5, 25)\n"
     ]
    }
   ],
   "source": [
    "squares = {2:4, 3:9, 4:16, 5:25}\n",
    "items = list(squares.items())\n",
    "print(items)\n",
    "print(items[3])\n",
    "#print(squares.items()) #return a new view of the dictionary items (key, value)\n",
    "#As you can observe it returns list of tuples "
   ]
  },
  {
   "cell_type": "code",
   "execution_count": 60,
   "metadata": {
    "colab": {
     "base_uri": "https://localhost:8080/",
     "height": 34
    },
    "id": "21652-rgI9_v",
    "outputId": "a5e35a2d-c5de-41d8-ebf4-44a7748e3f27"
   },
   "outputs": [
    {
     "name": "stdout",
     "output_type": "stream",
     "text": [
      "2\n"
     ]
    }
   ],
   "source": [
    "# To find out only keys of the dictionary\n",
    "keys = list(squares.keys())\n",
    "print(keys[0])"
   ]
  },
  {
   "cell_type": "code",
   "execution_count": 61,
   "metadata": {
    "colab": {
     "base_uri": "https://localhost:8080/",
     "height": 84
    },
    "id": "wUtRHZDaZJYp",
    "outputId": "03ad3f00-2864-486c-ece5-9f92ba3d160f"
   },
   "outputs": [
    {
     "name": "stdout",
     "output_type": "stream",
     "text": [
      "2\n",
      "3\n",
      "4\n",
      "5\n"
     ]
    }
   ],
   "source": [
    "for key in list(squares.keys()):\n",
    "  print(key)"
   ]
  },
  {
   "cell_type": "code",
   "execution_count": null,
   "metadata": {
    "id": "17r32aK8I9_y",
    "outputId": "e252c0bc-1710-4038-a288-969f56cbf2be"
   },
   "outputs": [
    {
     "name": "stdout",
     "output_type": "stream",
     "text": [
      "dict_values([4, 9, 16, 25])\n"
     ]
    }
   ],
   "source": [
    "# To find out only values of the dictionary\n",
    "print(subjects.values())"
   ]
  },
  {
   "cell_type": "code",
   "execution_count": null,
   "metadata": {
    "id": "w5zSpOl9I9_1",
    "outputId": "0f7f36ad-00a5-407b-8189-611c31f8b59a"
   },
   "outputs": [
    {
     "name": "stdout",
     "output_type": "stream",
     "text": [
      "['__class__', '__contains__', '__delattr__', '__delitem__', '__dir__', '__doc__', '__eq__', '__format__', '__ge__', '__getattribute__', '__getitem__', '__gt__', '__hash__', '__init__', '__init_subclass__', '__iter__', '__le__', '__len__', '__lt__', '__ne__', '__new__', '__reduce__', '__reduce_ex__', '__repr__', '__setattr__', '__setitem__', '__sizeof__', '__str__', '__subclasshook__', 'clear', 'copy', 'fromkeys', 'get', 'items', 'keys', 'pop', 'popitem', 'setdefault', 'update', 'values']\n"
     ]
    }
   ],
   "source": [
    "# Get all methods and attributes applied over the dictionary \n",
    "d = {}\n",
    "print(dir(d))"
   ]
  },
  {
   "cell_type": "markdown",
   "metadata": {
    "id": "unYz8UGOI9_4"
   },
   "source": [
    "### 5.4 Dictionary Comprehensions"
   ]
  },
  {
   "cell_type": "code",
   "execution_count": null,
   "metadata": {
    "id": "pqacgcynI9_5",
    "outputId": "8d5b9b73-3c26-423f-e6ad-8f7cc03b4fb3"
   },
   "outputs": [
    {
     "name": "stdout",
     "output_type": "stream",
     "text": [
      "('a', 1)\n",
      "('b', 2)\n",
      "('c', 3)\n"
     ]
    }
   ],
   "source": [
    "#Dict comprehensions are just like list comprehensions but for dictionaries\n",
    "\n",
    "d = {'a': 1, 'b': 2, 'c': 3}\n",
    "for pair in d.items():\n",
    "    print(pair)"
   ]
  },
  {
   "cell_type": "code",
   "execution_count": 64,
   "metadata": {
    "colab": {
     "base_uri": "https://localhost:8080/",
     "height": 50
    },
    "id": "juRMfXXLZoih",
    "outputId": "620e5d1f-4f4d-449b-b4c9-ac63e9103298"
   },
   "outputs": [
    {
     "name": "stdout",
     "output_type": "stream",
     "text": [
      "[0, 1, 4, 9, 16]\n",
      "[0, 1, 4, 9, 16]\n"
     ]
    }
   ],
   "source": [
    "L = [i**2 for i in range(5)]\n",
    "print(L)\n",
    "L1 = []\n",
    "for i in range(5):\n",
    "  L1.append(i**2)\n",
    "print(L1)\n"
   ]
  },
  {
   "cell_type": "code",
   "execution_count": 66,
   "metadata": {
    "colab": {
     "base_uri": "https://localhost:8080/",
     "height": 34
    },
    "id": "9W3QgZCvI9_7",
    "outputId": "967defcb-6ed1-4595-930d-2420f88ddad2"
   },
   "outputs": [
    {
     "name": "stdout",
     "output_type": "stream",
     "text": [
      "{'c': 3, 'd': 4}\n"
     ]
    }
   ],
   "source": [
    "#Creating a new dictionary with only pairs where the value is larger than 2\n",
    "d = {'a': 1, 'b': 2, 'c': 3, 'd': 4}\n",
    "new_dict = {key:value for key, value in d.items() if value > 2}\n",
    "print(new_dict)"
   ]
  },
  {
   "cell_type": "code",
   "execution_count": 67,
   "metadata": {
    "colab": {
     "base_uri": "https://localhost:8080/",
     "height": 34
    },
    "id": "ysxmX3s1I9_-",
    "outputId": "74c67c43-9ad6-4957-afa2-879fddb35d4a"
   },
   "outputs": [
    {
     "name": "stdout",
     "output_type": "stream",
     "text": [
      "{'cc': 6, 'dc': 8, 'ec': 10}\n"
     ]
    }
   ],
   "source": [
    "#We can also perform operations on the key value pairs\n",
    "d = {'a':1,'b':2,'c':3,'d':4,'e':5}\n",
    "d = {k + 'c':v * 2 for k, v in d.items() if v > 2}\n",
    "print(d)"
   ]
  },
  {
   "cell_type": "markdown",
   "metadata": {
    "id": "_MjALbZrI-AB"
   },
   "source": [
    "# End of Dictionary"
   ]
  }
 ],
 "metadata": {
  "colab": {
   "name": "5.Dictionary.ipynb",
   "provenance": []
  },
  "kernelspec": {
   "display_name": "Python 3",
   "language": "python",
   "name": "python3"
  },
  "language_info": {
   "codemirror_mode": {
    "name": "ipython",
    "version": 3
   },
   "file_extension": ".py",
   "mimetype": "text/x-python",
   "name": "python",
   "nbconvert_exporter": "python",
   "pygments_lexer": "ipython3",
   "version": "3.7.6"
  }
 },
 "nbformat": 4,
 "nbformat_minor": 1
}
