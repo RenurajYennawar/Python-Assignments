{
 "cells": [
  {
   "cell_type": "markdown",
   "metadata": {
    "id": "58iV0pgNPzV5"
   },
   "source": [
    "# Operations on NumPy"
   ]
  },
  {
   "cell_type": "markdown",
   "metadata": {
    "id": "Zau6CoE2PzV8"
   },
   "source": [
    "### Baics mathematical operations\n",
    "All mathematical operators with scalar operates elementwise"
   ]
  },
  {
   "cell_type": "code",
   "execution_count": 12,
   "metadata": {
    "colab": {
     "base_uri": "https://localhost:8080/",
     "height": 84
    },
    "id": "uIRPH4NRPzV8",
    "outputId": "cc22340b-aba0-497f-e489-6ffae7633245"
   },
   "outputs": [
    {
     "name": "stdout",
     "output_type": "stream",
     "text": [
      "[0 1 2 3 4 5 6 7 8 9]\n",
      "[21 22 23 24 25 26 27 28 29 30]\n",
      "[ 0  1  4  9 16 25 36 49 64 81]\n",
      "[0 0 1 1 2 2 3 3 4 4]\n"
     ]
    }
   ],
   "source": [
    "# scalar addition\n",
    "import numpy as np\n",
    "a = np.arange(10)\n",
    "\n",
    "# L = [1,2,3]\n",
    "# Lst = [i+1 for i in L]\n",
    "# print(Lst)\n",
    "\n",
    "print(a)\n",
    "aPlusOne = a + 21 # scalar 1 is added to each element of array\n",
    "print(aPlusOne)\n",
    "\n",
    "aPowerTwo = a**2\n",
    "print(aPowerTwo)\n",
    "\n",
    "aDivTwo = a//2\n",
    "print(aDivTwo)"
   ]
  },
  {
   "cell_type": "code",
   "execution_count": 13,
   "metadata": {
    "colab": {
     "base_uri": "https://localhost:8080/",
     "height": 50
    },
    "id": "qLKHvQtT3vQV",
    "outputId": "7777ea30-a1e5-4e15-d7ff-43b79e7a5c23"
   },
   "outputs": [
    {
     "name": "stdout",
     "output_type": "stream",
     "text": [
      "[[ 1  4  9]\n",
      " [16 25 36]]\n"
     ]
    }
   ],
   "source": [
    "a = np.array([ [1,2,3], [4,5,6] ])\n",
    "aPowerTwo = a**2\n",
    "print(aPowerTwo)"
   ]
  },
  {
   "cell_type": "code",
   "execution_count": 16,
   "metadata": {
    "colab": {
     "base_uri": "https://localhost:8080/",
     "height": 34
    },
    "id": "punwp9bE_85L",
    "outputId": "0f7254b1-b495-4c82-d178-adec0c81d6ec"
   },
   "outputs": [
    {
     "name": "stdout",
     "output_type": "stream",
     "text": [
      "[-2, 0, 2]\n"
     ]
    }
   ],
   "source": [
    "L1 = [1,2,3]\n",
    "L2 = [3,2,1]\n",
    "L3 = []\n",
    "for i in range(len(L1)):\n",
    "  L3.append(L1[i]-L2[i])\n",
    "print(L3)"
   ]
  },
  {
   "cell_type": "code",
   "execution_count": 17,
   "metadata": {
    "colab": {
     "base_uri": "https://localhost:8080/",
     "height": 34
    },
    "id": "lV_qIfaaAvhb",
    "outputId": "9ac78801-2fb8-42ad-f31a-b91c54da3afb"
   },
   "outputs": [
    {
     "name": "stdout",
     "output_type": "stream",
     "text": [
      "[-2, 0, 2]\n"
     ]
    }
   ],
   "source": [
    "L3 = [L1[i]- L2[i] for i in range(len(L1))]\n",
    "print(L3)"
   ]
  },
  {
   "cell_type": "code",
   "execution_count": 21,
   "metadata": {
    "colab": {
     "base_uri": "https://localhost:8080/",
     "height": 84
    },
    "id": "MAvzSVVWPzWD",
    "outputId": "459ab9fe-31ca-4c2d-d585-eca2d6ed7c6a"
   },
   "outputs": [
    {
     "name": "stdout",
     "output_type": "stream",
     "text": [
      "subtraction   :  [-2  0  2]\n",
      "Addition      :  [4 4 4]\n",
      "Division      :  [0.33333333 1.         3.        ]\n",
      "Multiplication:  [3 4 3]\n"
     ]
    }
   ],
   "source": [
    "a = np.array([1,2,3])\n",
    "b = np.array([3,2,1])\n",
    "print(\"subtraction   : \",np.subtract(a,b)) # a - b\n",
    "print(\"Addition      : \",np.add(a,b)) # a + b\n",
    "print(\"Division      : \",np.divide(a,b)) # a / b element wise\n",
    "print(\"Multiplication: \",np.multiply(a,b)) # a * b element wise"
   ]
  },
  {
   "cell_type": "code",
   "execution_count": null,
   "metadata": {
    "colab": {
     "base_uri": "https://localhost:8080/",
     "height": 118
    },
    "id": "nKDQ9RXpPzWG",
    "outputId": "9e7cc3a9-0281-4859-eb4b-f12bb67a6807"
   },
   "outputs": [
    {
     "name": "stdout",
     "output_type": "stream",
     "text": [
      "[[1. 1. 1.]\n",
      " [1. 1. 1.]\n",
      " [1. 1. 1.]]\n",
      "[[2. 2. 2.]\n",
      " [2. 2. 2.]\n",
      " [2. 2. 2.]]\n"
     ]
    }
   ],
   "source": [
    "b = np.ones((3,3))\n",
    "print(b)\n",
    "b = b + 1\n",
    "print(b)"
   ]
  },
  {
   "cell_type": "code",
   "execution_count": 23,
   "metadata": {
    "colab": {
     "base_uri": "https://localhost:8080/",
     "height": 353
    },
    "id": "ujW03zywPzWJ",
    "outputId": "232f56cf-c004-4f4a-959f-055459c52972"
   },
   "outputs": [
    {
     "name": "stdout",
     "output_type": "stream",
     "text": [
      "[[1 0 0 0]\n",
      " [0 2 0 0]\n",
      " [0 0 3 0]\n",
      " [0 0 0 4]]\n",
      "\n",
      "\n",
      "[[2 0 0 0]\n",
      " [0 2 0 0]\n",
      " [0 0 2 0]\n",
      " [0 0 0 2]]\n",
      "\n",
      "\n",
      "[[2 0 0 0]\n",
      " [0 4 0 0]\n",
      " [0 0 6 0]\n",
      " [0 0 0 8]]\n",
      "[[2 0 0 0]\n",
      " [0 4 0 0]\n",
      " [0 0 6 0]\n",
      " [0 0 0 8]]\n"
     ]
    }
   ],
   "source": [
    "# Multiplication of arrays\n",
    "\n",
    "A = np.diag([1,2,3,4])\n",
    "B = np.diag([2,2,2,2])\n",
    "print(A)\n",
    "print('\\n')\n",
    "print(B)\n",
    "print('\\n')\n",
    "\n",
    "C = A*B # This is a element wise matrix matrix Multiplication\n",
    "print(C)\n",
    "\n",
    "D = A.dot(B) # This is matrix-matrix multiplication\n",
    "print(D)"
   ]
  },
  {
   "cell_type": "markdown",
   "metadata": {
    "id": "xOj-ygvEPzWN"
   },
   "source": [
    "### Comparison\n",
    "1. Elementwise: compares elementwise and returns boolean value\n",
    "2. arraywise: checks whether two arrays similar or not and return True or False"
   ]
  },
  {
   "cell_type": "code",
   "execution_count": 47,
   "metadata": {
    "colab": {
     "base_uri": "https://localhost:8080/",
     "height": 67
    },
    "id": "DIOjSPkzPzWN",
    "outputId": "191e1b13-4d53-4ae1-c7eb-3bd2b771c805"
   },
   "outputs": [
    {
     "name": "stdout",
     "output_type": "stream",
     "text": [
      "[False  True False  True]\n",
      "[False  True False  True]\n",
      "<class 'numpy.ndarray'>\n"
     ]
    }
   ],
   "source": [
    "# Elementwise\n",
    "a = np.array([1, 2, 3, 4])\n",
    "b = np.array([5, 2, 2, 4])\n",
    "print(a == b)\n",
    "\n",
    "L = (a == b) # this returns boolean values as array that holds True or False based on comparison\n",
    "print(L)\n",
    "print(type(L))"
   ]
  },
  {
   "cell_type": "code",
   "execution_count": null,
   "metadata": {
    "colab": {
     "base_uri": "https://localhost:8080/",
     "height": 34
    },
    "id": "fOn9xVFiPzWQ",
    "outputId": "8b03fd46-793d-4567-daea-22a458f48a32"
   },
   "outputs": [
    {
     "data": {
      "text/plain": [
       "array([ True,  True, False,  True])"
      ]
     },
     "execution_count": 11,
     "metadata": {
      "tags": []
     },
     "output_type": "execute_result"
    }
   ],
   "source": [
    " a <= b"
   ]
  },
  {
   "cell_type": "code",
   "execution_count": 30,
   "metadata": {
    "colab": {
     "base_uri": "https://localhost:8080/",
     "height": 50
    },
    "id": "YDYu4WsaPzWU",
    "outputId": "f56cfdb1-fd90-499c-a2bb-6be0ad398906"
   },
   "outputs": [
    {
     "name": "stdout",
     "output_type": "stream",
     "text": [
      "False\n",
      "True\n"
     ]
    }
   ],
   "source": [
    "# Arraywise\n",
    "print(np.array_equal(a,b)) # if both are same returns True else False\n",
    "print(np.array_equal(a,a))"
   ]
  },
  {
   "cell_type": "markdown",
   "metadata": {
    "id": "dINY0nNePzWY"
   },
   "source": [
    "### Logical Operations"
   ]
  },
  {
   "cell_type": "code",
   "execution_count": null,
   "metadata": {
    "colab": {
     "base_uri": "https://localhost:8080/",
     "height": 151
    },
    "id": "1IW8mlWIPzWY",
    "outputId": "ccdba674-8c26-401a-cff7-f266130e1104",
    "scrolled": true
   },
   "outputs": [
    {
     "name": "stdout",
     "output_type": "stream",
     "text": [
      "      a :  [ True  True False False]\n",
      "      b :  [ True False  True False]\n",
      "\n",
      "\n",
      " a OR b :  [ True  True  True False]\n",
      "a AND b :  [ True False False False]\n",
      "a XOR b :  [False  True  True False]\n",
      "     !a :  [False False  True  True]\n"
     ]
    }
   ],
   "source": [
    "a = np.array([1, 1, 0, 0], dtype=bool)\n",
    "b = np.array([1, 0, 1, 0], dtype=bool)\n",
    "\n",
    "OR  = np.logical_or(a, b) # performs elementwise logical OR operation\n",
    "AND = np.logical_and(a,b) # performs elementwise logical AND operation\n",
    "XOR = np.logical_xor(a,b) # performs elementwise logical XOR operation\n",
    "NOT = np.logical_not(a)   # performs elementwise logical XOR operation\n",
    "\n",
    "print(\"      a : \",a)\n",
    "print(\"      b : \",b)\n",
    "print('\\n')\n",
    "\n",
    "print(\" a OR b : \",OR)\n",
    "print(\"a AND b : \",AND)\n",
    "print(\"a XOR b : \",XOR)\n",
    "print(\"     !a : \",NOT)\n"
   ]
  },
  {
   "cell_type": "code",
   "execution_count": 46,
   "metadata": {
    "colab": {
     "base_uri": "https://localhost:8080/",
     "height": 84
    },
    "id": "fwW1g_3hPzWb",
    "outputId": "24e83c6a-a714-4a02-a996-c928170c80b1"
   },
   "outputs": [
    {
     "name": "stdout",
     "output_type": "stream",
     "text": [
      "False\n",
      "False\n",
      "True\n",
      "#$^&\n"
     ]
    }
   ],
   "source": [
    "import numpy as np\n",
    "check = np.all([True, False, -21]) # Check whether all emements are True or nonzero\n",
    "print(check) # True, 1, Non zer\n",
    "\n",
    "# check = np.all([True, 1, True]) # Check whether all emements are True or nonzero\n",
    "# print(check)\n",
    "\n",
    "check = np.all([2, False, -1]) # Check whether all emements are True or nonzero\n",
    "print(check)\n",
    "\n",
    "check = np.all([]) # Check whether all emements are True or nonzero\n",
    "print(check)\n",
    "\n",
    "string = \"#$^&\"\n",
    "print(string)"
   ]
  },
  {
   "cell_type": "code",
   "execution_count": 45,
   "metadata": {
    "colab": {
     "base_uri": "https://localhost:8080/",
     "height": 67
    },
    "id": "2lGu01khPzWe",
    "outputId": "48ca88b7-0360-4b4d-9ec4-3bd094eebe04"
   },
   "outputs": [
    {
     "name": "stdout",
     "output_type": "stream",
     "text": [
      "True\n",
      "True\n",
      "False\n"
     ]
    }
   ],
   "source": [
    "\n",
    "check = np.any([True, 1, True]) # Check whether any one emements are True or nonzero\n",
    "print(check)\n",
    "\n",
    "\n",
    "check = np.any([True, 2.0, True]) # Check whether all emements are True or nonzero\n",
    "print(check)\n",
    "\n",
    "check = np.any([]) # Check whether all emements are True or nonzero\n",
    "print(check)"
   ]
  },
  {
   "cell_type": "code",
   "execution_count": 50,
   "metadata": {
    "colab": {
     "base_uri": "https://localhost:8080/",
     "height": 67
    },
    "id": "omZLjAyHPzWh",
    "outputId": "3da76319-5dc9-4ae1-c9be-fb2dd51257e1"
   },
   "outputs": [
    {
     "name": "stdout",
     "output_type": "stream",
     "text": [
      "[[9. 0.]\n",
      " [0. 0.]]\n"
     ]
    },
    {
     "data": {
      "text/plain": [
       "False"
      ]
     },
     "execution_count": 50,
     "metadata": {
      "tags": []
     },
     "output_type": "execute_result"
    }
   ],
   "source": [
    "#Note: can be used for array comparisions\n",
    "a = np.zeros((2, 2))\n",
    "a[0][0] = 9\n",
    "print(a)\n",
    "np.all(a != 0)"
   ]
  },
  {
   "cell_type": "code",
   "execution_count": null,
   "metadata": {
    "colab": {
     "base_uri": "https://localhost:8080/",
     "height": 34
    },
    "id": "1heRdMnFPzWr",
    "outputId": "962fd5b5-ccfe-45e0-90da-39f0c2f2ba8e"
   },
   "outputs": [
    {
     "data": {
      "text/plain": [
       "True"
      ]
     },
     "execution_count": 17,
     "metadata": {
      "tags": []
     },
     "output_type": "execute_result"
    }
   ],
   "source": [
    "np.all(a == a)"
   ]
  },
  {
   "cell_type": "code",
   "execution_count": null,
   "metadata": {
    "colab": {
     "base_uri": "https://localhost:8080/",
     "height": 34
    },
    "id": "1WCpOVEjPzWu",
    "outputId": "358b98af-8036-4b5c-b626-873bb4df7926"
   },
   "outputs": [
    {
     "data": {
      "text/plain": [
       "True"
      ]
     },
     "execution_count": 18,
     "metadata": {
      "tags": []
     },
     "output_type": "execute_result"
    }
   ],
   "source": [
    "a = np.array([1, 2, 3, 2])\n",
    "b = np.array([2, 2, 3, 2])\n",
    "c = np.array([6, 4, 4, 5])\n",
    "((a <= b) & (b <= c)).all()"
   ]
  },
  {
   "cell_type": "markdown",
   "metadata": {
    "id": "1HHeZgHyPzWx"
   },
   "source": [
    "### Transcendental Operations"
   ]
  },
  {
   "cell_type": "code",
   "execution_count": null,
   "metadata": {
    "colab": {
     "base_uri": "https://localhost:8080/",
     "height": 34
    },
    "id": "lgyoTfMNPzWx",
    "outputId": "4d086431-b664-42a2-ed85-6b78f563390f"
   },
   "outputs": [
    {
     "name": "stdout",
     "output_type": "stream",
     "text": [
      "[ 0.          0.84147098  0.90929743  0.14112001 -0.7568025 ]\n"
     ]
    }
   ],
   "source": [
    "a = np.arange(5)\n",
    "c = np.sin(a)   \n",
    "print(c)"
   ]
  },
  {
   "cell_type": "code",
   "execution_count": null,
   "metadata": {
    "colab": {
     "base_uri": "https://localhost:8080/",
     "height": 67
    },
    "id": "E-soQO99PzW0",
    "outputId": "4e95c532-1261-4ee2-ca94-f3f0f1db80b0"
   },
   "outputs": [
    {
     "name": "stderr",
     "output_type": "stream",
     "text": [
      "/usr/local/lib/python3.6/dist-packages/ipykernel_launcher.py:1: RuntimeWarning: divide by zero encountered in log\n",
      "  \"\"\"Entry point for launching an IPython kernel.\n"
     ]
    },
    {
     "data": {
      "text/plain": [
       "array([      -inf, 0.        , 0.69314718, 1.09861229, 1.38629436])"
      ]
     },
     "execution_count": 20,
     "metadata": {
      "tags": []
     },
     "output_type": "execute_result"
    }
   ],
   "source": [
    "np.log(a)\n"
   ]
  },
  {
   "cell_type": "code",
   "execution_count": null,
   "metadata": {
    "colab": {
     "base_uri": "https://localhost:8080/",
     "height": 34
    },
    "id": "5gn6zOvePzW3",
    "outputId": "3cb0d31d-f58a-4c63-c9ae-1bb695c98731"
   },
   "outputs": [
    {
     "data": {
      "text/plain": [
       "array([ 1.        ,  2.71828183,  7.3890561 , 20.08553692, 54.59815003])"
      ]
     },
     "execution_count": 21,
     "metadata": {
      "tags": []
     },
     "output_type": "execute_result"
    }
   ],
   "source": [
    "np.exp(a)   #evaluates e^x for each element in a given input"
   ]
  },
  {
   "cell_type": "markdown",
   "metadata": {
    "id": "Lt8XZRTlPzW6"
   },
   "source": [
    "### Shape mismatch"
   ]
  },
  {
   "cell_type": "code",
   "execution_count": null,
   "metadata": {
    "id": "tQxoAELmPzW6",
    "outputId": "0cb55592-2fce-4c79-a055-800658851224"
   },
   "outputs": [
    {
     "ename": "ValueError",
     "evalue": "operands could not be broadcast together with shapes (4,) (2,) ",
     "output_type": "error",
     "traceback": [
      "\u001b[1;31m---------------------------------------------------------------------------\u001b[0m",
      "\u001b[1;31mValueError\u001b[0m                                Traceback (most recent call last)",
      "\u001b[1;32m<ipython-input-49-7ded08b2ed74>\u001b[0m in \u001b[0;36m<module>\u001b[1;34m\u001b[0m\n\u001b[0;32m      1\u001b[0m \u001b[0ma\u001b[0m \u001b[1;33m=\u001b[0m \u001b[0mnp\u001b[0m\u001b[1;33m.\u001b[0m\u001b[0marange\u001b[0m\u001b[1;33m(\u001b[0m\u001b[1;36m4\u001b[0m\u001b[1;33m)\u001b[0m\u001b[1;33m\u001b[0m\u001b[1;33m\u001b[0m\u001b[0m\n\u001b[1;32m----> 2\u001b[1;33m \u001b[0ma\u001b[0m \u001b[1;33m+\u001b[0m \u001b[0mnp\u001b[0m\u001b[1;33m.\u001b[0m\u001b[0marray\u001b[0m\u001b[1;33m(\u001b[0m\u001b[1;33m[\u001b[0m\u001b[1;36m1\u001b[0m\u001b[1;33m,\u001b[0m \u001b[1;36m2\u001b[0m\u001b[1;33m]\u001b[0m\u001b[1;33m)\u001b[0m\u001b[1;33m\u001b[0m\u001b[1;33m\u001b[0m\u001b[0m\n\u001b[0m",
      "\u001b[1;31mValueError\u001b[0m: operands could not be broadcast together with shapes (4,) (2,) "
     ]
    }
   ],
   "source": [
    "a = np.arange(4)\n",
    "a + np.array([1, 2])"
   ]
  },
  {
   "cell_type": "markdown",
   "metadata": {
    "id": "Y5FxjbGiPzW9"
   },
   "source": [
    "### Basic Reductions\n",
    "1. Reduction operation combines all elements of an array by applying specified operation to a single value"
   ]
  },
  {
   "cell_type": "code",
   "execution_count": null,
   "metadata": {
    "colab": {
     "base_uri": "https://localhost:8080/",
     "height": 101
    },
    "id": "4osqaLwQPzW-",
    "outputId": "22cd34fd-bdf8-45e7-e845-18c8aed22887"
   },
   "outputs": [
    {
     "name": "stdout",
     "output_type": "stream",
     "text": [
      "a:  [ 5 -1 43 98]\n",
      "Sum of array:  145\n",
      "Min of array:  -1\n",
      "Max of array:  98\n",
      "<class 'numpy.int64'>\n"
     ]
    }
   ],
   "source": [
    "a = np.array([5,-1,43,98])\n",
    "print(\"a: \",a)\n",
    "\n",
    "reduceSum = np.sum(a) # reduction using + operator\n",
    "print(\"Sum of array: \",reduceSum)\n",
    "\n",
    "reduceMin = np.min(a) # reduction using + operator\n",
    "print(\"Min of array: \",reduceMin)\n",
    "\n",
    "reduceMax = np.max(a) # reduction using + operator\n",
    "print(\"Max of array: \",reduceMax)\n",
    "\n",
    "print(type(reduceSum))"
   ]
  },
  {
   "cell_type": "markdown",
   "metadata": {
    "id": "7xqV6BbBPzXB"
   },
   "source": [
    "#### sum can also performed on two arrays Note the difference"
   ]
  },
  {
   "cell_type": "code",
   "execution_count": null,
   "metadata": {
    "colab": {
     "base_uri": "https://localhost:8080/",
     "height": 67
    },
    "id": "MMugu6QIPzXB",
    "outputId": "72e2b363-7c26-469b-c0ad-ac258d3b5f38"
   },
   "outputs": [
    {
     "name": "stdout",
     "output_type": "stream",
     "text": [
      "21\n",
      "[6 7 8]\n",
      "[ 6 15]\n"
     ]
    }
   ],
   "source": [
    "a = np.array([1,2,3])\n",
    "b = np.array([5,5,5])\n",
    "\n",
    "print(np.sum([a,b]))\n",
    "\n",
    "print(np.sum([a,b],axis = 0)) # Row wise sum\n",
    "print(np.sum([a,b],axis = 1)) # Column wise sum"
   ]
  },
  {
   "cell_type": "markdown",
   "metadata": {
    "id": "vdTm79NVPzXE"
   },
   "source": [
    "#### dimensionwise reductions"
   ]
  },
  {
   "cell_type": "code",
   "execution_count": null,
   "metadata": {
    "colab": {
     "base_uri": "https://localhost:8080/",
     "height": 118
    },
    "id": "EsSdNNSbPzXE",
    "outputId": "26937e65-55a7-4a39-9c5c-0b0b54e91081",
    "scrolled": true
   },
   "outputs": [
    {
     "name": "stdout",
     "output_type": "stream",
     "text": [
      "[[1 2]\n",
      " [1 3]\n",
      " [1 1]]\n",
      "(3, 2)\n",
      "rsum:  [3 6]\n",
      "csum:  [3 4 2]\n"
     ]
    }
   ],
   "source": [
    "x = np.array([[1,2], [1,3], [1,1]])\n",
    "print(x)\n",
    "print(x.shape)\n",
    "csum = x.sum(axis=0) # reduction along 1st dimension i.e. columnwise sum of all elements\n",
    "rsum = x.sum(axis=1) # reduction along 2nd dimension i.e. rowwise sum of all elements\n",
    "print(\"rsum: \",rsum)\n",
    "print(\"csum: \",csum)"
   ]
  },
  {
   "cell_type": "markdown",
   "metadata": {
    "id": "kohiZE9fPzXH"
   },
   "source": [
    "###  Statistics Related Operations on arrays"
   ]
  },
  {
   "cell_type": "markdown",
   "metadata": {
    "id": "sPNHTEvdPzXH"
   },
   "source": [
    "### Mean"
   ]
  },
  {
   "cell_type": "code",
   "execution_count": null,
   "metadata": {
    "colab": {
     "base_uri": "https://localhost:8080/",
     "height": 168
    },
    "id": "GF_M-deePzXI",
    "outputId": "d75a8f00-bad7-4a71-c70d-984fb2e9c231"
   },
   "outputs": [
    {
     "name": "stdout",
     "output_type": "stream",
     "text": [
      "1.75\n",
      "<class 'numpy.float64'>\n",
      "3.0\n",
      "<class 'numpy.float64'>\n",
      "[3. 4. 2.]\n",
      "<class 'numpy.ndarray'>\n",
      "[2. 4.]\n",
      "\n",
      "  <class 'numpy.ndarray'>\n"
     ]
    }
   ],
   "source": [
    "x = np.array([1, 2, 3, 1])\n",
    "y = np.array([[1, 2, 3], [5, 6, 1]])\n",
    "\n",
    "print(x.mean()) # mean of all 4 elements\n",
    "print(type(x.mean()))\n",
    "\n",
    "print(y.mean()) # mean of all 6 elements\n",
    "print(type(y.mean()))\n",
    "\n",
    "print(np.mean(y,axis = 0)) # mean of all 3 elements in each row \n",
    "print(type(np.mean(y,axis = 0))) # note the return type is numpy.ndarray\n",
    "\n",
    "print(np.mean(y,axis = 1)) # mean of all 3 elements in each row \n",
    "print(\"\\n \",type(np.mean(y,axis = 1))) # note the return type is numpy.ndarray"
   ]
  },
  {
   "cell_type": "markdown",
   "metadata": {
    "id": "oFJ4m9whPzXK"
   },
   "source": [
    "### Standard deviation"
   ]
  },
  {
   "cell_type": "code",
   "execution_count": null,
   "metadata": {
    "colab": {
     "base_uri": "https://localhost:8080/",
     "height": 34
    },
    "id": "SZFk_gxBPzXL",
    "outputId": "d05d3a3e-39ed-4225-8d19-91b8004e795f"
   },
   "outputs": [
    {
     "name": "stdout",
     "output_type": "stream",
     "text": [
      "0.82915619758885\n"
     ]
    }
   ],
   "source": [
    "print(x.std())"
   ]
  },
  {
   "cell_type": "code",
   "execution_count": null,
   "metadata": {
    "colab": {
     "base_uri": "https://localhost:8080/",
     "height": 370
    },
    "id": "P2g3a38gPzXO",
    "outputId": "7e68aab0-81cf-49cd-a04f-373374f79a3b"
   },
   "outputs": [
    {
     "name": "stdout",
     "output_type": "stream",
     "text": [
      "[[ 1900. 30000.  4000. 48300.]\n",
      " [ 1901. 47200.  6100. 48200.]\n",
      " [ 1902. 70200.  9800. 41500.]\n",
      " [ 1903. 77400. 35200. 38200.]\n",
      " [ 1904. 36300. 59400. 40600.]\n",
      " [ 1905. 20600. 41700. 39800.]\n",
      " [ 1906. 18100. 19000. 38600.]\n",
      " [ 1907. 21400. 13000. 42300.]\n",
      " [ 1908. 22000.  8300. 44500.]\n",
      " [ 1909. 25400.  9100. 42100.]\n",
      " [ 1910. 27100.  7400. 46000.]\n",
      " [ 1911. 40300.  8000. 46800.]\n",
      " [ 1912. 57000. 12300. 43800.]\n",
      " [ 1913. 76600. 19500. 40900.]\n",
      " [ 1914. 52300. 45700. 39400.]\n",
      " [ 1915. 19500. 51100. 39000.]\n",
      " [ 1916. 11200. 29700. 36700.]\n",
      " [ 1917.  7600. 15800. 41800.]\n",
      " [ 1918. 14600.  9700. 43300.]\n",
      " [ 1919. 16200. 10100. 41300.]\n",
      " [ 1920. 24700.  8600. 47300.]]\n"
     ]
    }
   ],
   "source": [
    "import numpy as np\n",
    "idata = np.loadtxt('populations.txt')\n",
    "print(idata)"
   ]
  },
  {
   "cell_type": "code",
   "execution_count": null,
   "metadata": {
    "colab": {
     "base_uri": "https://localhost:8080/",
     "height": 67
    },
    "id": "ALGdjntqPzXR",
    "outputId": "afcb6347-f611-4f74-9153-16cf24c65012"
   },
   "outputs": [
    {
     "name": "stdout",
     "output_type": "stream",
     "text": [
      "[30000. 47200. 70200. 77400. 36300. 20600. 18100. 21400. 22000. 25400.\n",
      " 27100. 40300. 57000. 76600. 52300. 19500. 11200.  7600. 14600. 16200.\n",
      " 24700.]\n"
     ]
    }
   ],
   "source": [
    "year, hares, lynxes, carrots = idata.T #columns to variables\n",
    "#print(year)\n",
    "print(hares)"
   ]
  },
  {
   "cell_type": "code",
   "execution_count": null,
   "metadata": {
    "colab": {
     "base_uri": "https://localhost:8080/",
     "height": 370
    },
    "id": "KeLj6EamPzXU",
    "outputId": "d67286fb-cd0e-48d2-fa67-62fa4fbbbc03"
   },
   "outputs": [
    {
     "name": "stdout",
     "output_type": "stream",
     "text": [
      "[[30000.  4000. 48300.]\n",
      " [47200.  6100. 48200.]\n",
      " [70200.  9800. 41500.]\n",
      " [77400. 35200. 38200.]\n",
      " [36300. 59400. 40600.]\n",
      " [20600. 41700. 39800.]\n",
      " [18100. 19000. 38600.]\n",
      " [21400. 13000. 42300.]\n",
      " [22000.  8300. 44500.]\n",
      " [25400.  9100. 42100.]\n",
      " [27100.  7400. 46000.]\n",
      " [40300.  8000. 46800.]\n",
      " [57000. 12300. 43800.]\n",
      " [76600. 19500. 40900.]\n",
      " [52300. 45700. 39400.]\n",
      " [19500. 51100. 39000.]\n",
      " [11200. 29700. 36700.]\n",
      " [ 7600. 15800. 41800.]\n",
      " [14600.  9700. 43300.]\n",
      " [16200. 10100. 41300.]\n",
      " [24700.  8600. 47300.]]\n"
     ]
    }
   ],
   "source": [
    "population = idata[: , 1:] # [:,1:] all entries in first dimension i.e. number of rows, all columns indexed from 1\n",
    "print(population)"
   ]
  },
  {
   "cell_type": "code",
   "execution_count": null,
   "metadata": {
    "id": "aAIPmUPaPzXW",
    "outputId": "9c063c0d-98ac-4632-f0ae-36c0ed05ef24"
   },
   "outputs": [
    {
     "name": "stdout",
     "output_type": "stream",
     "text": [
      "[34080.95238095 20166.66666667 42400.        ]\n"
     ]
    }
   ],
   "source": [
    "popMean = np.mean(population, axis = 0)\n",
    "print(popMean)"
   ]
  },
  {
   "cell_type": "code",
   "execution_count": null,
   "metadata": {
    "id": "M0GlRmxPPzXZ",
    "outputId": "0e24368c-8b5a-48c1-bb41-c5af567ff43d"
   },
   "outputs": [
    {
     "name": "stdout",
     "output_type": "stream",
     "text": [
      "[20897.90645809 16254.59153691  3322.50622558]\n"
     ]
    }
   ],
   "source": [
    "popStd = np.std(population, axis = 0)\n",
    "print(popStd)"
   ]
  },
  {
   "cell_type": "code",
   "execution_count": null,
   "metadata": {
    "id": "NOxQWDOsPzXc",
    "outputId": "06d69f71-6080-4893-cd34-aa3db02cadec"
   },
   "outputs": [
    {
     "data": {
      "text/plain": [
       "array([2, 2, 0, 0, 1, 1, 2, 2, 2, 2, 2, 2, 0, 0, 0, 1, 2, 2, 2, 2, 2],\n",
       "      dtype=int64)"
      ]
     },
     "execution_count": 12,
     "metadata": {
      "tags": []
     },
     "output_type": "execute_result"
    }
   ],
   "source": [
    "#which species has the highest population each year?\n",
    "np.argmax(population, axis=1) # This returns column index of maximum element"
   ]
  },
  {
   "cell_type": "markdown",
   "metadata": {
    "id": "BiPzWjs4PzXh"
   },
   "source": [
    "## Broadcasting\n",
    "\n",
    "1. Basic operations on numpy arrays (addition, etc.) are elementwise\n",
    "2. This works on arrays of the same size. Nevertheless, It’s also possible to do operations on arrays of different sizes if NumPy can transform these arrays so that they all have the same size: this conversion is called broadcasting.\n",
    "3. The image below gives an example of broadcasting:"
   ]
  },
  {
   "cell_type": "code",
   "execution_count": 4,
   "metadata": {
    "colab": {
     "base_uri": "https://localhost:8080/",
     "height": 67
    },
    "id": "-_vIDMM2PzXi",
    "outputId": "6726dde8-5919-433c-a7d5-078a6b51c4b0"
   },
   "outputs": [
    {
     "data": {
      "text/plain": [
       "array([[ 0, 10, 20, 30, 40],\n",
       "       [ 0, 10, 20, 30, 40],\n",
       "       [ 0, 10, 20, 30, 40]])"
      ]
     },
     "execution_count": 4,
     "metadata": {
      "tags": []
     },
     "output_type": "execute_result"
    }
   ],
   "source": [
    "import numpy as np\n",
    "A = np.tile(np.arange(0,50,10),(3,1)) # (3,1) states create 3 copise of np.arange() in rows\n",
    "                                     #  1 says replicate these copies once in columns\n",
    "A "
   ]
  },
  {
   "cell_type": "code",
   "execution_count": null,
   "metadata": {
    "id": "JPZbBOvKPzXl",
    "outputId": "abab4d62-9b08-43af-a73e-20668a9645e8"
   },
   "outputs": [
    {
     "name": "stdout",
     "output_type": "stream",
     "text": [
      "[1 2 3 4 5]\n"
     ]
    }
   ],
   "source": [
    "B = np.array([1,2,3,4,5],)\n",
    "print(B)"
   ]
  },
  {
   "cell_type": "code",
   "execution_count": null,
   "metadata": {
    "id": "IGU0fvArPzXn",
    "outputId": "b75916fa-09f6-4e52-e646-3693150eee03",
    "scrolled": true
   },
   "outputs": [
    {
     "name": "stdout",
     "output_type": "stream",
     "text": [
      "[[ 1 12 23 34 45]\n",
      " [ 1 12 23 34 45]\n",
      " [ 1 12 23 34 45]]\n"
     ]
    }
   ],
   "source": [
    "C = A + B\n",
    "print(C)"
   ]
  },
  {
   "cell_type": "markdown",
   "metadata": {
    "id": "LDvjvDqlPzXr"
   },
   "source": [
    "If you observe [1,2,3,4,5] row is replicated(broadcasted) 3 times as rows to create a matrix of size 3x4\n",
    "then added with matrix A "
   ]
  },
  {
   "cell_type": "code",
   "execution_count": null,
   "metadata": {
    "id": "55Owq9yHPzXs",
    "outputId": "528f6704-0d36-4f4d-aa48-9d5e8cd900c7"
   },
   "outputs": [
    {
     "data": {
      "text/plain": [
       "(4,)"
      ]
     },
     "execution_count": 17,
     "metadata": {
      "tags": []
     },
     "output_type": "execute_result"
    }
   ],
   "source": [
    "a = np.arange(0,4,1)\n",
    "a.shape"
   ]
  },
  {
   "cell_type": "code",
   "execution_count": null,
   "metadata": {
    "id": "7yxvF_YOPzXv",
    "outputId": "7446841e-ad3f-4756-c26a-0ef29fed7447"
   },
   "outputs": [
    {
     "data": {
      "text/plain": [
       "(4, 1)"
      ]
     },
     "execution_count": 18,
     "metadata": {
      "tags": []
     },
     "output_type": "execute_result"
    }
   ],
   "source": [
    "a = a[:,np.newaxis]\n",
    "a.shape"
   ]
  },
  {
   "cell_type": "code",
   "execution_count": null,
   "metadata": {
    "id": "8hGQrLzNPzXy",
    "outputId": "e154d0fc-0326-45fb-df6c-9ae491116d90"
   },
   "outputs": [
    {
     "data": {
      "text/plain": [
       "array([[0],\n",
       "       [1],\n",
       "       [2],\n",
       "       [3]])"
      ]
     },
     "execution_count": 19,
     "metadata": {
      "tags": []
     },
     "output_type": "execute_result"
    }
   ],
   "source": [
    "a"
   ]
  },
  {
   "cell_type": "code",
   "execution_count": null,
   "metadata": {
    "id": "0wybi1ZIPzX1",
    "outputId": "6bf3b7dd-ef33-4a5d-83c5-30a7e8297686"
   },
   "outputs": [
    {
     "data": {
      "text/plain": [
       "array([1, 2, 3, 4, 5])"
      ]
     },
     "execution_count": 20,
     "metadata": {
      "tags": []
     },
     "output_type": "execute_result"
    }
   ],
   "source": [
    "B\n"
   ]
  },
  {
   "cell_type": "code",
   "execution_count": null,
   "metadata": {
    "id": "QRU3_x8GPzX3",
    "outputId": "162bd234-2d69-4be9-a4c6-4d46eb42df33"
   },
   "outputs": [
    {
     "data": {
      "text/plain": [
       "array([[1, 2, 3, 4, 5],\n",
       "       [2, 3, 4, 5, 6],\n",
       "       [3, 4, 5, 6, 7],\n",
       "       [4, 5, 6, 7, 8]])"
      ]
     },
     "execution_count": 21,
     "metadata": {
      "tags": []
     },
     "output_type": "execute_result"
    }
   ],
   "source": [
    "a + B #a is 1 D column replicated to convert into 4x5 matrix"
   ]
  },
  {
   "cell_type": "markdown",
   "metadata": {
    "id": "PUwa9bPcPzX6"
   },
   "source": [
    "### Array Shape Manipulation\n",
    "\n",
    "#### 1. Flattening: Converts higher dimension array into 1D\n"
   ]
  },
  {
   "cell_type": "code",
   "execution_count": 5,
   "metadata": {
    "colab": {
     "base_uri": "https://localhost:8080/",
     "height": 50
    },
    "id": "MINj1WbIPzX6",
    "outputId": "a7822e69-7527-44e5-9820-b9eb01caf1f5"
   },
   "outputs": [
    {
     "name": "stdout",
     "output_type": "stream",
     "text": [
      "(2, 2, 3)\n",
      "(12,)\n"
     ]
    }
   ],
   "source": [
    "a = np.array([[[1, 2, 3], [4, 5, 6]],[[1, 2, 3], [4, 5, 6]]])\n",
    "#print(a)\n",
    "print(a.shape)\n",
    "b = a.ravel() #Return a contiguous flattened array. A 1-D array, containing the elements of the input, is returned. \n",
    "          #A copy is made only if needed.\n",
    "print(b.shape)"
   ]
  },
  {
   "cell_type": "code",
   "execution_count": 6,
   "metadata": {
    "colab": {
     "base_uri": "https://localhost:8080/",
     "height": 151
    },
    "id": "5FL-knPpPzX9",
    "outputId": "3cec85a2-2c70-48ad-8c65-3b0f10330f16"
   },
   "outputs": [
    {
     "data": {
      "text/plain": [
       "array([[[1, 1],\n",
       "        [4, 4]],\n",
       "\n",
       "       [[2, 2],\n",
       "        [5, 5]],\n",
       "\n",
       "       [[3, 3],\n",
       "        [6, 6]]])"
      ]
     },
     "execution_count": 6,
     "metadata": {
      "tags": []
     },
     "output_type": "execute_result"
    }
   ],
   "source": [
    "a.T #Transpose\n"
   ]
  },
  {
   "cell_type": "code",
   "execution_count": 7,
   "metadata": {
    "colab": {
     "base_uri": "https://localhost:8080/",
     "height": 34
    },
    "id": "HwI4xylMPzYA",
    "outputId": "4fb1a638-09c6-42d8-f025-4eaf15f3127b"
   },
   "outputs": [
    {
     "data": {
      "text/plain": [
       "array([1, 1, 4, 4, 2, 2, 5, 5, 3, 3, 6, 6])"
      ]
     },
     "execution_count": 7,
     "metadata": {
      "tags": []
     },
     "output_type": "execute_result"
    }
   ],
   "source": [
    "a.T.ravel()"
   ]
  },
  {
   "cell_type": "markdown",
   "metadata": {
    "id": "qgdNykQ3PzYD"
   },
   "source": [
    "#### 2. Reshaping: Inverse of flatening i.e. 1D to higher dimensions"
   ]
  },
  {
   "cell_type": "code",
   "execution_count": null,
   "metadata": {
    "id": "iB8zJR4NPzYD",
    "outputId": "d82246ec-b6ee-4440-d0c0-6ae13a8f3014"
   },
   "outputs": [
    {
     "name": "stdout",
     "output_type": "stream",
     "text": [
      "(2, 3)\n",
      "[[1 2 3]\n",
      " [4 5 6]]\n"
     ]
    }
   ],
   "source": [
    "a = np.array([[1,2,3],[4,5,6]])\n",
    "print(a.shape)\n",
    "print(a)"
   ]
  },
  {
   "cell_type": "code",
   "execution_count": null,
   "metadata": {
    "id": "sB8jAn_qPzYG",
    "outputId": "fc4b735d-b28a-446b-e13b-034651bdf009"
   },
   "outputs": [
    {
     "name": "stdout",
     "output_type": "stream",
     "text": [
      "[1 2 3 4 5 6 1 2 3 4 5 6]\n"
     ]
    }
   ],
   "source": [
    "b = a.ravel()\n",
    "print(b)"
   ]
  },
  {
   "cell_type": "code",
   "execution_count": null,
   "metadata": {
    "id": "oh5FnYhHPzYK",
    "outputId": "b611fd7b-b104-4cb2-9a05-0d798d534315"
   },
   "outputs": [
    {
     "name": "stdout",
     "output_type": "stream",
     "text": [
      "[[[1 2 3]\n",
      "  [4 5 6]]\n",
      "\n",
      " [[1 2 3]\n",
      "  [4 5 6]]]\n"
     ]
    }
   ],
   "source": [
    "b = a.reshape(2,2,3)\n",
    "print(b)"
   ]
  },
  {
   "cell_type": "code",
   "execution_count": null,
   "metadata": {
    "id": "qOdF1VoBPzYO",
    "outputId": "67b7ec98-ed7e-46aa-f118-ec163a44a41f"
   },
   "outputs": [
    {
     "name": "stdout",
     "output_type": "stream",
     "text": [
      "[[1 2 3 4]\n",
      " [5 6 1 2]\n",
      " [3 4 5 6]]\n"
     ]
    }
   ],
   "source": [
    "b = a.reshape(3,4)\n",
    "print(b)"
   ]
  },
  {
   "cell_type": "markdown",
   "metadata": {
    "id": "8jWTyk2tPzYT"
   },
   "source": [
    "#### Note and Beware: reshape may also return a copy!:"
   ]
  },
  {
   "cell_type": "code",
   "execution_count": null,
   "metadata": {
    "id": "0KQTV_C6PzYT",
    "outputId": "8227ec3e-299a-4a66-963c-9dea6ca97d61"
   },
   "outputs": [
    {
     "name": "stdout",
     "output_type": "stream",
     "text": [
      "[[[999   2   3]\n",
      "  [  4   5   6]]\n",
      "\n",
      " [[  1   2   3]\n",
      "  [  4   5   6]]]\n"
     ]
    }
   ],
   "source": [
    "b[0][0] = 999\n",
    "print(a)"
   ]
  },
  {
   "cell_type": "code",
   "execution_count": null,
   "metadata": {
    "id": "wpNsI-0-PzYW",
    "outputId": "1db0e3d5-f80e-4e05-9177-262124f4f6a2"
   },
   "outputs": [
    {
     "data": {
      "text/plain": [
       "array([[0., 0.],\n",
       "       [0., 0.],\n",
       "       [0., 0.]])"
      ]
     },
     "execution_count": 153,
     "metadata": {
      "tags": []
     },
     "output_type": "execute_result"
    }
   ],
   "source": [
    "a = np.zeros((3, 2))\n",
    "b = a.T.reshape(3*2) # IF we use trnspose then it will not use same copy\n",
    "b[0] = 50\n",
    "a"
   ]
  },
  {
   "cell_type": "markdown",
   "metadata": {
    "id": "6hLAyjioPzYZ"
   },
   "source": [
    "### Adding a Dimension\n",
    "\n",
    "1. Indexing with the np.newaxis object allows us to add an axis to an array\n",
    "2. newaxis is used to increase the dimension of the existing array by one more dimension, when used once. Thus,\n",
    "3. 1D array will become 2D array\n",
    "4. 2D array will become 3D array\n",
    "5. 3D array will become 4D array and so on\n"
   ]
  },
  {
   "cell_type": "code",
   "execution_count": null,
   "metadata": {
    "id": "gft-wmMuPzYZ",
    "outputId": "cd029cfd-6051-44ec-b8e6-af7610a5ef67"
   },
   "outputs": [
    {
     "data": {
      "text/plain": [
       "array([1, 2, 3])"
      ]
     },
     "execution_count": 154,
     "metadata": {
      "tags": []
     },
     "output_type": "execute_result"
    }
   ],
   "source": [
    "z = np.array([1, 2, 3])\n",
    "z"
   ]
  },
  {
   "cell_type": "code",
   "execution_count": null,
   "metadata": {
    "id": "Q8WzjdjlPzYc",
    "outputId": "e0787fe5-8a74-41e1-fc42-bf7df5b67075"
   },
   "outputs": [
    {
     "name": "stdout",
     "output_type": "stream",
     "text": [
      "(3, 1)\n",
      "[[1]\n",
      " [2]\n",
      " [3]]\n"
     ]
    }
   ],
   "source": [
    "x = z[:,np.newaxis]\n",
    "print(x.shape)\n",
    "print(x)"
   ]
  },
  {
   "cell_type": "code",
   "execution_count": null,
   "metadata": {
    "id": "TcrkxTKyPzYg",
    "outputId": "f6af5b95-5ad7-4aa8-ed52-f75b9594eb22"
   },
   "outputs": [
    {
     "name": "stdout",
     "output_type": "stream",
     "text": [
      "(3, 1, 1)\n",
      "[[[1]]\n",
      "\n",
      " [[2]]\n",
      "\n",
      " [[3]]]\n"
     ]
    }
   ],
   "source": [
    "y = x[:,np.newaxis]\n",
    "y\n",
    "print(y.shape)\n",
    "print(y)"
   ]
  },
  {
   "cell_type": "markdown",
   "metadata": {
    "id": "mKo2Z4h_PzYi"
   },
   "source": [
    "#### Dimension Shuffling"
   ]
  },
  {
   "cell_type": "code",
   "execution_count": null,
   "metadata": {
    "id": "ldUggwMNPzYj",
    "outputId": "e08c33b5-9fe1-4d9e-d1f8-a4d96d7dc2fe"
   },
   "outputs": [
    {
     "name": "stdout",
     "output_type": "stream",
     "text": [
      "(4, 3, 2)\n",
      "[[[ 0  1]\n",
      "  [ 2  3]\n",
      "  [ 4  5]]\n",
      "\n",
      " [[ 6  7]\n",
      "  [ 8  9]\n",
      "  [10 11]]\n",
      "\n",
      " [[12 13]\n",
      "  [14 15]\n",
      "  [16 17]]\n",
      "\n",
      " [[18 19]\n",
      "  [20 21]\n",
      "  [22 23]]]\n"
     ]
    }
   ],
   "source": [
    "a = np.arange(4*3*2).reshape(4, 3, 2)\n",
    "print(a.shape)\n",
    "print(a)"
   ]
  },
  {
   "cell_type": "markdown",
   "metadata": {
    "id": "PMCM7DbFPzYo"
   },
   "source": [
    "#### Resizing"
   ]
  },
  {
   "cell_type": "code",
   "execution_count": null,
   "metadata": {
    "id": "aw-rP--SPzYo",
    "outputId": "d67fec94-45b2-47b1-8278-341f4272e2bc"
   },
   "outputs": [
    {
     "data": {
      "text/plain": [
       "array([0, 1, 2, 3, 0, 0, 0, 0])"
      ]
     },
     "execution_count": 163,
     "metadata": {
      "tags": []
     },
     "output_type": "execute_result"
    }
   ],
   "source": [
    "a = np.arange(4)\n",
    "a.resize((8,))\n",
    "a"
   ]
  },
  {
   "cell_type": "markdown",
   "metadata": {
    "id": "tDSWxfrFPzYq"
   },
   "source": [
    "#### note that array to be resized should not be assigned to another array"
   ]
  },
  {
   "cell_type": "code",
   "execution_count": null,
   "metadata": {
    "id": "Zd8tzIaOPzYs",
    "outputId": "ca330f71-318f-45a6-a015-b2ec5906ad34"
   },
   "outputs": [
    {
     "ename": "ValueError",
     "evalue": "cannot resize this array: it does not own its data",
     "output_type": "error",
     "traceback": [
      "\u001b[1;31m---------------------------------------------------------------------------\u001b[0m",
      "\u001b[1;31mValueError\u001b[0m                                Traceback (most recent call last)",
      "\u001b[1;32m<ipython-input-37-5d858401815e>\u001b[0m in \u001b[0;36m<module>\u001b[1;34m\u001b[0m\n\u001b[0;32m      1\u001b[0m \u001b[0mb\u001b[0m \u001b[1;33m=\u001b[0m \u001b[0ma\u001b[0m\u001b[1;33m\u001b[0m\u001b[1;33m\u001b[0m\u001b[0m\n\u001b[1;32m----> 2\u001b[1;33m \u001b[0ma\u001b[0m\u001b[1;33m.\u001b[0m\u001b[0mresize\u001b[0m\u001b[1;33m(\u001b[0m\u001b[1;33m(\u001b[0m\u001b[1;36m4\u001b[0m\u001b[1;33m,\u001b[0m\u001b[1;33m)\u001b[0m\u001b[1;33m)\u001b[0m\u001b[1;33m\u001b[0m\u001b[1;33m\u001b[0m\u001b[0m\n\u001b[0m",
      "\u001b[1;31mValueError\u001b[0m: cannot resize this array: it does not own its data"
     ]
    }
   ],
   "source": [
    "b = a\n",
    "a.resize((4,)) "
   ]
  },
  {
   "cell_type": "markdown",
   "metadata": {
    "id": "qGR0J8KfPzYu"
   },
   "source": [
    "#### Sorting data"
   ]
  },
  {
   "cell_type": "code",
   "execution_count": null,
   "metadata": {
    "id": "QFCyXaOfPzYv",
    "outputId": "7ea06e40-37fb-42be-e326-8623c08836b0"
   },
   "outputs": [
    {
     "name": "stdout",
     "output_type": "stream",
     "text": [
      "[10  9  8  7  6  5  4  3  2]\n",
      "[ 2  3  4  5  6  7  8  9 10]\n"
     ]
    }
   ],
   "source": [
    "a = np.arange(10,1,-1)\n",
    "print(a)\n",
    " \n",
    "a.sort() # in place \n",
    "print(a)"
   ]
  },
  {
   "cell_type": "code",
   "execution_count": null,
   "metadata": {
    "id": "fUYB_gBHPzYz",
    "outputId": "55ebfbb9-f126-4064-abfc-9f7cdadd61d7"
   },
   "outputs": [
    {
     "name": "stdout",
     "output_type": "stream",
     "text": [
      "[[5 4 6]\n",
      " [2 3 2]]\n",
      "\n",
      " [[4 5 6]\n",
      " [2 2 3]]\n"
     ]
    }
   ],
   "source": [
    "#Sorting along an axis:\n",
    "a = np.array([[5, 4, 6], [2, 3, 2]])\n",
    "print(a)\n",
    "b = np.sort(a, axis=1)\n",
    "print(\"\\n\",b)"
   ]
  },
  {
   "cell_type": "code",
   "execution_count": null,
   "metadata": {
    "id": "0Or4hOaAPzY1",
    "outputId": "cd3c60f6-8bab-4b44-bc46-b007af246037"
   },
   "outputs": [
    {
     "data": {
      "text/plain": [
       "array([2, 3, 1, 0], dtype=int64)"
      ]
     },
     "execution_count": 39,
     "metadata": {
      "tags": []
     },
     "output_type": "execute_result"
    }
   ],
   "source": [
    "#sorting with fancy indexing\n",
    "a = np.array([8, 5, 1, 4])\n",
    "             #0  1  2  3 \n",
    "\n",
    "        \n",
    "j = np.argsort(a) # returns positions of indices after sorting 1 was at 2nd index, 2 was at 3rd index\n",
    "j                 # 3 was at 1st index and 4 was at 0th index. Sorted array is [1,2,3,4] argsort gives\n",
    "                  # [2,3,1,0]"
   ]
  },
  {
   "cell_type": "code",
   "execution_count": null,
   "metadata": {
    "id": "-YWGO6wAPzY_",
    "outputId": "ad7a553d-eed8-4193-96fa-dc5a795afe57"
   },
   "outputs": [
    {
     "data": {
      "text/plain": [
       "array([1, 4, 5, 8])"
      ]
     },
     "execution_count": 40,
     "metadata": {
      "tags": []
     },
     "output_type": "execute_result"
    }
   ],
   "source": [
    "a[j] # as j is an array with sorted indices\n"
   ]
  }
 ],
 "metadata": {
  "colab": {
   "name": "2.NumPy_part-2.ipynb",
   "provenance": []
  },
  "kernelspec": {
   "display_name": "Python 3",
   "language": "python",
   "name": "python3"
  },
  "language_info": {
   "codemirror_mode": {
    "name": "ipython",
    "version": 3
   },
   "file_extension": ".py",
   "mimetype": "text/x-python",
   "name": "python",
   "nbconvert_exporter": "python",
   "pygments_lexer": "ipython3",
   "version": "3.7.6"
  }
 },
 "nbformat": 4,
 "nbformat_minor": 1
}
