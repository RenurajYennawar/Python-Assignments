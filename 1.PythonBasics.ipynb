{
 "cells": [
  {
   "cell_type": "markdown",
   "metadata": {},
   "source": [
    "# Python Basics"
   ]
  },
  {
   "cell_type": "markdown",
   "metadata": {},
   "source": [
    "Python has some predefined keywords. Just like C/C++ some header files are there, in python keywordlist is available. To access keywords we have to import keywords using \"import\" To print total number of keywords use \"len()\" function"
   ]
  },
  {
   "cell_type": "code",
   "execution_count": 1,
   "metadata": {},
   "outputs": [
    {
     "name": "stdout",
     "output_type": "stream",
     "text": [
      "['False', 'None', 'True', 'and', 'as', 'assert', 'async', 'await', 'break', 'class', 'continue', 'def', 'del', 'elif', 'else', 'except', 'finally', 'for', 'from', 'global', 'if', 'import', 'in', 'is', 'lambda', 'nonlocal', 'not', 'or', 'pass', 'raise', 'return', 'try', 'while', 'with', 'yield']\n",
      "35\n"
     ]
    }
   ],
   "source": [
    "import keyword\n",
    "print(keyword.kwlist)\n",
    "print(len(keyword.kwlist))"
   ]
  },
  {
   "cell_type": "markdown",
   "metadata": {},
   "source": [
    "# 1. Identifiers \n",
    "dentifier is the name given to entities like class, functions, variables etc. in Python. It helps differentiating one entity from another.\n",
    "Rules for Writing Identifiers:\n",
    "1. Identifiers can be a combination of letters in lowercase (a to z) or uppercase (A to Z) or digits (0 to 9) or an underscore (_).\n",
    "2. An identifier cannot start with a digit. 1variable is invalid, but variable1 is perfectly fine.\n",
    "3. Keywords cannot be used as identifiers\n",
    "4. We cannot use special symbols in identifiers like !,$,@,^,& etc."
   ]
  },
  {
   "cell_type": "code",
   "execution_count": null,
   "metadata": {},
   "outputs": [],
   "source": []
  },
  {
   "cell_type": "code",
   "execution_count": 2,
   "metadata": {},
   "outputs": [
    {
     "ename": "SyntaxError",
     "evalue": "invalid syntax (<ipython-input-2-cd47eb4fa50f>, line 1)",
     "output_type": "error",
     "traceback": [
      "\u001b[1;36m  File \u001b[1;32m\"<ipython-input-2-cd47eb4fa50f>\"\u001b[1;36m, line \u001b[1;32m1\u001b[0m\n\u001b[1;33m    9local = 90 #this gives error as identifier cannot start with number\u001b[0m\n\u001b[1;37m         ^\u001b[0m\n\u001b[1;31mSyntaxError\u001b[0m\u001b[1;31m:\u001b[0m invalid syntax\n"
     ]
    }
   ],
   "source": [
    "9local = 90 #this gives error as identifier cannot start with number\n",
    "_99number = 90 #this is valid as it starts with underscore\n",
    "in = 90.9 # Invalid as \"in\" is a keyword "
   ]
  },
  {
   "cell_type": "markdown",
   "metadata": {},
   "source": [
    "# 2. Python Comments\n",
    "1. Comments are lines that exist in computer programs that are ignored by compilers and interpreters.\n",
    "2. Including comments in programs makes code more readable for humans as it provides some information or explanation about what each part of a program is doing.\n",
    "3. In general, it is a good idea to write comments while you are writing or updating a program as it is easy to forget your thought process later on, and comments written later may be less useful in the long term.\n",
    "4. In Python, we use the hash (#) symbol to start writing a comment.\n"
   ]
  },
  {
   "cell_type": "code",
   "execution_count": 7,
   "metadata": {},
   "outputs": [
    {
     "name": "stdout",
     "output_type": "stream",
     "text": [
      "Hello World!\n"
     ]
    }
   ],
   "source": [
    "# this is to demonstrate comment in hello world\n",
    "print(\"Hello World!\")"
   ]
  },
  {
   "cell_type": "markdown",
   "metadata": {},
   "source": [
    "4. Multi-line comments"
   ]
  },
  {
   "cell_type": "code",
   "execution_count": 10,
   "metadata": {},
   "outputs": [
    {
     "name": "stdout",
     "output_type": "stream",
     "text": [
      "Hello World!\n"
     ]
    }
   ],
   "source": [
    "\"\"\"This is\n",
    "to demonstrate the use\n",
    "of multi line comments in \n",
    "Python\"\"\"\n",
    "print(\"Hello World!\")"
   ]
  },
  {
   "cell_type": "markdown",
   "metadata": {},
   "source": [
    "# 3. Python Indentation\n",
    "1. Most of the programming languages like C, C++, Java use braces { } to define a block of code. Python uses indentation.\n",
    "2. A code block (body of a function, loop etc.) starts with indentation and ends with the first unindented line. The amount of indentation is up to you, but it must be consistent throughout that block.\n",
    "3. Generally four whitespaces are used for indentation and is preferred over tabs.\n",
    "\n"
   ]
  },
  {
   "cell_type": "code",
   "execution_count": 5,
   "metadata": {},
   "outputs": [
    {
     "name": "stdout",
     "output_type": "stream",
     "text": [
      "0\n",
      "1\n",
      "2\n",
      "3\n",
      "4\n",
      "5\n",
      "6\n",
      "7\n",
      "8\n",
      "9\n",
      "100\n"
     ]
    }
   ],
   "source": [
    "for i in range(10):\n",
    "    print(i)# four white spaces are included. If you add/remove a single space also compiler throws error\n",
    "    print(100) #this print statement is not part of for loop because of no indentation\n"
   ]
  },
  {
   "cell_type": "markdown",
   "metadata": {},
   "source": [
    "# 4. Python Statement\n",
    "\n",
    " 1. Instructions that a Python interpreter can execute are called statements.\n",
    " \n",
    " Examples:\n"
   ]
  },
  {
   "cell_type": "code",
   "execution_count": 14,
   "metadata": {},
   "outputs": [],
   "source": [
    "a = 99 #this is statement"
   ]
  },
  {
   "cell_type": "markdown",
   "metadata": {},
   "source": [
    "In Python, end of a statement is marked by a newline character. But we can make a statement extend over multiple lines with the line continuation character ()."
   ]
  },
  {
   "cell_type": "code",
   "execution_count": 19,
   "metadata": {},
   "outputs": [
    {
     "name": "stdout",
     "output_type": "stream",
     "text": [
      "Before braces 36\n",
      "After braces 36\n"
     ]
    }
   ],
   "source": [
    "a = 1 + 2 + 3 + \\\n",
    "    4 + 5 + 6 + \\\n",
    "    7 + 8\n",
    "print(\"Before braces\", a)\n",
    "\n",
    "a = (1 + 2 + 3 + \n",
    "    4 + 5 + 6 + \n",
    "    7 + 8)\n",
    "print(\"After braces\", a)\n",
    "\n"
   ]
  },
  {
   "cell_type": "code",
   "execution_count": 20,
   "metadata": {},
   "outputs": [],
   "source": [
    "a = 10; b = 20; c = 30   #put multiple statements in a single line using ;"
   ]
  },
  {
   "cell_type": "markdown",
   "metadata": {},
   "source": [
    "# 5. Variables and data types in Python"
   ]
  },
  {
   "cell_type": "markdown",
   "metadata": {},
   "source": [
    "1. A variable is a location in memory used to store some data (value).\n",
    "2. They are given unique names to differentiate between different memory locations. The rules for writing a variable name is same as the rules for writing identifiers in Python.\n",
    "3. We don't need to declare a variable before using it. In Python, we simply assign a value to a variable and it will exist. We don't even have to declare the type of the variable. This is handled internally according to the type of value we assign to the variable."
   ]
  },
  {
   "cell_type": "code",
   "execution_count": 6,
   "metadata": {},
   "outputs": [
    {
     "name": "stdout",
     "output_type": "stream",
     "text": [
      "10\n",
      "5.5\n",
      "DL\n",
      "<class 'int'>\n"
     ]
    }
   ],
   "source": [
    "#We use the assignment operator (=) to assign values to a variable\n",
    "\n",
    "a = 10\n",
    "b = 5.5\n",
    "c = \"ML\"\n",
    "\n",
    "a, b, c = 10, 5.5, \"DL\" # this is an example of multiple assignments in single line\n",
    "print(a)\n",
    "print(b)\n",
    "print(c)\n",
    "\n",
    "print(type(a))"
   ]
  },
  {
   "cell_type": "markdown",
   "metadata": {},
   "source": [
    "# 6. Memory or storage location"
   ]
  },
  {
   "cell_type": "code",
   "execution_count": 7,
   "metadata": {},
   "outputs": [
    {
     "name": "stdout",
     "output_type": "stream",
     "text": [
      "When same values\n",
      "address of x is  8791535760464\n",
      "address of y is  8791535760464\n",
      "When different values\n",
      "address of x is  8791535763056\n",
      "address of y is  8791535760464\n",
      "address of z is  8791535763056\n"
     ]
    }
   ],
   "source": [
    "#print(id(c))   #print address of variable x like in C/C++ we use \"&\" operator\n",
    "\n",
    "x = 9\n",
    "y = 9\n",
    "print(\"When same values\")\n",
    "print(\"address of x is \", id(x))\n",
    "print(\"address of y is \", id(y))\n",
    "#Both x and y points to same memory as both have same value. Python tries to reuse memory.\n",
    "\n",
    "x = 90;\n",
    "print(\"When different values\")\n",
    "print(\"address of x is \", id(x))\n",
    "print(\"address of y is \", id(y))\n",
    "z = 90\n",
    "print(\"address of z is \", id(z))"
   ]
  },
  {
   "cell_type": "markdown",
   "metadata": {},
   "source": [
    "# 7. Data Types\n",
    "1. Every value in Python has a datatype. Since everything is an object in Python programming, data types are actually classes and variables are instance (object) of these classes.\n",
    "\n",
    "## Numbers\n",
    "\n",
    "1. Integers, floating point numbers and complex numbers falls under Python numbers category. They are defined as int, float and complex class in Python.\n",
    "2. We can use the type() function to know which class a variable or a value belongs to and the isinstance() function to check if an object belongs to a particular class.\n"
   ]
  },
  {
   "cell_type": "code",
   "execution_count": 46,
   "metadata": {},
   "outputs": [
    {
     "name": "stdout",
     "output_type": "stream",
     "text": [
      "Type of a is  <class 'int'>\n",
      "Type of b is  <class 'float'>\n",
      "Type of c is  <class 'str'>\n",
      "Type of d is  <class 'complex'>\n",
      "(1+2j)  is complex number?\n",
      "True\n"
     ]
    }
   ],
   "source": [
    "a = 8       #integer \n",
    "b = 8.7     #float\n",
    "c = \"char\"  #string\n",
    "d= 3 + 6j   #Complex\n",
    "print(\"Type of a is \", type(a))\n",
    "print(\"Type of b is \", type(b))\n",
    "print(\"Type of c is \", type(c))\n",
    "print(\"Type of d is \", type(d))\n",
    "\n",
    "a = 1 + 2j                          #data type is changed to complex number\n",
    "print(a, \" is complex number?\") \n",
    "print(isinstance(1+2j, complex))\n",
    "\n",
    "#isinstance() is  a fuction used to check type of a variable"
   ]
  },
  {
   "cell_type": "markdown",
   "metadata": {},
   "source": [
    "##  Boolean"
   ]
  },
  {
   "cell_type": "code",
   "execution_count": 49,
   "metadata": {},
   "outputs": [
    {
     "name": "stdout",
     "output_type": "stream",
     "text": [
      "<class 'bool'>\n"
     ]
    }
   ],
   "source": [
    "a = True  #takes only two values True or False Both \"True\" and \"False\" are keywords\n",
    "print(type(a))"
   ]
  },
  {
   "cell_type": "markdown",
   "metadata": {},
   "source": [
    "## Basic Data types used in Python\n",
    "### 7.1 String\n",
    "### 7.2 List\n",
    "### 7.3 Tuple\n",
    "### 7.4 Set\n",
    "### 7.5 Dictionary\n",
    "\n",
    " This  chapter just introduces these concepts. Seperate chapetrs are dedicated for each in upcoming sections"
   ]
  },
  {
   "cell_type": "markdown",
   "metadata": {},
   "source": [
    "## 7.1 Python Strings\n",
    "\n",
    "1. String is sequence of Unicode characters (Not ASCII)\n",
    "2. We can use single quotes or double quotes to represent strings.\n",
    "3. Multi-line strings can be denoted using triple quotes, ''' or \"\"\".\n",
    "4. A string in Python consists of a series or sequence of characters - letters, numbers, and special characters.\n",
    "5. Strings can be indexed - often synonymously called subscripted as well.\n",
    "6. Similar to C, the first character of a string has the index 0.\n"
   ]
  },
  {
   "cell_type": "code",
   "execution_count": 60,
   "metadata": {},
   "outputs": [
    {
     "name": "stdout",
     "output_type": "stream",
     "text": [
      "This is Basics of Python Course\n",
      "Length of String is  31\n",
      "Type of string is  <class 'str'>\n",
      "Start of string is  T  End of string is  e\n",
      "This is \n",
      "            an example of\n",
      "            multi-line sring\n",
      "            in p[ython\n"
     ]
    }
   ],
   "source": [
    "string = \"This is Basics of Python Course\" #string is stored using double quotes\n",
    "print(string)\n",
    "print(\"Length of String is \",len(string)) # Length of string can be retreived using len() function\n",
    "print(\"Type of string is \",type(string))  #this will print type of string\n",
    "print(\"Start of string is \",string[0],\" End of string is \",string[(len(string)-1)])\n",
    "#string index starts at 0 and ends at len(string)-1 \n",
    "\n",
    "string2 = \"\"\"This is \n",
    "            an example of\n",
    "            multi-line sring\n",
    "            in p[ython\"\"\"\n",
    "print(string2)"
   ]
  },
  {
   "cell_type": "code",
   "execution_count": 64,
   "metadata": {},
   "outputs": [
    {
     "name": "stdout",
     "output_type": "stream",
     "text": [
      "is Basics of Python Course\n",
      "is\n"
     ]
    }
   ],
   "source": [
    "#slicing of string  example \n",
    "\n",
    "print(string[5:]) #this statement prints string contents but starting from index 5 to end of string\n",
    "print(string[5:7])#this statement prints string contents but starting from index 5 to index 6"
   ]
  },
  {
   "cell_type": "code",
   "execution_count": 74,
   "metadata": {},
   "outputs": [
    {
     "name": "stdout",
     "output_type": "stream",
     "text": [
      "Last charactor is  e\n",
      "Second Last charactor is  s\n",
      "String from Second Last charactor is  se\n"
     ]
    }
   ],
   "source": [
    "# to print last value of the string use -1 as index\n",
    "#Eg. as follow\n",
    "print(\"Last charactor is \", string[-1])# this will print last charactor of the string\n",
    "print(\"Second Last charactor is \", string[-2])# this will print second last charactor of the string\n",
    "print(\"String from Second Last charactor is \", string[-2:])# this will print second last charactor of the string"
   ]
  },
  {
   "cell_type": "markdown",
   "metadata": {},
   "source": [
    "## 7.2 Python List\n",
    "1. List is an ordered sequence of items. It is one of the most used datatype in Python and is very flexible. All the items in a list do not need to be of the same type.\n",
    "2. Declaring a list is , Items separated by commas are enclosed within brackets [ ].\n",
    "3. Lists are mutable, meaning, value of elements of a list can be altered.\n",
    "4. Unlike arrays list can hold items of any type\n",
    "   Eg. Array holds all items of same type where list can hold items of different data type"
   ]
  },
  {
   "cell_type": "code",
   "execution_count": 9,
   "metadata": {},
   "outputs": [
    {
     "name": "stdout",
     "output_type": "stream",
     "text": [
      "Type of L is  <class 'list'>\n",
      "1\n",
      "2.3\n",
      "(3+5j)\n",
      "4\n",
      "Python\n",
      "99999\n"
     ]
    }
   ],
   "source": [
    "L = [1,2.3,3+5j,[4,5],\"Python\"]\n",
    "print(\"Type of L is \", type(L))\n",
    "#above list contains integer, float, complex, list and string elements\n",
    "print(L[0])\n",
    "print(L[1])\n",
    "print(L[2])\n",
    "print(L[3][0])\n",
    "print(L[4])\n",
    "\n",
    "#Lists are mutable means you can modify the data inside the list at any point of time\n",
    "L[3] = 99999\n",
    "\n",
    "print(L[3])\n"
   ]
  },
  {
   "cell_type": "markdown",
   "metadata": {},
   "source": [
    "## 7.3 Python Tuple\n",
    "\n",
    "1. Tuple is an ordered sequence of items same as list.\n",
    "2. The only difference is that tuples are immutable.\n",
    "3. Tuples once created cannot be modified. i.e. kind of constants\n",
    "4. Tuple uses round brackets to hold items ()\n"
   ]
  },
  {
   "cell_type": "code",
   "execution_count": 83,
   "metadata": {},
   "outputs": [
    {
     "name": "stdout",
     "output_type": "stream",
     "text": [
      "(3+5j)\n"
     ]
    },
    {
     "ename": "TypeError",
     "evalue": "'tuple' object does not support item assignment",
     "output_type": "error",
     "traceback": [
      "\u001b[1;31m---------------------------------------------------------------------------\u001b[0m",
      "\u001b[1;31mTypeError\u001b[0m                                 Traceback (most recent call last)",
      "\u001b[1;32m<ipython-input-83-e3533aec82ef>\u001b[0m in \u001b[0;36m<module>\u001b[1;34m\u001b[0m\n\u001b[0;32m      1\u001b[0m \u001b[0mT\u001b[0m \u001b[1;33m=\u001b[0m \u001b[1;33m(\u001b[0m\u001b[1;36m1\u001b[0m\u001b[1;33m,\u001b[0m\u001b[1;36m2.3\u001b[0m\u001b[1;33m,\u001b[0m\u001b[1;36m3\u001b[0m\u001b[1;33m+\u001b[0m\u001b[1;36m5j\u001b[0m\u001b[1;33m,\u001b[0m\u001b[1;33m[\u001b[0m\u001b[1;36m4\u001b[0m\u001b[1;33m,\u001b[0m\u001b[1;36m5\u001b[0m\u001b[1;33m]\u001b[0m\u001b[1;33m,\u001b[0m\u001b[1;34m\"Python\"\u001b[0m\u001b[1;33m)\u001b[0m\u001b[1;33m\u001b[0m\u001b[1;33m\u001b[0m\u001b[0m\n\u001b[0;32m      2\u001b[0m \u001b[0mprint\u001b[0m\u001b[1;33m(\u001b[0m\u001b[0mT\u001b[0m\u001b[1;33m[\u001b[0m\u001b[1;36m2\u001b[0m\u001b[1;33m]\u001b[0m\u001b[1;33m)\u001b[0m \u001b[1;31m#We can access tuple items\u001b[0m\u001b[1;33m\u001b[0m\u001b[1;33m\u001b[0m\u001b[0m\n\u001b[1;32m----> 3\u001b[1;33m \u001b[0mT\u001b[0m\u001b[1;33m[\u001b[0m\u001b[1;36m4\u001b[0m\u001b[1;33m]\u001b[0m \u001b[1;33m=\u001b[0m \u001b[1;36m0.78\u001b[0m \u001b[1;31m#We can't modify tuple intems\u001b[0m\u001b[1;33m\u001b[0m\u001b[1;33m\u001b[0m\u001b[0m\n\u001b[0m",
      "\u001b[1;31mTypeError\u001b[0m: 'tuple' object does not support item assignment"
     ]
    }
   ],
   "source": [
    "T = (1,2.3,3+5j,[4,5],\"Python\")\n",
    "print(T[2]) #We can access tuple items\n",
    "#T[4] = 0.78 #We can't modify tuple intems"
   ]
  },
  {
   "cell_type": "markdown",
   "metadata": {},
   "source": [
    "## 7.4 Python Set\n",
    "1. Set is an unordered collection of unique items. \n",
    "2. Set is defined by values separated by comma inside braces { }. \n",
    "3. Items in a set are not ordered.\n"
   ]
  },
  {
   "cell_type": "code",
   "execution_count": 89,
   "metadata": {},
   "outputs": [
    {
     "name": "stdout",
     "output_type": "stream",
     "text": [
      "{1, 99.9, 3, 5, 78, 'char'}\n",
      "<class 'set'>\n"
     ]
    },
    {
     "ename": "TypeError",
     "evalue": "'set' object does not support item assignment",
     "output_type": "error",
     "traceback": [
      "\u001b[1;31m---------------------------------------------------------------------------\u001b[0m",
      "\u001b[1;31mTypeError\u001b[0m                                 Traceback (most recent call last)",
      "\u001b[1;32m<ipython-input-89-57b6b6386f46>\u001b[0m in \u001b[0;36m<module>\u001b[1;34m\u001b[0m\n\u001b[0;32m      3\u001b[0m \u001b[0mprint\u001b[0m\u001b[1;33m(\u001b[0m\u001b[0mtype\u001b[0m\u001b[1;33m(\u001b[0m\u001b[0mS\u001b[0m\u001b[1;33m)\u001b[0m\u001b[1;33m)\u001b[0m \u001b[1;31m#Prints type od S\u001b[0m\u001b[1;33m\u001b[0m\u001b[1;33m\u001b[0m\u001b[0m\n\u001b[0;32m      4\u001b[0m \u001b[1;33m\u001b[0m\u001b[0m\n\u001b[1;32m----> 5\u001b[1;33m \u001b[0mS\u001b[0m\u001b[1;33m[\u001b[0m\u001b[1;36m4\u001b[0m\u001b[1;33m]\u001b[0m \u001b[1;33m=\u001b[0m \u001b[1;36m90\u001b[0m \u001b[1;31m#This statements throws an error as set is an unordered collection of items which doesnot support indesed access\u001b[0m\u001b[1;33m\u001b[0m\u001b[1;33m\u001b[0m\u001b[0m\n\u001b[0m",
      "\u001b[1;31mTypeError\u001b[0m: 'set' object does not support item assignment"
     ]
    }
   ],
   "source": [
    "S = {1,3,5,78,99.90,\"char\"} # Set example\n",
    "print(S) #Printing set elements\n",
    "print(type(S)) #Prints type od S\n",
    "\n",
    "S[4] = 90 #This statements throws an error as set is an unordered collection of items which doesnot support indesed access"
   ]
  },
  {
   "cell_type": "markdown",
   "metadata": {},
   "source": [
    "## 7.5 Python Dictionary\n",
    "1. Dictionary is an unordered collection of key-value pairs.\n",
    "2. In Python, dictionaries are defined within braces {} with each item being a pair in the form key:value. \n",
    "3. Key and value can be of any type.\n"
   ]
  },
  {
   "cell_type": "code",
   "execution_count": 95,
   "metadata": {},
   "outputs": [
    {
     "name": "stdout",
     "output_type": "stream",
     "text": [
      "apple\n",
      "cat\n",
      "Sixer\n"
     ]
    }
   ],
   "source": [
    "d = {'a': \"apple\", 'b': \"bat\", 6:\"Sixer\"}\n",
    "print(d['a'])\n",
    "d['b'] = \"cat\"\n",
    "print(d['b'])\n",
    "print(d[6])"
   ]
  },
  {
   "cell_type": "markdown",
   "metadata": {},
   "source": [
    "# 8. Conversion between Datatypes"
   ]
  },
  {
   "cell_type": "code",
   "execution_count": 10,
   "metadata": {},
   "outputs": [
    {
     "data": {
      "text/plain": [
       "100"
      ]
     },
     "execution_count": 10,
     "metadata": {},
     "output_type": "execute_result"
    }
   ],
   "source": [
    "int(100.6)   #convert float to integer using int() method"
   ]
  },
  {
   "cell_type": "code",
   "execution_count": 99,
   "metadata": {},
   "outputs": [
    {
     "data": {
      "text/plain": [
       "5.0"
      ]
     },
     "execution_count": 99,
     "metadata": {},
     "output_type": "execute_result"
    }
   ],
   "source": [
    "float(5)     #convert interger to float using float() method"
   ]
  },
  {
   "cell_type": "code",
   "execution_count": 101,
   "metadata": {},
   "outputs": [
    {
     "data": {
      "text/plain": [
       "'20'"
      ]
     },
     "execution_count": 101,
     "metadata": {},
     "output_type": "execute_result"
    }
   ],
   "source": [
    "str(20)      #convert integer to string"
   ]
  },
  {
   "cell_type": "code",
   "execution_count": 102,
   "metadata": {},
   "outputs": [
    {
     "ename": "ValueError",
     "evalue": "invalid literal for int() with base 10: '10p'",
     "output_type": "error",
     "traceback": [
      "\u001b[1;31m---------------------------------------------------------------------------\u001b[0m",
      "\u001b[1;31mValueError\u001b[0m                                Traceback (most recent call last)",
      "\u001b[1;32m<ipython-input-102-8bb83f613c14>\u001b[0m in \u001b[0;36m<module>\u001b[1;34m\u001b[0m\n\u001b[1;32m----> 1\u001b[1;33m \u001b[0mint\u001b[0m\u001b[1;33m(\u001b[0m\u001b[1;34m'10p'\u001b[0m\u001b[1;33m)\u001b[0m\u001b[1;33m\u001b[0m\u001b[1;33m\u001b[0m\u001b[0m\n\u001b[0m",
      "\u001b[1;31mValueError\u001b[0m: invalid literal for int() with base 10: '10p'"
     ]
    }
   ],
   "source": [
    "int('10p')"
   ]
  },
  {
   "cell_type": "code",
   "execution_count": 106,
   "metadata": {},
   "outputs": [
    {
     "name": "stdout",
     "output_type": "stream",
     "text": [
      "Python is used by 99 number of people\n"
     ]
    }
   ],
   "source": [
    "st = \"Python\"\n",
    "lines = 99\n",
    "print(st + \" is used by \" + str(lines) + \" number of people\")\n",
    "#here if you dont use str(lines) program throwas error. Because we are using strin concatenation \n",
    "#operator + in print statement"
   ]
  },
  {
   "cell_type": "code",
   "execution_count": 11,
   "metadata": {},
   "outputs": [
    {
     "name": "stdout",
     "output_type": "stream",
     "text": [
      "<class 'list'>\n",
      "<class 'set'>\n",
      "{1, 2, 3, 4}\n"
     ]
    }
   ],
   "source": [
    "L = [1,2,3,4,4,4] \n",
    "print(type(L)) #print type of L\n",
    "S = set(L)     #type of L is converted into set and stored in S\n",
    "print(type(S)) #print type of S\n",
    "#S[0] = 90      # This statement throws error asset is unordered \n",
    "print(S)"
   ]
  },
  {
   "cell_type": "code",
   "execution_count": 110,
   "metadata": {},
   "outputs": [
    {
     "data": {
      "text/plain": [
       "['H', 'e', 'l', 'l', 'o']"
      ]
     },
     "execution_count": 110,
     "metadata": {},
     "output_type": "execute_result"
    }
   ],
   "source": [
    "list(\"Hello\") # string is converted into list by using list() method"
   ]
  },
  {
   "cell_type": "markdown",
   "metadata": {},
   "source": [
    "# 9 Standard Input Output in Python\n",
    "1. We use the print() function to output data to the standard output device"
   ]
  },
  {
   "cell_type": "code",
   "execution_count": 117,
   "metadata": {},
   "outputs": [
    {
     "name": "stdout",
     "output_type": "stream",
     "text": [
      "Hello World\n",
      "The value of a is 10\n",
      "The value of a is 10\n"
     ]
    }
   ],
   "source": [
    "print(\"Hello World\")\n",
    "a = 10\n",
    "print(\"The value of a is\", a) #Prints a as an integer\n",
    "print(\"The value of a is \" + str(a)) # Prints a after type casting to string and concatenates using + operator\n",
    "\n",
    "print a # this statement used to work in earlier versions of python but parantheses are incldued in python 3"
   ]
  },
  {
   "cell_type": "markdown",
   "metadata": {},
   "source": [
    "## 9.1 Output Formatting\n",
    "1. String has a function called as format()\n",
    "2. By using this we can specify the output variables to be printed"
   ]
  },
  {
   "cell_type": "code",
   "execution_count": 126,
   "metadata": {},
   "outputs": [
    {
     "name": "stdout",
     "output_type": "stream",
     "text": [
      "The value of a is 10 and b is 20\n",
      "The value of a is 20 and b is 10\n",
      "My name is Nilesh and address is Pune\n",
      "The story of Bill, Manfred, and Georg\n"
     ]
    }
   ],
   "source": [
    "a = 10; b = 20 #multiple statements in single line.\n",
    "\n",
    "print(\"The value of a is {} and b is {}\".format(a, b))    #default\n",
    "\n",
    "print(\"The value of a is {1} and b is {0}\".format(a, b))    #we can specify order inside {} \n",
    "#inside format at index 0 a is present and at index 1 b is present\n",
    "\n",
    "print(\"My name is {name} and address is {address}\".format(name=\"Nilesh\", address=\"Pune\"))    \n",
    "#We can also pass keyword arguments as in format function and refer the identifiers in {}\n",
    "#here name is a keyword argument and \"Nilesh\" is the value that is replaced\n",
    "#here address is a keyword argument and \"Pune\" is the value that is replaced\n",
    "\n",
    "#we can combine positional arguments with keyword arguments\n",
    "print('The story of {0}, {1}, and {other}'.format('Bill', 'Manfred',other='Georg'))"
   ]
  },
  {
   "cell_type": "markdown",
   "metadata": {},
   "source": [
    "## 9.2 Python Input\n",
    "\n",
    "want to take the input from the user. In Python, we have the input() function to allow this.\n"
   ]
  },
  {
   "cell_type": "code",
   "execution_count": null,
   "metadata": {},
   "outputs": [],
   "source": [
    "val = input(int)\n",
    "print(val)"
   ]
  },
  {
   "cell_type": "markdown",
   "metadata": {},
   "source": [
    "# 10 Operators\n",
    "Operators are special symbols in Python that carry out arithmetic or logical computation. The value that the operator operates on is called the operand.\n",
    "### Operator Types\n",
    "1. Arithmetic operators\n",
    "2. Comparison (Relational) operators\n",
    "3. Logical (Boolean) operators\n",
    "4. Bitwise operators\n",
    "5. Assignment operators\n",
    "6. Special operators\n",
    "\n"
   ]
  },
  {
   "cell_type": "markdown",
   "metadata": {},
   "source": [
    "### 10.1 Arithmetic Operators\n",
    "\n",
    "Arithmetic operators are used to perform mathematical operations like addition, subtraction, multiplication etc.\n",
    "\n",
    "+ , -, *, /, %, //, **  are arithmetic operators"
   ]
  },
  {
   "cell_type": "code",
   "execution_count": 130,
   "metadata": {},
   "outputs": [
    {
     "name": "stdout",
     "output_type": "stream",
     "text": [
      "5\n"
     ]
    }
   ],
   "source": [
    "x, y = 100, 20\n",
    "\n",
    "#addition\n",
    "print(x // y)\n",
    "\n",
    "#subtraction(-)\n",
    "\n",
    "#multiplication(*)\n",
    "\n",
    "#division(/)\n",
    "\n",
    "#modulo division (%)\n",
    "\n",
    "#Floor Division (//)\n",
    "\n",
    "#Exponent (**)"
   ]
  },
  {
   "cell_type": "markdown",
   "metadata": {},
   "source": [
    "### 10.2 Comparison operators\n",
    "These are used to compare values. It either returns True or False according to the condition.\n",
    "\n",
    ">, <, ==, !=, >=, <= are comparision operators"
   ]
  },
  {
   "cell_type": "code",
   "execution_count": null,
   "metadata": {},
   "outputs": [],
   "source": [
    "a, b = 10, 20         \n",
    "\n",
    "print(a < b)  #check a is less than b\n",
    "\n",
    "#check a is greater than b\n",
    "\n",
    "#check a is equal to b\n",
    "\n",
    "#check a is not equal to b (!=)\n",
    "\n",
    "#check a greater than or equal to b\n",
    "\n",
    "#check a less than or equal to b"
   ]
  },
  {
   "cell_type": "markdown",
   "metadata": {},
   "source": [
    "### 10.3 Logical Operators\n",
    "\n",
    "Logical operators are and, or, not operators.\n"
   ]
  },
  {
   "cell_type": "code",
   "execution_count": 131,
   "metadata": {},
   "outputs": [
    {
     "name": "stdout",
     "output_type": "stream",
     "text": [
      "False\n"
     ]
    }
   ],
   "source": [
    "a, b = 89, 77\n",
    "\n",
    "#print a and b\n",
    "print(a and b)\n",
    "\n",
    "#print a or b\n",
    "\n",
    "#print not b"
   ]
  },
  {
   "cell_type": "markdown",
   "metadata": {},
   "source": [
    "### 10.4 Bitwise operators\n",
    "\n",
    "Bitwise operators act on operands as if they were string of binary digits. It operates bit by bit\n",
    "\n",
    "&,  |,  ~,  ^,  >>,  << are Bitwise operators"
   ]
  },
  {
   "cell_type": "code",
   "execution_count": 134,
   "metadata": {},
   "outputs": [
    {
     "name": "stdout",
     "output_type": "stream",
     "text": [
      "0\n",
      "OR 14\n",
      "NOT -11\n",
      "XOR 14\n",
      "rightshift 2\n",
      "leftshift 40\n"
     ]
    }
   ],
   "source": [
    "a, b = 10, 4\n",
    "\n",
    "#Bitwise AND\n",
    "print(a & b)\n",
    "\n",
    "#Bitwise OR\n",
    "print(\"OR\", a | b)\n",
    "\n",
    "#Bitwise NOT\n",
    "print(\"NOT\", ~a)\n",
    "\n",
    "#Bitwise XOR\n",
    "print(\"XOR\", a ^ b)\n",
    "\n",
    "#Bitwise rightshift\n",
    "print(\"rightshift\", a>>2)\n",
    "\n",
    "#Bitwise Leftshift\n",
    "print(\"leftshift\", a<<2)"
   ]
  },
  {
   "cell_type": "markdown",
   "metadata": {},
   "source": [
    "### 10.5 Assignment operators\n",
    "\n",
    "Assignment operators are used in Python to assign values to variables.\n",
    "\n",
    "a = 5 is a simple assignment operator that assigns the value 5 on the right to the variable a on the left.\n",
    "\n",
    "=,  +=,  -=,  *=,  /=,  %=,  //=,  **=, &=,  |=,  ^=,  >>=,  <<= are Assignment operators"
   ]
  },
  {
   "cell_type": "code",
   "execution_count": 136,
   "metadata": {},
   "outputs": [
    {
     "name": "stdout",
     "output_type": "stream",
     "text": [
      "20\n",
      "Floor Division 6\n"
     ]
    }
   ],
   "source": [
    "a = 10\n",
    "\n",
    "a += 10         #add AND\n",
    "print(a)\n",
    "\n",
    "#subtract AND (-=)\n",
    "\n",
    "#Multiply AND (*=)\n",
    "\n",
    "#Divide AND (/=)\n",
    "\n",
    "#Modulus AND (%=)\n",
    "\n",
    "#Floor Division (//=)\n",
    "a //= 3  \n",
    "print(\"Floor Division\",a)\n",
    "\n",
    "#Exponent AND (**=)\n"
   ]
  },
  {
   "cell_type": "markdown",
   "metadata": {},
   "source": [
    "### 10.6 Special Operators\n",
    "1. Identity Operators\n",
    "\n",
    "**is and is not** are the identity operators in Python.\n",
    "\n",
    "They are used to check if two values (or variables) are located on the same part of the memory.\n"
   ]
  },
  {
   "cell_type": "code",
   "execution_count": 141,
   "metadata": {},
   "outputs": [
    {
     "name": "stdout",
     "output_type": "stream",
     "text": [
      "True\n",
      "False\n",
      "False\n"
     ]
    }
   ],
   "source": [
    "a = 5\n",
    "b = 5\n",
    "print(a is b)    #5 is object created once both a and b points to same object\n",
    "\n",
    "#check is not\n",
    "\n",
    "print(a is not b)\n",
    "#in case of list if both are having same elements python doesnot perform memory optimization by pointing both \n",
    "# L1 and L2 points to same memory. This behaviour is true only for variables.\n",
    "L1 = [1,2,3]\n",
    "L2 = [1,2,3]\n",
    "print(L1 is L2)"
   ]
  },
  {
   "cell_type": "markdown",
   "metadata": {},
   "source": [
    "2. MemberShip Operators\n",
    "\n",
    "**in and not in** are the membership operators in Python. \n",
    "\n",
    "They are used to test whether a value or variable is found in a sequence (string, list, tuple, set and   dictionary)."
   ]
  },
  {
   "cell_type": "code",
   "execution_count": 142,
   "metadata": {},
   "outputs": [
    {
     "name": "stdout",
     "output_type": "stream",
     "text": [
      "True\n",
      "False\n"
     ]
    }
   ],
   "source": [
    "d = {1: \"a\", 2: \"b\"}\n",
    "print(1 in d)\n",
    "\n",
    "L = [1,2,3,4,5]\n",
    "print(6 in L)"
   ]
  },
  {
   "cell_type": "markdown",
   "metadata": {},
   "source": [
    "# 11 Control Flow: if else"
   ]
  },
  {
   "cell_type": "markdown",
   "metadata": {},
   "source": [
    "The **if…elif…else** statement is used in Python for decision making."
   ]
  },
  {
   "cell_type": "markdown",
   "metadata": {},
   "source": [
    "***if statement syntax***\n",
    "\n",
    "if test expression:\n",
    "\n",
    "    statement(s)\n",
    "    \n",
    "The program evaluates the test expression and will execute statement(s) only if the text expression is True.\n",
    "\n",
    "If the text expression is False, the statement(s) is not executed.\n",
    "\n",
    "Python interprets non-zero values as True. None and 0 are interpreted as False.\n"
   ]
  },
  {
   "cell_type": "markdown",
   "metadata": {},
   "source": [
    "## Example"
   ]
  },
  {
   "cell_type": "code",
   "execution_count": 6,
   "metadata": {},
   "outputs": [
    {
     "name": "stdout",
     "output_type": "stream",
     "text": [
      "Number is positive\n",
      "This will print always\n"
     ]
    }
   ],
   "source": [
    "num = 10\n",
    "# try 0, -1 and None\n",
    "if num>0:\n",
    "    print(\"Number is positive\") #indentation decides which statement to be considerd inside if condiition\n",
    "print(\"This will print always\")      #This print statement always print\n",
    "\n",
    "\n",
    "if num -10:\n",
    "    print(\"condition is 0 which is considered as false\") #This statemnt is not executed\n",
    "    # Every non zero value is taken as 1 it may be +ve or -ve\n",
    "#change number \n",
    "\n",
    "# 0 ,None, False are considered as false and everything else consiedred as true\n",
    "#Eg.\n",
    "if None:\n",
    "    print(\"None test\")"
   ]
  },
  {
   "cell_type": "markdown",
   "metadata": {},
   "source": [
    "## if...else statement "
   ]
  },
  {
   "cell_type": "markdown",
   "metadata": {},
   "source": [
    "Syntax:\n",
    "\n",
    "if test expression:\n",
    "\n",
    "    Body of if\n",
    "\n",
    "else: \n",
    "\n",
    "    Body of else"
   ]
  },
  {
   "cell_type": "code",
   "execution_count": 7,
   "metadata": {},
   "outputs": [
    {
     "name": "stdout",
     "output_type": "stream",
     "text": [
      "Number may be -ve or zero\n"
     ]
    }
   ],
   "source": [
    "num = -90\n",
    "\n",
    "if num > 0:\n",
    "    print(\"Number id +ve\")\n",
    "else:\n",
    "    print(\"Number may be -ve or zero\")"
   ]
  },
  {
   "cell_type": "markdown",
   "metadata": {},
   "source": [
    "## if..elif...else ladder "
   ]
  },
  {
   "cell_type": "markdown",
   "metadata": {},
   "source": [
    "if...elif...else Statement\n",
    "Syntax:\n",
    "\n",
    "if test expression:\n",
    "\n",
    "    Body of if\n",
    "elif test expression:\n",
    "\n",
    "    Body of elif\n",
    "else: \n",
    "\n",
    "    Body of else"
   ]
  },
  {
   "cell_type": "code",
   "execution_count": 8,
   "metadata": {},
   "outputs": [
    {
     "name": "stdout",
     "output_type": "stream",
     "text": [
      "Number is zero\n"
     ]
    }
   ],
   "source": [
    "num =0\n",
    "if num>0:\n",
    "    print(\"Number is +ve\")\n",
    "elif num == 0:\n",
    "    print(\"Number is zero\")\n",
    "else:\n",
    "    print(\"Number is -ve\")"
   ]
  },
  {
   "cell_type": "markdown",
   "metadata": {},
   "source": [
    "## Neste if statements"
   ]
  },
  {
   "cell_type": "markdown",
   "metadata": {},
   "source": [
    "We can have a if...elif...else statement inside another if...elif...else statement. This is called nesting in computer programming."
   ]
  },
  {
   "cell_type": "code",
   "execution_count": 9,
   "metadata": {},
   "outputs": [
    {
     "name": "stdout",
     "output_type": "stream",
     "text": [
      "Positive number\n"
     ]
    }
   ],
   "source": [
    "num = 10.5\n",
    "# if else ladder is almost same just focus on indentations\n",
    "if num >= 0:\n",
    "    if num == 0:\n",
    "        print(\"Zero\")\n",
    "    else:\n",
    "        print(\"Positive number\")\n",
    "else:\n",
    "    print(\"Negative Number\")"
   ]
  },
  {
   "cell_type": "markdown",
   "metadata": {},
   "source": [
    "## Python program to find the largest element among three Numbers"
   ]
  },
  {
   "cell_type": "code",
   "execution_count": 10,
   "metadata": {},
   "outputs": [
    {
     "name": "stdout",
     "output_type": "stream",
     "text": [
      "Largest element among three numbers is: 50\n"
     ]
    }
   ],
   "source": [
    "num1 = 10\n",
    "num2 = 50\n",
    "num3 = 15\n",
    "\n",
    "if (num1 >= num2) and (num1 >= num3):           #logical operator   and\n",
    "    largest = num1\n",
    "elif (num2 >= num1) and (num2 >= num3):\n",
    "    largest = num2\n",
    "else:\n",
    "    largest = num3\n",
    "print(\"Largest element among three numbers is: {}\".format(largest))"
   ]
  },
  {
   "cell_type": "markdown",
   "metadata": {},
   "source": [
    "# 12 Control Flow: while loop:\n",
    "The while loop in Python is used to iterate over a block of code as long as the test expression (condition) is true."
   ]
  },
  {
   "cell_type": "markdown",
   "metadata": {},
   "source": [
    "## Syntax:\n",
    "\n",
    "while test_expression:\n",
    "\n",
    "    Body of while\n",
    "\n",
    "The body of the loop is entered only if the test_expression evaluates to True.\n",
    "\n",
    "After one iteration, the test expression is checked again.\n",
    "\n",
    "This process continues until the test_expression evaluates to False.\n"
   ]
  },
  {
   "cell_type": "code",
   "execution_count": 12,
   "metadata": {},
   "outputs": [
    {
     "name": "stdout",
     "output_type": "stream",
     "text": [
      "Product is: 14400000\n"
     ]
    }
   ],
   "source": [
    "#Find product of all numbers present in a list\n",
    "\n",
    "lst = [10, 20, 30, 40, 60]\n",
    "\n",
    "product = 1 #initialized to 1 as identity in case of product\n",
    "index = 0\n",
    "\n",
    "while index < len(lst): # len(lst) returns length of list i.e. number of elements in list\n",
    "    product *= lst[index] # Compute running product\n",
    "    index += 1  # Increament of index variable \n",
    "\n",
    "print(\"Product is: {}\".format(product))\n"
   ]
  },
  {
   "cell_type": "markdown",
   "metadata": {},
   "source": [
    "## while loop with else"
   ]
  },
  {
   "cell_type": "markdown",
   "metadata": {},
   "source": [
    "1. Same as that of for loop, we can have an optional else block with while loop as well.\n",
    "2. The else part is executed if the condition in the while loop evaluates to False. \n",
    "3. The while loop can be terminated with a break statement.\n",
    "4. In such case, the else part is ignored. Hence, a while loop's else part runs if no break occurs and the condition is false.\n"
   ]
  },
  {
   "cell_type": "code",
   "execution_count": 15,
   "metadata": {},
   "outputs": [
    {
     "name": "stdout",
     "output_type": "stream",
     "text": [
      "1\n",
      "2\n",
      "3\n",
      "4\n",
      "5\n",
      "no item left in the list\n"
     ]
    }
   ],
   "source": [
    "numbers = [1, 2, 3,4,5]\n",
    "\n",
    "#iterating over the list\n",
    "index = 0\n",
    "while index < len(numbers):\n",
    "    print(numbers[index])\n",
    "    index += 1\n",
    "    \"\"\" if numbers[index] == 4: \n",
    "            break;\"\"\"\n",
    "    # if we use this if consition to break while loop else statment \n",
    "    # will not be executed as else only executed when while condition fails.\n",
    "    \n",
    "else: # Else part is executed only when condition is false in while\n",
    "    print(\"no item left in the list\")"
   ]
  },
  {
   "cell_type": "markdown",
   "metadata": {},
   "source": [
    "## Python program to check given number is prime or not"
   ]
  },
  {
   "cell_type": "code",
   "execution_count": 29,
   "metadata": {},
   "outputs": [
    {
     "name": "stdout",
     "output_type": "stream",
     "text": [
      "Enter number: 4\n",
      "number is not prime and divisible by 2\n",
      "End of Program\n"
     ]
    }
   ],
   "source": [
    "num = int(input(\"Enter number: \"))\n",
    "index = 2;\n",
    "flag = True;\n",
    "while(index <= num/2):\n",
    "    if num%index == 0:\n",
    "        flag = False\n",
    "        break;\n",
    "    index+= 1\n",
    "        \n",
    "if flag:\n",
    "    print(\"number is prime\")\n",
    "else:\n",
    "    print(\"number is not prime and divisible by {}\".format(index))\n",
    "print(\"End of Program\")"
   ]
  },
  {
   "cell_type": "markdown",
   "metadata": {},
   "source": [
    "# 13 Control Flow: for loop"
   ]
  },
  {
   "cell_type": "markdown",
   "metadata": {},
   "source": [
    "1. The for loop in Python is used to iterate over a sequence (list, tuple, string) or other iterable objects.\n",
    "2. Iterating over a sequence is called traversal.\n"
   ]
  },
  {
   "cell_type": "markdown",
   "metadata": {},
   "source": [
    "## Syntax:\n",
    "\n",
    "for element in sequence :\n",
    "\n",
    "    Body of for\n",
    "\n",
    "Here, element is the variable that takes the value of the item inside the sequence on each iteration.\n",
    "\n",
    "Loop continues until we reach the last item in the sequence.\n"
   ]
  },
  {
   "cell_type": "code",
   "execution_count": null,
   "metadata": {},
   "outputs": [],
   "source": [
    "lst = [99,98,97,96,95]\n",
    "\n",
    "for i in range(len(lst)):\n",
    "    print( i)\n",
    "for ele in lst:\n",
    "    print(ele)"
   ]
  },
  {
   "cell_type": "markdown",
   "metadata": {},
   "source": [
    "## range() function\n",
    "\n",
    "1. We can generate a sequence of numbers using range() function. range(10) will generate numbers from 0 to 9 (10 numbers).\n",
    "2. We can also define the start, stop and step size as range(start,stop,step size). step size defaults to 1 if not provided.\n",
    "3. This function does not store all the values in memory, it would be inefficient. So it remembers the start, stop, step size and generates the next number on the go.\n"
   ]
  },
  {
   "cell_type": "code",
   "execution_count": 34,
   "metadata": {},
   "outputs": [
    {
     "name": "stdout",
     "output_type": "stream",
     "text": [
      "10\n",
      "12\n",
      "14\n",
      "16\n",
      "18\n"
     ]
    }
   ],
   "source": [
    "for i in range(10,20,2): #here 10 is start, 20 is end (exclusive) and 2 is the step size\n",
    "    print(i) "
   ]
  },
  {
   "cell_type": "code",
   "execution_count": 35,
   "metadata": {},
   "outputs": [
    {
     "name": "stdout",
     "output_type": "stream",
     "text": [
      "satish\n",
      "srinu\n",
      "murali\n",
      "naveen\n",
      "bramha\n"
     ]
    }
   ],
   "source": [
    "lst = [\"satish\", \"srinu\", \"murali\", \"naveen\", \"bramha\"]\n",
    "\n",
    "#iterate over the list using index\n",
    "#for index in range(len(lst)):\n",
    "#    print(lst[index])\n",
    "for ele in lst:\n",
    "    print(ele)"
   ]
  },
  {
   "cell_type": "markdown",
   "metadata": {},
   "source": [
    "## for loop with else\n",
    "\n",
    "1. A for loop can have an optional else block as well. The else part is executed if the items in the sequence used in for loop exhausts.\n",
    "2. break statement can be used to stop a for loop. In such case, the else part is ignored.\n",
    "3. Hence, a for loop's else part runs if no break occurs."
   ]
  },
  {
   "cell_type": "code",
   "execution_count": 36,
   "metadata": {},
   "outputs": [
    {
     "name": "stdout",
     "output_type": "stream",
     "text": [
      "1\n",
      "2\n",
      "3\n",
      "no item left in the list\n"
     ]
    }
   ],
   "source": [
    "numbers = [1, 2, 3]\n",
    "\n",
    "#iterating over the list\n",
    "for item in numbers:\n",
    "    print(item)\n",
    "else:\n",
    "    print(\"no item left in the list\")"
   ]
  },
  {
   "cell_type": "code",
   "execution_count": 37,
   "metadata": {},
   "outputs": [
    {
     "name": "stdout",
     "output_type": "stream",
     "text": [
      "1\n",
      "2\n",
      "3\n"
     ]
    }
   ],
   "source": [
    "numbers = [1, 2, 3]\n",
    "\n",
    "#iterating over the list\n",
    "for item in numbers:\n",
    "    print(item)\n",
    "    if item == 2:\n",
    "        break; # here else statement will not be executed\n",
    "else:\n",
    "    print(\"no item left in the list\")"
   ]
  },
  {
   "cell_type": "markdown",
   "metadata": {},
   "source": [
    "## Program to display all prime numbers in given range"
   ]
  },
  {
   "cell_type": "code",
   "execution_count": 44,
   "metadata": {},
   "outputs": [
    {
     "name": "stdout",
     "output_type": "stream",
     "text": [
      "Mention start point0\n",
      "Mention end point32\n",
      "2\n",
      "3\n",
      "5\n",
      "7\n",
      "11\n",
      "13\n",
      "17\n",
      "19\n",
      "23\n",
      "29\n",
      "31\n"
     ]
    }
   ],
   "source": [
    "start = int(input(\"Mention start point\"))\n",
    "end = int(input(\"Mention end point\"))\n",
    "\n",
    "\n",
    "for num in range(start,end):\n",
    "    Flag = True\n",
    "    if num > 1:\n",
    "        for i in range(2, int(num/2 + 1)):\n",
    "            if num%i == 0:\n",
    "                Flag = False\n",
    "        if Flag:\n",
    "            print(num)"
   ]
  },
  {
   "cell_type": "markdown",
   "metadata": {},
   "source": [
    "# 14 Control Flow: break and continue"
   ]
  },
  {
   "cell_type": "markdown",
   "metadata": {},
   "source": [
    "1. In Python, break and continue statements can alter the flow of a normal loop.\n",
    "2. Loops iterate over a block of code until test expression is false, but sometimes we wish to terminate the current iteration or even the whole loop without cheking test expression.\n",
    "3. The break and continue statements are used in these cases."
   ]
  },
  {
   "cell_type": "code",
   "execution_count": 45,
   "metadata": {},
   "outputs": [
    {
     "name": "stdout",
     "output_type": "stream",
     "text": [
      "1\n",
      "2\n",
      "3\n",
      "Outside of for loop\n"
     ]
    }
   ],
   "source": [
    "numbers = [1, 2, 3, 4]\n",
    "for num in numbers:          #iterating over list\n",
    "    if num == 4:\n",
    "        break # due to break statement else statement will not be printed\n",
    "    print(num)\n",
    "else:\n",
    "    print(\"in the else-block\")\n",
    "print(\"Outside of for loop\")"
   ]
  },
  {
   "cell_type": "markdown",
   "metadata": {},
   "source": [
    "## Python Program to check given number is Prime number or not (using break)"
   ]
  },
  {
   "cell_type": "code",
   "execution_count": 46,
   "metadata": {},
   "outputs": [
    {
     "name": "stdout",
     "output_type": "stream",
     "text": [
      "Enter a number: 34\n",
      "34 is divisible by 2\n",
      "34 is NOT a Prime number\n"
     ]
    }
   ],
   "source": [
    "num = int(input(\"Enter a number: \"))        #convert string to int\n",
    "\n",
    "\n",
    "isDivisible = False;\n",
    "\n",
    "i=2;\n",
    "while i < num:\n",
    "    if num % i == 0:\n",
    "        isDivisible = True;\n",
    "        print (\"{} is divisible by {}\".format(num,i) )\n",
    "        break; # this line is the only addition.\n",
    "    i += 1;\n",
    "    \n",
    "if isDivisible:\n",
    "    print(\"{} is NOT a Prime number\".format(num))\n",
    "else:\n",
    "    print(\"{} is a Prime number\".format(num))"
   ]
  },
  {
   "cell_type": "markdown",
   "metadata": {},
   "source": [
    "## Python Continue Statement\n",
    "\n",
    "continue statement is used to skip the current iteration may be based on some condition"
   ]
  },
  {
   "cell_type": "code",
   "execution_count": 47,
   "metadata": {},
   "outputs": [
    {
     "name": "stdout",
     "output_type": "stream",
     "text": [
      "1\n",
      "3\n",
      "5\n",
      "else-block\n"
     ]
    }
   ],
   "source": [
    "#print odd numbers present in a list\n",
    "numbers = [1, 2, 3, 4, 5]\n",
    "\n",
    "for num in numbers:\n",
    "    if num % 2 == 0: # if this condition is satisfied then following statements are skipped only for current \n",
    "        continue     # iteration\n",
    "    print(num)\n",
    "else:\n",
    "    print(\"else-block\")"
   ]
  },
  {
   "cell_type": "markdown",
   "metadata": {},
   "source": [
    "# End of Python Basics"
   ]
  }
 ],
 "metadata": {
  "kernelspec": {
   "display_name": "Python 3",
   "language": "python",
   "name": "python3"
  },
  "language_info": {
   "codemirror_mode": {
    "name": "ipython",
    "version": 3
   },
   "file_extension": ".py",
   "mimetype": "text/x-python",
   "name": "python",
   "nbconvert_exporter": "python",
   "pygments_lexer": "ipython3",
   "version": "3.7.6"
  }
 },
 "nbformat": 4,
 "nbformat_minor": 2
}
