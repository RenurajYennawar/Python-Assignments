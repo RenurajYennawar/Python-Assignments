{
 "cells": [
  {
   "cell_type": "markdown",
   "metadata": {
    "colab_type": "text",
    "id": "UMj9FnXxjmwk"
   },
   "source": [
    "1. Range based for loop\n",
    "2. Conditioned while loop\n",
    "3. List based for loop"
   ]
  },
  {
   "cell_type": "markdown",
   "metadata": {
    "colab_type": "text",
    "id": "p8Oqtz6ZoV-O"
   },
   "source": [
    "1. repeated \n",
    "2. For While"
   ]
  },
  {
   "cell_type": "code",
   "execution_count": 11,
   "metadata": {
    "colab": {
     "base_uri": "https://localhost:8080/",
     "height": 72
    },
    "colab_type": "code",
    "id": "hYjB_n9Yoc9J",
    "outputId": "7f4fd52b-62e3-4d2f-dcae-816eccc4337f"
   },
   "outputs": [
    {
     "name": "stdout",
     "output_type": "stream",
     "text": [
      "Nilesh\n",
      "Nilesh\n",
      "Nilesh\n"
     ]
    }
   ],
   "source": [
    "print(\"Nilesh\")\n",
    "print(\"Nilesh\")\n",
    "print(\"Nilesh\")"
   ]
  },
  {
   "cell_type": "code",
   "execution_count": 16,
   "metadata": {
    "colab": {
     "base_uri": "https://localhost:8080/",
     "height": 35
    },
    "colab_type": "code",
    "id": "52io10qpo0fx",
    "outputId": "27f2a98a-cec7-43cb-c2a1-4125147fe15a"
   },
   "outputs": [
    {
     "name": "stdout",
     "output_type": "stream",
     "text": [
      "[10, 15, 20, 25, 30, 35, 40, 45, 50]\n"
     ]
    }
   ],
   "source": [
    "#range(start, end, step) #\n",
    "# Range of values from 'start' to 'end' with step size as 'step'\n",
    "range(10,21,1) # 10, 11, 12, 13 ....20\n",
    "range(10,21,2) # 10, 12, 14, 16, 18, 20\n",
    "\n",
    "range(100,201,10) # \n",
    "\n",
    "numbers = list(range(10,51,5))\n",
    "print(numbers)"
   ]
  },
  {
   "cell_type": "code",
   "execution_count": 27,
   "metadata": {
    "colab": {
     "base_uri": "https://localhost:8080/",
     "height": 108
    },
    "colab_type": "code",
    "id": "857RlaForZj8",
    "outputId": "07f3e99c-c82f-437d-9859-63b3738003f6"
   },
   "outputs": [
    {
     "name": "stdout",
     "output_type": "stream",
     "text": [
      "29\n",
      "27\n",
      "25\n",
      "23\n",
      "21\n"
     ]
    }
   ],
   "source": [
    "for ele in range(30,20,-1): # 0,1,2,3,4,5,6,7,8,9,10\n",
    "  if ele %2 != 0:\n",
    "    print(ele)\n",
    "# print all odd numbers from 20 to 30 in reverse order"
   ]
  },
  {
   "cell_type": "markdown",
   "metadata": {
    "colab_type": "text",
    "id": "ZepsCC5qgvJ9"
   },
   "source": [
    "1. Print First 10 natural numbers using while loop\n",
    "2. Print First 10 natural numbers using for loop\n",
    "3. Accept number from user and calculate the sum of all number between  1 and given number\n",
    "4. Print multiplication table of given number\n",
    "5. Given a number count the total number of digits in a number\n",
    "6. Reverse the following list using for loop\n",
    "7. Display -10 to -1 using for loop\n",
    "8. Use a loop to display elements from a given list which are present at even positions\n",
    "9. Display the cube of the number up to a given integer\n",
    "10. Write a function that takes a list of integers as a parameter and returns the max element in the list."
   ]
  },
  {
   "cell_type": "code",
   "execution_count": 29,
   "metadata": {
    "colab": {
     "base_uri": "https://localhost:8080/",
     "height": 199
    },
    "colab_type": "code",
    "id": "UuP2Wo0ciiAe",
    "outputId": "7265233a-1999-4606-e990-77968962f14b"
   },
   "outputs": [
    {
     "name": "stdout",
     "output_type": "stream",
     "text": [
      "0\n",
      "1\n",
      "2\n",
      "3\n",
      "4\n",
      "5\n",
      "6\n",
      "7\n",
      "8\n",
      "9\n"
     ]
    }
   ],
   "source": [
    "# Print First 10 natural numbers using for loop\n",
    "for ele in range(10):\n",
    "  print(ele)"
   ]
  },
  {
   "cell_type": "code",
   "execution_count": 36,
   "metadata": {
    "colab": {
     "base_uri": "https://localhost:8080/",
     "height": 90
    },
    "colab_type": "code",
    "id": "Ahbohd6GvQpg",
    "outputId": "8710a7d8-c4b0-4d25-8ed6-0fd0492c0b6f"
   },
   "outputs": [
    {
     "name": "stdout",
     "output_type": "stream",
     "text": [
      "Enter number50\n",
      "50\n",
      "<class 'int'>\n",
      "1275\n"
     ]
    }
   ],
   "source": [
    "# Accept number from user and calculate the sum of all number between 1 and given number\n",
    "# Eg 7\n",
    "# Output -> 1 + 2 + 3 + 4 + 5 + 6 + 7\n",
    "\n",
    "num = int(input(\"Enter number\"))\n",
    "print(num)\n",
    "print(type(num))\n",
    "sum = 0\n",
    "for n in range(1,num+1):\n",
    "  sum = sum + n\n",
    "  # sum     # n\n",
    "  # 0       # 1    updated sum = 0 + 1 = 1\n",
    "  # 1       # 2    updated sum = 1 + 2 = 3\n",
    "  # 3       # 3    updated sum = 3 + 3 = 6\n",
    "  # 6       # 4    updated sum = 6 + 4 = 10\n",
    "  # 10      # 5    updated sum = 10 + 5 = 15\n",
    "print(sum)"
   ]
  },
  {
   "cell_type": "code",
   "execution_count": 38,
   "metadata": {
    "colab": {
     "base_uri": "https://localhost:8080/",
     "height": 217
    },
    "colab_type": "code",
    "id": "LOx7CykuxyAE",
    "outputId": "3c720959-03be-4402-8e22-f737a5736752"
   },
   "outputs": [
    {
     "name": "stdout",
     "output_type": "stream",
     "text": [
      "Enter a number for which you want to print multiplication table: 23\n",
      "23 x 1 = 23\n",
      "23 x 2 = 46\n",
      "23 x 3 = 69\n",
      "23 x 4 = 92\n",
      "23 x 5 = 115\n",
      "23 x 6 = 138\n",
      "23 x 7 = 161\n",
      "23 x 8 = 184\n",
      "23 x 9 = 207\n",
      "23 x 10 = 230\n"
     ]
    }
   ],
   "source": [
    "# Print multiplication table of given number\n",
    "# 7 x 1 = 7\n",
    "# 7 x 2 = 14\n",
    "# 7 x 3 = 21\n",
    "# 7 x 4 = 28\n",
    "#....\n",
    "# 7 x 10 = 70\n",
    "\n",
    "# input - any number\n",
    "# output - multiplication table for that number\n",
    "\n",
    "num = int(input(\"Enter a number for which you want to print multiplication table: \"))\n",
    "\n",
    "for i in range(1,11,1):\n",
    "  print(\"{} x {} = {}\".format(num,i,num*i))\n"
   ]
  },
  {
   "cell_type": "code",
   "execution_count": 43,
   "metadata": {
    "colab": {
     "base_uri": "https://localhost:8080/",
     "height": 126
    },
    "colab_type": "code",
    "id": "LUpb-3nVzFxj",
    "outputId": "9f053c7f-89a1-438d-88cf-c3e94325342b"
   },
   "outputs": [
    {
     "name": "stdout",
     "output_type": "stream",
     "text": [
      "Enter number5\n",
      "0\n",
      "1\n",
      "2\n",
      "3\n",
      "4\n"
     ]
    }
   ],
   "source": [
    "# Given a number count the total number of digits in a number\n",
    "# Eg. 12\n",
    "# output - 2\n",
    "\n",
    "num = int(input(\"Enter number\"))\n",
    "for i in num:\n",
    "  print(i)\n",
    "\n",
    "#print(len(num))\n",
    "\n"
   ]
  },
  {
   "cell_type": "code",
   "execution_count": 46,
   "metadata": {
    "colab": {
     "base_uri": "https://localhost:8080/",
     "height": 54
    },
    "colab_type": "code",
    "id": "i56jhlXQ03KW",
    "outputId": "5bf68552-57a0-4534-c38f-76f08184e52f"
   },
   "outputs": [
    {
     "name": "stdout",
     "output_type": "stream",
     "text": [
      "enter a number9834\n",
      "4\n"
     ]
    }
   ],
   "source": [
    "x=input('enter a number')\n",
    "count=0\n",
    "for i in x:\n",
    "  count+=1\n",
    "print(count)"
   ]
  },
  {
   "cell_type": "code",
   "execution_count": 48,
   "metadata": {
    "colab": {
     "base_uri": "https://localhost:8080/",
     "height": 54
    },
    "colab_type": "code",
    "id": "Tt3oSKqF1ddz",
    "outputId": "50a12155-9a1f-4fcc-a8db-f08bc908d5d6"
   },
   "outputs": [
    {
     "name": "stdout",
     "output_type": "stream",
     "text": [
      "enter the number10834731894\n",
      "11\n"
     ]
    }
   ],
   "source": [
    "a= input(\"enter the number\")\n",
    "count=0\n",
    "for i in range(1,len(a)+1):\n",
    "  count+=1\n",
    "print(count)  "
   ]
  },
  {
   "cell_type": "code",
   "execution_count": 57,
   "metadata": {
    "colab": {
     "base_uri": "https://localhost:8080/",
     "height": 126
    },
    "colab_type": "code",
    "id": "4Y0A9WzZ1s1D",
    "outputId": "f4450330-fec8-4bbd-d0cc-e0876e18209e"
   },
   "outputs": [
    {
     "name": "stdout",
     "output_type": "stream",
     "text": [
      "6\n",
      "5\n",
      "4\n",
      "3\n",
      "2\n",
      "1\n"
     ]
    }
   ],
   "source": [
    "# Reverse the following list using for loop\n",
    "\n",
    "l = [1,2,3,4,5,6]\n",
    "\n",
    "for i in range(len(l)-1, -1,-1): # range(5,-1,-1)\n",
    "  print(l[i])"
   ]
  },
  {
   "cell_type": "code",
   "execution_count": 55,
   "metadata": {
    "colab": {
     "base_uri": "https://localhost:8080/",
     "height": 35
    },
    "colab_type": "code",
    "id": "EpSIoW7J2cfM",
    "outputId": "4d341133-7e68-48f5-b7b7-b600c69db380"
   },
   "outputs": [
    {
     "name": "stdout",
     "output_type": "stream",
     "text": [
      "[6, 5, 4, 3, 2, 1]\n"
     ]
    }
   ],
   "source": [
    "print(l[::-1])\n"
   ]
  },
  {
   "cell_type": "code",
   "execution_count": 58,
   "metadata": {
    "colab": {
     "base_uri": "https://localhost:8080/",
     "height": 126
    },
    "colab_type": "code",
    "id": "Umo8kELp3dY4",
    "outputId": "0fa9f412-2ea5-4b4e-b146-c307612889e5"
   },
   "outputs": [
    {
     "name": "stdout",
     "output_type": "stream",
     "text": [
      "Enter number5\n",
      "1\n",
      "8\n",
      "27\n",
      "64\n",
      "125\n"
     ]
    }
   ],
   "source": [
    "# Display the cube of the number up to a given integer\n",
    "# 6 1^3, 2^3, 3^3 ...6^3\n",
    "\n",
    "num = int(input(\"Enter number\"))\n",
    "\n",
    "for i in range(1,num+1,1):\n",
    "  print(i**3)\n"
   ]
  },
  {
   "cell_type": "code",
   "execution_count": 61,
   "metadata": {
    "colab": {
     "base_uri": "https://localhost:8080/",
     "height": 90
    },
    "colab_type": "code",
    "id": "Pbfjzqsp39bB",
    "outputId": "7b25e4dd-601f-49d6-f3fd-2df3ba62a9d5"
   },
   "outputs": [
    {
     "name": "stdout",
     "output_type": "stream",
     "text": [
      "Enter number1\n",
      "Enter number4\n",
      "Enter number5\n",
      "[1, 4, 5]\n"
     ]
    }
   ],
   "source": [
    "# Write a program takes a list of integers as a input and print the max element in the list.\n",
    "\n",
    "#L = [1,54,76,3,44,90,0]\n",
    "L =[]\n",
    "for i in range(3):\n",
    "  num = int(input(\"Enter number\"))\n",
    "  L.append(num)\n",
    "print(L)\n",
    "\n",
    "max = -1\n",
    "for i in L:\n",
    "  if max < ele:\n",
    "    max = ele\n",
    "print(max)"
   ]
  },
  {
   "cell_type": "code",
   "execution_count": 62,
   "metadata": {
    "colab": {
     "base_uri": "https://localhost:8080/",
     "height": 90
    },
    "colab_type": "code",
    "id": "mXeU06qz5-f5",
    "outputId": "191fed9a-7934-4c32-c7e9-24e92d06d3ac"
   },
   "outputs": [
    {
     "name": "stdout",
     "output_type": "stream",
     "text": [
      "Enter number1\n",
      "Enter number99\n",
      "Enter number0\n",
      "99\n"
     ]
    }
   ],
   "source": [
    "max = -1\n",
    "for i in range(3):\n",
    "  num = int(input(\"Enter number\"))\n",
    "  if max < num:\n",
    "    max = num\n",
    "print(max)"
   ]
  }
 ],
 "metadata": {
  "colab": {
   "collapsed_sections": [],
   "name": "Untitled11.ipynb",
   "provenance": []
  },
  "kernelspec": {
   "display_name": "Python 3",
   "language": "python",
   "name": "python3"
  },
  "language_info": {
   "codemirror_mode": {
    "name": "ipython",
    "version": 3
   },
   "file_extension": ".py",
   "mimetype": "text/x-python",
   "name": "python",
   "nbconvert_exporter": "python",
   "pygments_lexer": "ipython3",
   "version": "3.7.6"
  }
 },
 "nbformat": 4,
 "nbformat_minor": 1
}
